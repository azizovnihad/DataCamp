{
 "cells": [
  {
   "cell_type": "markdown",
   "metadata": {
    "toc": true
   },
   "source": [
    "<h1>Table of Contents<span class=\"tocSkip\"></span></h1>\n",
    "<div class=\"toc\"><ul class=\"toc-item\"><li><span><a href=\"#Data-ingestion-&amp;-inspection\" data-toc-modified-id=\"Data-ingestion-&amp;-inspection-1\"><span class=\"toc-item-num\">1&nbsp;&nbsp;</span><strong>Data ingestion &amp; inspection</strong></a></span><ul class=\"toc-item\"><li><span><a href=\"#DataFrame-data-types\" data-toc-modified-id=\"DataFrame-data-types-1.1\"><span class=\"toc-item-num\">1.1&nbsp;&nbsp;</span>DataFrame data types</a></span></li><li><span><a href=\"#NumPy-and-pandas-working-together\" data-toc-modified-id=\"NumPy-and-pandas-working-together-1.2\"><span class=\"toc-item-num\">1.2&nbsp;&nbsp;</span>NumPy and pandas working together</a></span></li><li><span><a href=\"#Zip-lists-to-build-a-DataFrame\" data-toc-modified-id=\"Zip-lists-to-build-a-DataFrame-1.3\"><span class=\"toc-item-num\">1.3&nbsp;&nbsp;</span>Zip lists to build a DataFrame</a></span></li><li><span><a href=\"#Labeling-your-data\" data-toc-modified-id=\"Labeling-your-data-1.4\"><span class=\"toc-item-num\">1.4&nbsp;&nbsp;</span>Labeling your data</a></span></li><li><span><a href=\"#Building-DataFrames-with-broadcasting\" data-toc-modified-id=\"Building-DataFrames-with-broadcasting-1.5\"><span class=\"toc-item-num\">1.5&nbsp;&nbsp;</span>Building DataFrames with broadcasting</a></span></li><li><span><a href=\"#Reading-a-flat-file\" data-toc-modified-id=\"Reading-a-flat-file-1.6\"><span class=\"toc-item-num\">1.6&nbsp;&nbsp;</span>Reading a flat file</a></span></li><li><span><a href=\"#Delimiters,-headers,-and-extensions\" data-toc-modified-id=\"Delimiters,-headers,-and-extensions-1.7\"><span class=\"toc-item-num\">1.7&nbsp;&nbsp;</span>Delimiters, headers, and extensions</a></span></li><li><span><a href=\"#Plotting-series-using-pandas\" data-toc-modified-id=\"Plotting-series-using-pandas-1.8\"><span class=\"toc-item-num\">1.8&nbsp;&nbsp;</span>Plotting series using pandas</a></span><ul class=\"toc-item\"><li><span><a href=\"#Saving-plots\" data-toc-modified-id=\"Saving-plots-1.8.1\"><span class=\"toc-item-num\">1.8.1&nbsp;&nbsp;</span>Saving plots</a></span></li></ul></li><li><span><a href=\"#Plotting-DataFrames\" data-toc-modified-id=\"Plotting-DataFrames-1.9\"><span class=\"toc-item-num\">1.9&nbsp;&nbsp;</span>Plotting DataFrames</a></span></li></ul></li><li><span><a href=\"#Exploratory-data-analysis\" data-toc-modified-id=\"Exploratory-data-analysis-2\"><span class=\"toc-item-num\">2&nbsp;&nbsp;</span><strong>Exploratory data analysis</strong></a></span><ul class=\"toc-item\"><li><span><a href=\"#Visual-exploratory-data-analysis\" data-toc-modified-id=\"Visual-exploratory-data-analysis-2.1\"><span class=\"toc-item-num\">2.1&nbsp;&nbsp;</span>Visual exploratory data analysis</a></span><ul class=\"toc-item\"><li><span><a href=\"#Scatter-plot\" data-toc-modified-id=\"Scatter-plot-2.1.1\"><span class=\"toc-item-num\">2.1.1&nbsp;&nbsp;</span>Scatter plot</a></span></li><li><span><a href=\"#Box-plot\" data-toc-modified-id=\"Box-plot-2.1.2\"><span class=\"toc-item-num\">2.1.2&nbsp;&nbsp;</span>Box plot</a></span></li><li><span><a href=\"#Histogram\" data-toc-modified-id=\"Histogram-2.1.3\"><span class=\"toc-item-num\">2.1.3&nbsp;&nbsp;</span>Histogram</a></span></li><li><span><a href=\"#Cumulative-distribution-function-(CDF)\" data-toc-modified-id=\"Cumulative-distribution-function-(CDF)-2.1.4\"><span class=\"toc-item-num\">2.1.4&nbsp;&nbsp;</span>Cumulative distribution function (CDF)</a></span></li></ul></li><li><span><a href=\"#pandas-scatter-plots\" data-toc-modified-id=\"pandas-scatter-plots-2.2\"><span class=\"toc-item-num\">2.2&nbsp;&nbsp;</span>pandas scatter plots</a></span><ul class=\"toc-item\"><li><span><a href=\"#Normalizing-data\" data-toc-modified-id=\"Normalizing-data-2.2.1\"><span class=\"toc-item-num\">2.2.1&nbsp;&nbsp;</span>Normalizing data</a></span></li><li><span><a href=\"#Plotting-a-scatter\" data-toc-modified-id=\"Plotting-a-scatter-2.2.2\"><span class=\"toc-item-num\">2.2.2&nbsp;&nbsp;</span>Plotting a scatter</a></span></li></ul></li><li><span><a href=\"#pandas-box-plots\" data-toc-modified-id=\"pandas-box-plots-2.3\"><span class=\"toc-item-num\">2.3&nbsp;&nbsp;</span>pandas box plots</a></span></li><li><span><a href=\"#pandas-hist,-pdf-and-cdf\" data-toc-modified-id=\"pandas-hist,-pdf-and-cdf-2.4\"><span class=\"toc-item-num\">2.4&nbsp;&nbsp;</span>pandas hist, pdf and cdf</a></span></li><li><span><a href=\"#Statistical-exploratory-data-analysis\" data-toc-modified-id=\"Statistical-exploratory-data-analysis-2.5\"><span class=\"toc-item-num\">2.5&nbsp;&nbsp;</span>Statistical exploratory data analysis</a></span><ul class=\"toc-item\"><li><span><a href=\"#Counts\" data-toc-modified-id=\"Counts-2.5.1\"><span class=\"toc-item-num\">2.5.1&nbsp;&nbsp;</span>Counts</a></span></li><li><span><a href=\"#Averages\" data-toc-modified-id=\"Averages-2.5.2\"><span class=\"toc-item-num\">2.5.2&nbsp;&nbsp;</span>Averages</a></span></li><li><span><a href=\"#Standart-deviations\" data-toc-modified-id=\"Standart-deviations-2.5.3\"><span class=\"toc-item-num\">2.5.3&nbsp;&nbsp;</span>Standart deviations</a></span></li><li><span><a href=\"#Medians\" data-toc-modified-id=\"Medians-2.5.4\"><span class=\"toc-item-num\">2.5.4&nbsp;&nbsp;</span>Medians</a></span></li><li><span><a href=\"#Medians-&amp;-0.5-quantiles\" data-toc-modified-id=\"Medians-&amp;-0.5-quantiles-2.5.5\"><span class=\"toc-item-num\">2.5.5&nbsp;&nbsp;</span>Medians &amp; 0.5 quantiles</a></span></li><li><span><a href=\"#Inter-quartile-range-(IQR)\" data-toc-modified-id=\"Inter-quartile-range-(IQR)-2.5.6\"><span class=\"toc-item-num\">2.5.6&nbsp;&nbsp;</span>Inter-quartile range (IQR)</a></span></li><li><span><a href=\"#Ranges\" data-toc-modified-id=\"Ranges-2.5.7\"><span class=\"toc-item-num\">2.5.7&nbsp;&nbsp;</span>Ranges</a></span></li><li><span><a href=\"#Box-plots\" data-toc-modified-id=\"Box-plots-2.5.8\"><span class=\"toc-item-num\">2.5.8&nbsp;&nbsp;</span>Box plots</a></span></li></ul></li><li><span><a href=\"#Bachelor's-degrees-awarded-to-women\" data-toc-modified-id=\"Bachelor's-degrees-awarded-to-women-2.6\"><span class=\"toc-item-num\">2.6&nbsp;&nbsp;</span>Bachelor's degrees awarded to women</a></span><ul class=\"toc-item\"><li><span><a href=\"#Mean-across-all-columns-per-row\" data-toc-modified-id=\"Mean-across-all-columns-per-row-2.6.1\"><span class=\"toc-item-num\">2.6.1&nbsp;&nbsp;</span>Mean across all columns per row</a></span></li></ul></li><li><span><a href=\"#Median-vs-mean\" data-toc-modified-id=\"Median-vs-mean-2.7\"><span class=\"toc-item-num\">2.7&nbsp;&nbsp;</span>Median vs mean</a></span></li><li><span><a href=\"#Quantiles\" data-toc-modified-id=\"Quantiles-2.8\"><span class=\"toc-item-num\">2.8&nbsp;&nbsp;</span>Quantiles</a></span></li><li><span><a href=\"#Standard-deviation-of-life-expectancy\" data-toc-modified-id=\"Standard-deviation-of-life-expectancy-2.9\"><span class=\"toc-item-num\">2.9&nbsp;&nbsp;</span>Standard deviation of life expectancy</a></span></li><li><span><a href=\"#Separating-populations\" data-toc-modified-id=\"Separating-populations-2.10\"><span class=\"toc-item-num\">2.10&nbsp;&nbsp;</span>Separating populations</a></span><ul class=\"toc-item\"><li><span><a href=\"#Describe-species-column\" data-toc-modified-id=\"Describe-species-column-2.10.1\"><span class=\"toc-item-num\">2.10.1&nbsp;&nbsp;</span>Describe species column</a></span></li><li><span><a href=\"#Unique-&amp;-factors\" data-toc-modified-id=\"Unique-&amp;-factors-2.10.2\"><span class=\"toc-item-num\">2.10.2&nbsp;&nbsp;</span>Unique &amp; factors</a></span></li><li><span><a href=\"#Filtering-by-species\" data-toc-modified-id=\"Filtering-by-species-2.10.3\"><span class=\"toc-item-num\">2.10.3&nbsp;&nbsp;</span>Filtering by species</a></span></li><li><span><a href=\"#Checking-species\" data-toc-modified-id=\"Checking-species-2.10.4\"><span class=\"toc-item-num\">2.10.4&nbsp;&nbsp;</span>Checking species</a></span></li><li><span><a href=\"#Visual-EDA\" data-toc-modified-id=\"Visual-EDA-2.10.5\"><span class=\"toc-item-num\">2.10.5&nbsp;&nbsp;</span>Visual EDA</a></span></li><li><span><a href=\"#Statistical-EDA:-describe()\" data-toc-modified-id=\"Statistical-EDA:-describe()-2.10.6\"><span class=\"toc-item-num\">2.10.6&nbsp;&nbsp;</span>Statistical EDA: describe()</a></span></li><li><span><a href=\"#Computing-errors\" data-toc-modified-id=\"Computing-errors-2.10.7\"><span class=\"toc-item-num\">2.10.7&nbsp;&nbsp;</span>Computing errors</a></span></li></ul></li></ul></li><li><span><a href=\"#Time-series-in-pandas\" data-toc-modified-id=\"Time-series-in-pandas-3\"><span class=\"toc-item-num\">3&nbsp;&nbsp;</span><strong>Time series in pandas</strong></a></span><ul class=\"toc-item\"><li><span><a href=\"#Product-sales-CSV\" data-toc-modified-id=\"Product-sales-CSV-3.1\"><span class=\"toc-item-num\">3.1&nbsp;&nbsp;</span>Product sales CSV</a></span><ul class=\"toc-item\"><li><span><a href=\"#Selecting-single-datetime\" data-toc-modified-id=\"Selecting-single-datetime-3.1.1\"><span class=\"toc-item-num\">3.1.1&nbsp;&nbsp;</span>Selecting single datetime</a></span></li><li><span><a href=\"#Partial-datetime-string-selection\" data-toc-modified-id=\"Partial-datetime-string-selection-3.1.2\"><span class=\"toc-item-num\">3.1.2&nbsp;&nbsp;</span>Partial datetime string selection</a></span></li><li><span><a href=\"#Convert-strings-to-datetime\" data-toc-modified-id=\"Convert-strings-to-datetime-3.1.3\"><span class=\"toc-item-num\">3.1.3&nbsp;&nbsp;</span>Convert strings to datetime</a></span></li><li><span><a href=\"#Reindexing-DataFrame\" data-toc-modified-id=\"Reindexing-DataFrame-3.1.4\"><span class=\"toc-item-num\">3.1.4&nbsp;&nbsp;</span>Reindexing DataFrame</a></span></li><li><span><a href=\"#Filling-missing-values\" data-toc-modified-id=\"Filling-missing-values-3.1.5\"><span class=\"toc-item-num\">3.1.5&nbsp;&nbsp;</span>Filling missing values</a></span></li></ul></li><li><span><a href=\"#Exercise\" data-toc-modified-id=\"Exercise-3.2\"><span class=\"toc-item-num\">3.2&nbsp;&nbsp;</span>Exercise</a></span><ul class=\"toc-item\"><li><span><a href=\"#Reading-and-slicing-times\" data-toc-modified-id=\"Reading-and-slicing-times-3.2.1\"><span class=\"toc-item-num\">3.2.1&nbsp;&nbsp;</span>Reading and slicing times</a></span></li></ul></li><li><span><a href=\"#Resampling-time-series-data\" data-toc-modified-id=\"Resampling-time-series-data-3.3\"><span class=\"toc-item-num\">3.3&nbsp;&nbsp;</span>Resampling time series data</a></span><ul class=\"toc-item\"><li><span><a href=\"#Resampling\" data-toc-modified-id=\"Resampling-3.3.1\"><span class=\"toc-item-num\">3.3.1&nbsp;&nbsp;</span>Resampling</a></span></li><li><span><a href=\"#Aggregating-means\" data-toc-modified-id=\"Aggregating-means-3.3.2\"><span class=\"toc-item-num\">3.3.2&nbsp;&nbsp;</span>Aggregating means</a></span></li><li><span><a href=\"#Verifying\" data-toc-modified-id=\"Verifying-3.3.3\"><span class=\"toc-item-num\">3.3.3&nbsp;&nbsp;</span>Verifying</a></span></li><li><span><a href=\"#Method-chaining\" data-toc-modified-id=\"Method-chaining-3.3.4\"><span class=\"toc-item-num\">3.3.4&nbsp;&nbsp;</span>Method chaining</a></span></li><li><span><a href=\"#Resampling-strings\" data-toc-modified-id=\"Resampling-strings-3.3.5\"><span class=\"toc-item-num\">3.3.5&nbsp;&nbsp;</span>Resampling strings</a></span></li><li><span><a href=\"#Resampling-frequencies\" data-toc-modified-id=\"Resampling-frequencies-3.3.6\"><span class=\"toc-item-num\">3.3.6&nbsp;&nbsp;</span>Resampling frequencies</a></span></li><li><span><a href=\"#Multiplying-frequencies\" data-toc-modified-id=\"Multiplying-frequencies-3.3.7\"><span class=\"toc-item-num\">3.3.7&nbsp;&nbsp;</span>Multiplying frequencies</a></span></li><li><span><a href=\"#Upsampling\" data-toc-modified-id=\"Upsampling-3.3.8\"><span class=\"toc-item-num\">3.3.8&nbsp;&nbsp;</span>Upsampling</a></span></li><li><span><a href=\"#Upsampling-and-filling\" data-toc-modified-id=\"Upsampling-and-filling-3.3.9\"><span class=\"toc-item-num\">3.3.9&nbsp;&nbsp;</span>Upsampling and filling</a></span></li></ul></li><li><span><a href=\"#Manipulating-time-series-data\" data-toc-modified-id=\"Manipulating-time-series-data-3.4\"><span class=\"toc-item-num\">3.4&nbsp;&nbsp;</span>Manipulating time series data</a></span><ul class=\"toc-item\"><li><span><a href=\"#Sales-data\" data-toc-modified-id=\"Sales-data-3.4.1\"><span class=\"toc-item-num\">3.4.1&nbsp;&nbsp;</span>Sales data</a></span></li><li><span><a href=\"#String-methods\" data-toc-modified-id=\"String-methods-3.4.2\"><span class=\"toc-item-num\">3.4.2&nbsp;&nbsp;</span>String methods</a></span><ul class=\"toc-item\"><li><span><a href=\"#Capitalize\" data-toc-modified-id=\"Capitalize-3.4.2.1\"><span class=\"toc-item-num\">3.4.2.1&nbsp;&nbsp;</span>Capitalize</a></span></li><li><span><a href=\"#Lowercase\" data-toc-modified-id=\"Lowercase-3.4.2.2\"><span class=\"toc-item-num\">3.4.2.2&nbsp;&nbsp;</span>Lowercase</a></span></li><li><span><a href=\"#Find-a-pattern\" data-toc-modified-id=\"Find-a-pattern-3.4.2.3\"><span class=\"toc-item-num\">3.4.2.3&nbsp;&nbsp;</span>Find a pattern</a></span></li><li><span><a href=\"#Substring-matching\" data-toc-modified-id=\"Substring-matching-3.4.2.4\"><span class=\"toc-item-num\">3.4.2.4&nbsp;&nbsp;</span>Substring matching</a></span></li></ul></li><li><span><a href=\"#Boolean-arithmetic\" data-toc-modified-id=\"Boolean-arithmetic-3.4.3\"><span class=\"toc-item-num\">3.4.3&nbsp;&nbsp;</span>Boolean arithmetic</a></span></li><li><span><a href=\"#Datetimelike-properties\" data-toc-modified-id=\"Datetimelike-properties-3.4.4\"><span class=\"toc-item-num\">3.4.4&nbsp;&nbsp;</span>Datetimelike properties</a></span><ul class=\"toc-item\"><li><span><a href=\"#Choose-a-certain-time\" data-toc-modified-id=\"Choose-a-certain-time-3.4.4.1\"><span class=\"toc-item-num\">3.4.4.1&nbsp;&nbsp;</span>Choose a certain time</a></span></li><li><span><a href=\"#Set-timezone\" data-toc-modified-id=\"Set-timezone-3.4.4.2\"><span class=\"toc-item-num\">3.4.4.2&nbsp;&nbsp;</span>Set timezone</a></span></li><li><span><a href=\"#Convert-timezone\" data-toc-modified-id=\"Convert-timezone-3.4.4.3\"><span class=\"toc-item-num\">3.4.4.3&nbsp;&nbsp;</span>Convert timezone</a></span></li><li><span><a href=\"#Method-chaining\" data-toc-modified-id=\"Method-chaining-3.4.4.4\"><span class=\"toc-item-num\">3.4.4.4&nbsp;&nbsp;</span>Method chaining</a></span></li></ul></li><li><span><a href=\"#World-population\" data-toc-modified-id=\"World-population-3.4.5\"><span class=\"toc-item-num\">3.4.5&nbsp;&nbsp;</span>World population</a></span><ul class=\"toc-item\"><li><span><a href=\"#Upsample-population\" data-toc-modified-id=\"Upsample-population-3.4.5.1\"><span class=\"toc-item-num\">3.4.5.1&nbsp;&nbsp;</span>Upsample population</a></span></li><li><span><a href=\"#Interpolate-missing-data\" data-toc-modified-id=\"Interpolate-missing-data-3.4.5.2\"><span class=\"toc-item-num\">3.4.5.2&nbsp;&nbsp;</span>Interpolate missing data</a></span></li></ul></li></ul></li></ul></li><li><span><a href=\"#Case-Study---Sunlight-in-Austin\" data-toc-modified-id=\"Case-Study---Sunlight-in-Austin-4\"><span class=\"toc-item-num\">4&nbsp;&nbsp;</span><strong>Case Study - Sunlight in Austin</strong></a></span></li></ul></div>"
   ]
  },
  {
   "cell_type": "markdown",
   "metadata": {},
   "source": [
    "# __Data ingestion & inspection__"
   ]
  },
  {
   "cell_type": "code",
   "execution_count": 1,
   "metadata": {},
   "outputs": [],
   "source": [
    "import numpy as np\n",
    "import pandas as pd \n",
    "import matplotlib.pyplot as plt \n",
    "import glob"
   ]
  },
  {
   "cell_type": "code",
   "execution_count": 2,
   "metadata": {},
   "outputs": [
    {
     "data": {
      "text/plain": [
       "['aapl.csv',\n",
       " 'austin_airport_departure_data_2015_july.csv',\n",
       " 'auto-mpg.csv',\n",
       " 'EISN_current.csv',\n",
       " 'iris.csv',\n",
       " 'life_expectancy_at_birth.csv',\n",
       " 'mpg.csv',\n",
       " 'percent-bachelors-degrees-women-usa.csv',\n",
       " 'sales-feb-2015.csv',\n",
       " 'sales-jan-2015.csv',\n",
       " 'sales-mar-2015.csv',\n",
       " 'sunspots.csv',\n",
       " 'tips.csv',\n",
       " 'titanic.csv',\n",
       " 'total_sunspot_numbers.csv',\n",
       " 'weather_data_austin_2010.csv',\n",
       " 'world_ind_pop_data.csv',\n",
       " 'world_population.csv']"
      ]
     },
     "execution_count": 2,
     "metadata": {},
     "output_type": "execute_result"
    }
   ],
   "source": [
    "pattern = '*.csv'\n",
    "match = glob.glob(pattern)\n",
    "match"
   ]
  },
  {
   "cell_type": "code",
   "execution_count": 3,
   "metadata": {},
   "outputs": [
    {
     "data": {
      "text/html": [
       "<div>\n",
       "<style scoped>\n",
       "    .dataframe tbody tr th:only-of-type {\n",
       "        vertical-align: middle;\n",
       "    }\n",
       "\n",
       "    .dataframe tbody tr th {\n",
       "        vertical-align: top;\n",
       "    }\n",
       "\n",
       "    .dataframe thead th {\n",
       "        text-align: right;\n",
       "    }\n",
       "</style>\n",
       "<table border=\"1\" class=\"dataframe\">\n",
       "  <thead>\n",
       "    <tr style=\"text-align: right;\">\n",
       "      <th></th>\n",
       "      <th>CountryName</th>\n",
       "      <th>CountryCode</th>\n",
       "      <th>Year</th>\n",
       "      <th>Total Population</th>\n",
       "      <th>Urban population (% of total)</th>\n",
       "    </tr>\n",
       "  </thead>\n",
       "  <tbody>\n",
       "    <tr>\n",
       "      <td>0</td>\n",
       "      <td>Arab World</td>\n",
       "      <td>ARB</td>\n",
       "      <td>1960</td>\n",
       "      <td>9.249590e+07</td>\n",
       "      <td>31.285384</td>\n",
       "    </tr>\n",
       "    <tr>\n",
       "      <td>1</td>\n",
       "      <td>Caribbean small states</td>\n",
       "      <td>CSS</td>\n",
       "      <td>1960</td>\n",
       "      <td>4.190810e+06</td>\n",
       "      <td>31.597490</td>\n",
       "    </tr>\n",
       "    <tr>\n",
       "      <td>2</td>\n",
       "      <td>Central Europe and the Baltics</td>\n",
       "      <td>CEB</td>\n",
       "      <td>1960</td>\n",
       "      <td>9.140158e+07</td>\n",
       "      <td>44.507921</td>\n",
       "    </tr>\n",
       "    <tr>\n",
       "      <td>3</td>\n",
       "      <td>East Asia &amp; Pacific (all income levels)</td>\n",
       "      <td>EAS</td>\n",
       "      <td>1960</td>\n",
       "      <td>1.042475e+09</td>\n",
       "      <td>22.471132</td>\n",
       "    </tr>\n",
       "    <tr>\n",
       "      <td>4</td>\n",
       "      <td>East Asia &amp; Pacific (developing only)</td>\n",
       "      <td>EAP</td>\n",
       "      <td>1960</td>\n",
       "      <td>8.964930e+08</td>\n",
       "      <td>16.917679</td>\n",
       "    </tr>\n",
       "  </tbody>\n",
       "</table>\n",
       "</div>"
      ],
      "text/plain": [
       "                               CountryName CountryCode  Year  \\\n",
       "0                               Arab World         ARB  1960   \n",
       "1                   Caribbean small states         CSS  1960   \n",
       "2           Central Europe and the Baltics         CEB  1960   \n",
       "3  East Asia & Pacific (all income levels)         EAS  1960   \n",
       "4    East Asia & Pacific (developing only)         EAP  1960   \n",
       "\n",
       "   Total Population  Urban population (% of total)  \n",
       "0      9.249590e+07                      31.285384  \n",
       "1      4.190810e+06                      31.597490  \n",
       "2      9.140158e+07                      44.507921  \n",
       "3      1.042475e+09                      22.471132  \n",
       "4      8.964930e+08                      16.917679  "
      ]
     },
     "execution_count": 3,
     "metadata": {},
     "output_type": "execute_result"
    }
   ],
   "source": [
    "df = pd.read_csv(match[-2])\n",
    "df.head()"
   ]
  },
  {
   "cell_type": "code",
   "execution_count": 4,
   "metadata": {
    "scrolled": true
   },
   "outputs": [
    {
     "data": {
      "text/html": [
       "<div>\n",
       "<style scoped>\n",
       "    .dataframe tbody tr th:only-of-type {\n",
       "        vertical-align: middle;\n",
       "    }\n",
       "\n",
       "    .dataframe tbody tr th {\n",
       "        vertical-align: top;\n",
       "    }\n",
       "\n",
       "    .dataframe thead th {\n",
       "        text-align: right;\n",
       "    }\n",
       "</style>\n",
       "<table border=\"1\" class=\"dataframe\">\n",
       "  <thead>\n",
       "    <tr style=\"text-align: right;\">\n",
       "      <th></th>\n",
       "      <th>CountryName</th>\n",
       "      <th>CountryCode</th>\n",
       "      <th>Year</th>\n",
       "      <th>Total Population</th>\n",
       "      <th>Urban population (% of total)</th>\n",
       "    </tr>\n",
       "  </thead>\n",
       "  <tbody>\n",
       "    <tr>\n",
       "      <td>13369</td>\n",
       "      <td>Virgin Islands (U.S.)</td>\n",
       "      <td>VIR</td>\n",
       "      <td>2014</td>\n",
       "      <td>104170.0</td>\n",
       "      <td>95.203</td>\n",
       "    </tr>\n",
       "    <tr>\n",
       "      <td>13370</td>\n",
       "      <td>West Bank and Gaza</td>\n",
       "      <td>WBG</td>\n",
       "      <td>2014</td>\n",
       "      <td>4294682.0</td>\n",
       "      <td>75.026</td>\n",
       "    </tr>\n",
       "    <tr>\n",
       "      <td>13371</td>\n",
       "      <td>Yemen, Rep.</td>\n",
       "      <td>YEM</td>\n",
       "      <td>2014</td>\n",
       "      <td>26183676.0</td>\n",
       "      <td>34.027</td>\n",
       "    </tr>\n",
       "    <tr>\n",
       "      <td>13372</td>\n",
       "      <td>Zambia</td>\n",
       "      <td>ZMB</td>\n",
       "      <td>2014</td>\n",
       "      <td>15721343.0</td>\n",
       "      <td>40.472</td>\n",
       "    </tr>\n",
       "    <tr>\n",
       "      <td>13373</td>\n",
       "      <td>Zimbabwe</td>\n",
       "      <td>ZWE</td>\n",
       "      <td>2014</td>\n",
       "      <td>15245855.0</td>\n",
       "      <td>32.501</td>\n",
       "    </tr>\n",
       "  </tbody>\n",
       "</table>\n",
       "</div>"
      ],
      "text/plain": [
       "                 CountryName CountryCode  Year  Total Population  \\\n",
       "13369  Virgin Islands (U.S.)         VIR  2014          104170.0   \n",
       "13370     West Bank and Gaza         WBG  2014         4294682.0   \n",
       "13371            Yemen, Rep.         YEM  2014        26183676.0   \n",
       "13372                 Zambia         ZMB  2014        15721343.0   \n",
       "13373               Zimbabwe         ZWE  2014        15245855.0   \n",
       "\n",
       "       Urban population (% of total)  \n",
       "13369                         95.203  \n",
       "13370                         75.026  \n",
       "13371                         34.027  \n",
       "13372                         40.472  \n",
       "13373                         32.501  "
      ]
     },
     "execution_count": 4,
     "metadata": {},
     "output_type": "execute_result"
    }
   ],
   "source": [
    "df.tail()"
   ]
  },
  {
   "cell_type": "code",
   "execution_count": 5,
   "metadata": {},
   "outputs": [
    {
     "data": {
      "text/plain": [
       "(13374, 5)"
      ]
     },
     "execution_count": 5,
     "metadata": {},
     "output_type": "execute_result"
    }
   ],
   "source": [
    "df.shape"
   ]
  },
  {
   "cell_type": "code",
   "execution_count": 6,
   "metadata": {},
   "outputs": [
    {
     "data": {
      "text/plain": [
       "Index(['CountryName', 'CountryCode', 'Year', 'Total Population',\n",
       "       'Urban population (% of total)'],\n",
       "      dtype='object')"
      ]
     },
     "execution_count": 6,
     "metadata": {},
     "output_type": "execute_result"
    }
   ],
   "source": [
    "df.columns"
   ]
  },
  {
   "cell_type": "code",
   "execution_count": 7,
   "metadata": {
    "scrolled": true
   },
   "outputs": [
    {
     "name": "stdout",
     "output_type": "stream",
     "text": [
      "<class 'pandas.core.frame.DataFrame'>\n",
      "RangeIndex: 13374 entries, 0 to 13373\n",
      "Data columns (total 5 columns):\n",
      "CountryName                      13374 non-null object\n",
      "CountryCode                      13374 non-null object\n",
      "Year                             13374 non-null int64\n",
      "Total Population                 13374 non-null float64\n",
      "Urban population (% of total)    13374 non-null float64\n",
      "dtypes: float64(2), int64(1), object(2)\n",
      "memory usage: 522.5+ KB\n"
     ]
    }
   ],
   "source": [
    "df.info()"
   ]
  },
  {
   "cell_type": "code",
   "execution_count": 8,
   "metadata": {
    "scrolled": true
   },
   "outputs": [
    {
     "data": {
      "text/html": [
       "<div>\n",
       "<style scoped>\n",
       "    .dataframe tbody tr th:only-of-type {\n",
       "        vertical-align: middle;\n",
       "    }\n",
       "\n",
       "    .dataframe tbody tr th {\n",
       "        vertical-align: top;\n",
       "    }\n",
       "\n",
       "    .dataframe thead th {\n",
       "        text-align: right;\n",
       "    }\n",
       "</style>\n",
       "<table border=\"1\" class=\"dataframe\">\n",
       "  <thead>\n",
       "    <tr style=\"text-align: right;\">\n",
       "      <th></th>\n",
       "      <th>Year</th>\n",
       "      <th>Total Population</th>\n",
       "      <th>Urban population (% of total)</th>\n",
       "    </tr>\n",
       "  </thead>\n",
       "  <tbody>\n",
       "    <tr>\n",
       "      <td>count</td>\n",
       "      <td>13374.000000</td>\n",
       "      <td>1.337400e+04</td>\n",
       "      <td>13374.000000</td>\n",
       "    </tr>\n",
       "    <tr>\n",
       "      <td>mean</td>\n",
       "      <td>1987.078884</td>\n",
       "      <td>1.436528e+08</td>\n",
       "      <td>48.878101</td>\n",
       "    </tr>\n",
       "    <tr>\n",
       "      <td>std</td>\n",
       "      <td>15.884693</td>\n",
       "      <td>5.529452e+08</td>\n",
       "      <td>24.794697</td>\n",
       "    </tr>\n",
       "    <tr>\n",
       "      <td>min</td>\n",
       "      <td>1960.000000</td>\n",
       "      <td>5.563000e+03</td>\n",
       "      <td>2.077000</td>\n",
       "    </tr>\n",
       "    <tr>\n",
       "      <td>25%</td>\n",
       "      <td>1973.000000</td>\n",
       "      <td>8.542475e+05</td>\n",
       "      <td>28.348500</td>\n",
       "    </tr>\n",
       "    <tr>\n",
       "      <td>50%</td>\n",
       "      <td>1987.000000</td>\n",
       "      <td>5.578022e+06</td>\n",
       "      <td>47.467000</td>\n",
       "    </tr>\n",
       "    <tr>\n",
       "      <td>75%</td>\n",
       "      <td>2001.000000</td>\n",
       "      <td>2.810208e+07</td>\n",
       "      <td>68.676250</td>\n",
       "    </tr>\n",
       "    <tr>\n",
       "      <td>max</td>\n",
       "      <td>2014.000000</td>\n",
       "      <td>7.260711e+09</td>\n",
       "      <td>100.000000</td>\n",
       "    </tr>\n",
       "  </tbody>\n",
       "</table>\n",
       "</div>"
      ],
      "text/plain": [
       "               Year  Total Population  Urban population (% of total)\n",
       "count  13374.000000      1.337400e+04                   13374.000000\n",
       "mean    1987.078884      1.436528e+08                      48.878101\n",
       "std       15.884693      5.529452e+08                      24.794697\n",
       "min     1960.000000      5.563000e+03                       2.077000\n",
       "25%     1973.000000      8.542475e+05                      28.348500\n",
       "50%     1987.000000      5.578022e+06                      47.467000\n",
       "75%     2001.000000      2.810208e+07                      68.676250\n",
       "max     2014.000000      7.260711e+09                     100.000000"
      ]
     },
     "execution_count": 8,
     "metadata": {},
     "output_type": "execute_result"
    }
   ],
   "source": [
    "df.describe()"
   ]
  },
  {
   "cell_type": "markdown",
   "metadata": {},
   "source": [
    "## DataFrame data types"
   ]
  },
  {
   "cell_type": "markdown",
   "metadata": {},
   "source": [
    "📌 Pandas is aware of the data types in the columns of your DataFrame. It is also aware of null and NaN ('Not-a-Number') types which often indicate missing data. In this exercise, we have imported pandas as pd and read the world population data into a DataFrame df which contains some NaN values — a value often used as a place-holder for missing or otherwise invalid data entries.\n",
    "\n",
    "Your job is to use df.info() to determine information about the total count of non-null entries and infer the total count of null entries, which likely indicates missing data."
   ]
  },
  {
   "cell_type": "code",
   "execution_count": 9,
   "metadata": {},
   "outputs": [
    {
     "name": "stdout",
     "output_type": "stream",
     "text": [
      "<class 'pandas.core.frame.DataFrame'>\n",
      "RangeIndex: 13374 entries, 0 to 13373\n",
      "Data columns (total 5 columns):\n",
      "CountryName                      13374 non-null object\n",
      "CountryCode                      13374 non-null object\n",
      "Year                             13374 non-null int64\n",
      "Total Population                 13374 non-null float64\n",
      "Urban population (% of total)    13374 non-null float64\n",
      "dtypes: float64(2), int64(1), object(2)\n",
      "memory usage: 522.5+ KB\n"
     ]
    }
   ],
   "source": [
    "df.info()"
   ]
  },
  {
   "cell_type": "markdown",
   "metadata": {},
   "source": [
    "## NumPy and pandas working together"
   ]
  },
  {
   "cell_type": "markdown",
   "metadata": {},
   "source": [
    "📌 _It's possible to use the DataFrame attribute .values to represent a DataFrame df as a NumPy array. You can also pass pandas data structures to NumPy methods_\n",
    "\n",
    "_You can also pass pandas data structures to NumPy methods. In this exercise, we have imported pandas as pd and loaded world population data every 10 years since 1960 into the DataFrame df. ._\n",
    "\n",
    "_Your job is to extract the values and store them in an array using the attribute .values. You'll then use those values as input into the NumPy np.log10() method to compute the base 10 logarithm of the population values. Finally, you will pass the entire pandas DataFrame into the same NumPy np.log10() method and compare the results._"
   ]
  },
  {
   "cell_type": "code",
   "execution_count": 10,
   "metadata": {},
   "outputs": [
    {
     "data": {
      "text/plain": [
       "array([92495902.,  4190810., 91401583., ..., 26183676., 15721343.,\n",
       "       15245855.])"
      ]
     },
     "execution_count": 10,
     "metadata": {},
     "output_type": "execute_result"
    }
   ],
   "source": [
    "np_vals = df['Total Population'].values\n",
    "np_vals"
   ]
  },
  {
   "cell_type": "code",
   "execution_count": 11,
   "metadata": {},
   "outputs": [
    {
     "data": {
      "text/plain": [
       "array([7.96612249, 6.62229797, 7.96095372, ..., 7.41803062, 7.19648964,\n",
       "       7.18315178])"
      ]
     },
     "execution_count": 11,
     "metadata": {},
     "output_type": "execute_result"
    }
   ],
   "source": [
    "np_vals_log10 = np.log10(np_vals)\n",
    "np_vals_log10"
   ]
  },
  {
   "cell_type": "code",
   "execution_count": 12,
   "metadata": {},
   "outputs": [
    {
     "name": "stdout",
     "output_type": "stream",
     "text": [
      "np_vals has type <class 'numpy.ndarray'>\n",
      "np_vals_log10 has type <class 'numpy.ndarray'>\n"
     ]
    },
    {
     "data": {
      "text/plain": [
       "[None, None]"
      ]
     },
     "execution_count": 12,
     "metadata": {},
     "output_type": "execute_result"
    }
   ],
   "source": [
    "[print (x, 'has type', type(eval(x))) for x in ['np_vals', 'np_vals_log10']]\n",
    "#how works eval(x)?"
   ]
  },
  {
   "cell_type": "markdown",
   "metadata": {},
   "source": [
    "## Zip lists to build a DataFrame"
   ]
  },
  {
   "cell_type": "code",
   "execution_count": 13,
   "metadata": {},
   "outputs": [
    {
     "data": {
      "text/plain": [
       "[('Country', ['United States', 'Soviet Union', 'United Kingdom']),\n",
       " ('Total', [1118, 473, 273])]"
      ]
     },
     "execution_count": 13,
     "metadata": {},
     "output_type": "execute_result"
    }
   ],
   "source": [
    "list_keys =  ['Country', 'Total']\n",
    "list_values = [['United States', 'Soviet Union', 'United Kingdom'], [1118, 473, 273]]\n",
    "zipped = list(zip(list_keys, list_values))\n",
    "zipped"
   ]
  },
  {
   "cell_type": "code",
   "execution_count": 14,
   "metadata": {},
   "outputs": [
    {
     "data": {
      "text/plain": [
       "{'Country': ['United States', 'Soviet Union', 'United Kingdom'],\n",
       " 'Total': [1118, 473, 273]}"
      ]
     },
     "execution_count": 14,
     "metadata": {},
     "output_type": "execute_result"
    }
   ],
   "source": [
    "# Build a dictionary with the zipped list: data\n",
    "data = dict(zipped)\n",
    "data"
   ]
  },
  {
   "cell_type": "code",
   "execution_count": 15,
   "metadata": {
    "scrolled": false
   },
   "outputs": [
    {
     "data": {
      "text/html": [
       "<div>\n",
       "<style scoped>\n",
       "    .dataframe tbody tr th:only-of-type {\n",
       "        vertical-align: middle;\n",
       "    }\n",
       "\n",
       "    .dataframe tbody tr th {\n",
       "        vertical-align: top;\n",
       "    }\n",
       "\n",
       "    .dataframe thead th {\n",
       "        text-align: right;\n",
       "    }\n",
       "</style>\n",
       "<table border=\"1\" class=\"dataframe\">\n",
       "  <thead>\n",
       "    <tr style=\"text-align: right;\">\n",
       "      <th></th>\n",
       "      <th>Country</th>\n",
       "      <th>Total</th>\n",
       "    </tr>\n",
       "  </thead>\n",
       "  <tbody>\n",
       "    <tr>\n",
       "      <td>0</td>\n",
       "      <td>United States</td>\n",
       "      <td>1118</td>\n",
       "    </tr>\n",
       "    <tr>\n",
       "      <td>1</td>\n",
       "      <td>Soviet Union</td>\n",
       "      <td>473</td>\n",
       "    </tr>\n",
       "    <tr>\n",
       "      <td>2</td>\n",
       "      <td>United Kingdom</td>\n",
       "      <td>273</td>\n",
       "    </tr>\n",
       "  </tbody>\n",
       "</table>\n",
       "</div>"
      ],
      "text/plain": [
       "          Country  Total\n",
       "0   United States   1118\n",
       "1    Soviet Union    473\n",
       "2  United Kingdom    273"
      ]
     },
     "execution_count": 15,
     "metadata": {},
     "output_type": "execute_result"
    }
   ],
   "source": [
    "# Build and inspect a DataFrame from the dictionary: df\n",
    "df_data = pd.DataFrame(data)\n",
    "df_data"
   ]
  },
  {
   "cell_type": "code",
   "execution_count": 16,
   "metadata": {
    "scrolled": true
   },
   "outputs": [
    {
     "data": {
      "text/html": [
       "<div>\n",
       "<style scoped>\n",
       "    .dataframe tbody tr th:only-of-type {\n",
       "        vertical-align: middle;\n",
       "    }\n",
       "\n",
       "    .dataframe tbody tr th {\n",
       "        vertical-align: top;\n",
       "    }\n",
       "\n",
       "    .dataframe thead th {\n",
       "        text-align: right;\n",
       "    }\n",
       "</style>\n",
       "<table border=\"1\" class=\"dataframe\">\n",
       "  <thead>\n",
       "    <tr style=\"text-align: right;\">\n",
       "      <th></th>\n",
       "      <th>Country</th>\n",
       "      <th>Total</th>\n",
       "      <th>Type</th>\n",
       "    </tr>\n",
       "  </thead>\n",
       "  <tbody>\n",
       "    <tr>\n",
       "      <td>0</td>\n",
       "      <td>United States</td>\n",
       "      <td>1118</td>\n",
       "      <td>country</td>\n",
       "    </tr>\n",
       "    <tr>\n",
       "      <td>1</td>\n",
       "      <td>Soviet Union</td>\n",
       "      <td>473</td>\n",
       "      <td>country</td>\n",
       "    </tr>\n",
       "    <tr>\n",
       "      <td>2</td>\n",
       "      <td>United Kingdom</td>\n",
       "      <td>273</td>\n",
       "      <td>country</td>\n",
       "    </tr>\n",
       "  </tbody>\n",
       "</table>\n",
       "</div>"
      ],
      "text/plain": [
       "          Country  Total     Type\n",
       "0   United States   1118  country\n",
       "1    Soviet Union    473  country\n",
       "2  United Kingdom    273  country"
      ]
     },
     "execution_count": 16,
     "metadata": {},
     "output_type": "execute_result"
    }
   ],
   "source": [
    "# Broadcasting data to entire column\n",
    "df_data['Type'] = 'country'\n",
    "df_data"
   ]
  },
  {
   "cell_type": "code",
   "execution_count": 17,
   "metadata": {},
   "outputs": [
    {
     "data": {
      "text/html": [
       "<div>\n",
       "<style scoped>\n",
       "    .dataframe tbody tr th:only-of-type {\n",
       "        vertical-align: middle;\n",
       "    }\n",
       "\n",
       "    .dataframe tbody tr th {\n",
       "        vertical-align: top;\n",
       "    }\n",
       "\n",
       "    .dataframe thead th {\n",
       "        text-align: right;\n",
       "    }\n",
       "</style>\n",
       "<table border=\"1\" class=\"dataframe\">\n",
       "  <thead>\n",
       "    <tr style=\"text-align: right;\">\n",
       "      <th></th>\n",
       "      <th>Countries</th>\n",
       "      <th>Total win</th>\n",
       "      <th>Kind</th>\n",
       "    </tr>\n",
       "  </thead>\n",
       "  <tbody>\n",
       "    <tr>\n",
       "      <td>US</td>\n",
       "      <td>United States</td>\n",
       "      <td>1118</td>\n",
       "      <td>country</td>\n",
       "    </tr>\n",
       "    <tr>\n",
       "      <td>USSR</td>\n",
       "      <td>Soviet Union</td>\n",
       "      <td>473</td>\n",
       "      <td>country</td>\n",
       "    </tr>\n",
       "    <tr>\n",
       "      <td>UK</td>\n",
       "      <td>United Kingdom</td>\n",
       "      <td>273</td>\n",
       "      <td>country</td>\n",
       "    </tr>\n",
       "  </tbody>\n",
       "</table>\n",
       "</div>"
      ],
      "text/plain": [
       "           Countries  Total win     Kind\n",
       "US     United States       1118  country\n",
       "USSR    Soviet Union        473  country\n",
       "UK    United Kingdom        273  country"
      ]
     },
     "execution_count": 17,
     "metadata": {},
     "output_type": "execute_result"
    }
   ],
   "source": [
    "# Index and columns \n",
    "df_data.index = ['US', 'USSR', 'UK']\n",
    "df_data.columns = ['Countries', 'Total win', 'Kind'] \n",
    "df_data"
   ]
  },
  {
   "cell_type": "markdown",
   "metadata": {},
   "source": [
    "## Labeling your data"
   ]
  },
  {
   "cell_type": "code",
   "execution_count": 18,
   "metadata": {},
   "outputs": [
    {
     "data": {
      "text/html": [
       "<div>\n",
       "<style scoped>\n",
       "    .dataframe tbody tr th:only-of-type {\n",
       "        vertical-align: middle;\n",
       "    }\n",
       "\n",
       "    .dataframe tbody tr th {\n",
       "        vertical-align: top;\n",
       "    }\n",
       "\n",
       "    .dataframe thead th {\n",
       "        text-align: right;\n",
       "    }\n",
       "</style>\n",
       "<table border=\"1\" class=\"dataframe\">\n",
       "  <thead>\n",
       "    <tr style=\"text-align: right;\">\n",
       "      <th></th>\n",
       "      <th>a</th>\n",
       "      <th>b</th>\n",
       "      <th>c</th>\n",
       "    </tr>\n",
       "  </thead>\n",
       "  <tbody>\n",
       "    <tr>\n",
       "      <td>0</td>\n",
       "      <td>1980</td>\n",
       "      <td>1981</td>\n",
       "      <td>1982</td>\n",
       "    </tr>\n",
       "    <tr>\n",
       "      <td>1</td>\n",
       "      <td>Blondie</td>\n",
       "      <td>Christopher Cross</td>\n",
       "      <td>Joan Jett</td>\n",
       "    </tr>\n",
       "    <tr>\n",
       "      <td>2</td>\n",
       "      <td>Call Me</td>\n",
       "      <td>Arthur's Theme</td>\n",
       "      <td>I Love Rock and Roll</td>\n",
       "    </tr>\n",
       "    <tr>\n",
       "      <td>3</td>\n",
       "      <td>6</td>\n",
       "      <td>3</td>\n",
       "      <td>7</td>\n",
       "    </tr>\n",
       "  </tbody>\n",
       "</table>\n",
       "</div>"
      ],
      "text/plain": [
       "         a                  b                     c\n",
       "0     1980               1981                  1982\n",
       "1  Blondie  Christopher Cross             Joan Jett\n",
       "2  Call Me     Arthur's Theme  I Love Rock and Roll\n",
       "3        6                  3                     7"
      ]
     },
     "execution_count": 18,
     "metadata": {},
     "output_type": "execute_result"
    }
   ],
   "source": [
    "chart = {'a': ['1980', 'Blondie', 'Call Me', '6'],\n",
    "         'b': ['1981', 'Christopher Cross', \"Arthur's Theme\", '3'],\n",
    "         'c': ['1982', 'Joan Jett', 'I Love Rock and Roll', '7']}\n",
    "df_chart = pd.DataFrame(chart)\n",
    "df_chart"
   ]
  },
  {
   "cell_type": "code",
   "execution_count": 19,
   "metadata": {},
   "outputs": [
    {
     "data": {
      "text/plain": [
       "[('a', ['1980', 'Blondie', 'Call Me', '6']),\n",
       " ('b', ['1981', 'Christopher Cross', \"Arthur's Theme\", '3']),\n",
       " ('c', ['1982', 'Joan Jett', 'I Love Rock and Roll', '7'])]"
      ]
     },
     "execution_count": 19,
     "metadata": {},
     "output_type": "execute_result"
    }
   ],
   "source": [
    "x = ['1980', 'Blondie', 'Call Me', '6']\n",
    "y = ['1981', 'Christopher Cross', \"Arthur's Theme\", '3']\n",
    "z = ['1982', 'Joan Jett', 'I Love Rock and Roll', '7']\n",
    "keys = ['a','b','c','d']\n",
    "values = [x, y, z]\n",
    "zipping = list(zip(keys, values))\n",
    "zipping"
   ]
  },
  {
   "cell_type": "code",
   "execution_count": 20,
   "metadata": {},
   "outputs": [
    {
     "data": {
      "text/plain": [
       "{'a': ['1980', 'Blondie', 'Call Me', '6'],\n",
       " 'b': ['1981', 'Christopher Cross', \"Arthur's Theme\", '3'],\n",
       " 'c': ['1982', 'Joan Jett', 'I Love Rock and Roll', '7']}"
      ]
     },
     "execution_count": 20,
     "metadata": {},
     "output_type": "execute_result"
    }
   ],
   "source": [
    "chart_dict = dict(zipping)\n",
    "chart_dict"
   ]
  },
  {
   "cell_type": "code",
   "execution_count": 21,
   "metadata": {},
   "outputs": [
    {
     "data": {
      "text/html": [
       "<div>\n",
       "<style scoped>\n",
       "    .dataframe tbody tr th:only-of-type {\n",
       "        vertical-align: middle;\n",
       "    }\n",
       "\n",
       "    .dataframe tbody tr th {\n",
       "        vertical-align: top;\n",
       "    }\n",
       "\n",
       "    .dataframe thead th {\n",
       "        text-align: right;\n",
       "    }\n",
       "</style>\n",
       "<table border=\"1\" class=\"dataframe\">\n",
       "  <thead>\n",
       "    <tr style=\"text-align: right;\">\n",
       "      <th></th>\n",
       "      <th>0</th>\n",
       "      <th>1</th>\n",
       "      <th>2</th>\n",
       "      <th>3</th>\n",
       "    </tr>\n",
       "  </thead>\n",
       "  <tbody>\n",
       "    <tr>\n",
       "      <td>a</td>\n",
       "      <td>1980</td>\n",
       "      <td>Blondie</td>\n",
       "      <td>Call Me</td>\n",
       "      <td>6</td>\n",
       "    </tr>\n",
       "    <tr>\n",
       "      <td>b</td>\n",
       "      <td>1981</td>\n",
       "      <td>Christopher Cross</td>\n",
       "      <td>Arthur's Theme</td>\n",
       "      <td>3</td>\n",
       "    </tr>\n",
       "    <tr>\n",
       "      <td>c</td>\n",
       "      <td>1982</td>\n",
       "      <td>Joan Jett</td>\n",
       "      <td>I Love Rock and Roll</td>\n",
       "      <td>7</td>\n",
       "    </tr>\n",
       "  </tbody>\n",
       "</table>\n",
       "</div>"
      ],
      "text/plain": [
       "      0                  1                     2  3\n",
       "a  1980            Blondie               Call Me  6\n",
       "b  1981  Christopher Cross        Arthur's Theme  3\n",
       "c  1982          Joan Jett  I Love Rock and Roll  7"
      ]
     },
     "execution_count": 21,
     "metadata": {},
     "output_type": "execute_result"
    }
   ],
   "source": [
    "# pandas.DataFrame.from_dict\n",
    "\n",
    "chart_df = pd.DataFrame.from_dict(chart_dict, orient = 'index')\n",
    "chart_df"
   ]
  },
  {
   "cell_type": "code",
   "execution_count": 22,
   "metadata": {},
   "outputs": [
    {
     "data": {
      "text/html": [
       "<div>\n",
       "<style scoped>\n",
       "    .dataframe tbody tr th:only-of-type {\n",
       "        vertical-align: middle;\n",
       "    }\n",
       "\n",
       "    .dataframe tbody tr th {\n",
       "        vertical-align: top;\n",
       "    }\n",
       "\n",
       "    .dataframe thead th {\n",
       "        text-align: right;\n",
       "    }\n",
       "</style>\n",
       "<table border=\"1\" class=\"dataframe\">\n",
       "  <thead>\n",
       "    <tr style=\"text-align: right;\">\n",
       "      <th></th>\n",
       "      <th>year</th>\n",
       "      <th>artist</th>\n",
       "      <th>song</th>\n",
       "      <th>chart weeks</th>\n",
       "    </tr>\n",
       "  </thead>\n",
       "  <tbody>\n",
       "    <tr>\n",
       "      <td>a</td>\n",
       "      <td>1980</td>\n",
       "      <td>Blondie</td>\n",
       "      <td>Call Me</td>\n",
       "      <td>6</td>\n",
       "    </tr>\n",
       "    <tr>\n",
       "      <td>b</td>\n",
       "      <td>1981</td>\n",
       "      <td>Christopher Cross</td>\n",
       "      <td>Arthur's Theme</td>\n",
       "      <td>3</td>\n",
       "    </tr>\n",
       "    <tr>\n",
       "      <td>c</td>\n",
       "      <td>1982</td>\n",
       "      <td>Joan Jett</td>\n",
       "      <td>I Love Rock and Roll</td>\n",
       "      <td>7</td>\n",
       "    </tr>\n",
       "  </tbody>\n",
       "</table>\n",
       "</div>"
      ],
      "text/plain": [
       "   year             artist                  song chart weeks\n",
       "a  1980            Blondie               Call Me           6\n",
       "b  1981  Christopher Cross        Arthur's Theme           3\n",
       "c  1982          Joan Jett  I Love Rock and Roll           7"
      ]
     },
     "execution_count": 22,
     "metadata": {},
     "output_type": "execute_result"
    }
   ],
   "source": [
    "list_labels = ['year', 'artist', 'song', 'chart weeks']\n",
    "chart_df.columns = list_labels\n",
    "chart_df"
   ]
  },
  {
   "cell_type": "markdown",
   "metadata": {},
   "source": [
    "## Building DataFrames with broadcasting"
   ]
  },
  {
   "cell_type": "code",
   "execution_count": 23,
   "metadata": {},
   "outputs": [
    {
     "data": {
      "text/plain": [
       "['Manheim',\n",
       " 'Preston park',\n",
       " 'Biglerville',\n",
       " 'Indiana',\n",
       " 'Curwensville',\n",
       " 'Crown',\n",
       " 'Harveys lake',\n",
       " 'Mineral springs',\n",
       " 'Cassville',\n",
       " 'Hannastown',\n",
       " 'Saltsburg',\n",
       " 'Tunkhannock',\n",
       " 'Pittsburgh',\n",
       " 'Lemasters',\n",
       " 'Great bend']"
      ]
     },
     "execution_count": 23,
     "metadata": {},
     "output_type": "execute_result"
    }
   ],
   "source": [
    "cities = ['Manheim', 'Preston park', 'Biglerville', 'Indiana', 'Curwensville', 'Crown', 'Harveys lake', 'Mineral springs', 'Cassville', 'Hannastown', 'Saltsburg',\n",
    " 'Tunkhannock', 'Pittsburgh', 'Lemasters', 'Great bend']\n",
    "\n",
    "cities"
   ]
  },
  {
   "cell_type": "code",
   "execution_count": 24,
   "metadata": {},
   "outputs": [
    {
     "data": {
      "text/html": [
       "<div>\n",
       "<style scoped>\n",
       "    .dataframe tbody tr th:only-of-type {\n",
       "        vertical-align: middle;\n",
       "    }\n",
       "\n",
       "    .dataframe tbody tr th {\n",
       "        vertical-align: top;\n",
       "    }\n",
       "\n",
       "    .dataframe thead th {\n",
       "        text-align: right;\n",
       "    }\n",
       "</style>\n",
       "<table border=\"1\" class=\"dataframe\">\n",
       "  <thead>\n",
       "    <tr style=\"text-align: right;\">\n",
       "      <th></th>\n",
       "      <th>state</th>\n",
       "      <th>city</th>\n",
       "    </tr>\n",
       "  </thead>\n",
       "  <tbody>\n",
       "    <tr>\n",
       "      <td>0</td>\n",
       "      <td>PA</td>\n",
       "      <td>Manheim</td>\n",
       "    </tr>\n",
       "    <tr>\n",
       "      <td>1</td>\n",
       "      <td>PA</td>\n",
       "      <td>Preston park</td>\n",
       "    </tr>\n",
       "    <tr>\n",
       "      <td>2</td>\n",
       "      <td>PA</td>\n",
       "      <td>Biglerville</td>\n",
       "    </tr>\n",
       "    <tr>\n",
       "      <td>3</td>\n",
       "      <td>PA</td>\n",
       "      <td>Indiana</td>\n",
       "    </tr>\n",
       "    <tr>\n",
       "      <td>4</td>\n",
       "      <td>PA</td>\n",
       "      <td>Curwensville</td>\n",
       "    </tr>\n",
       "  </tbody>\n",
       "</table>\n",
       "</div>"
      ],
      "text/plain": [
       "  state          city\n",
       "0    PA       Manheim\n",
       "1    PA  Preston park\n",
       "2    PA   Biglerville\n",
       "3    PA       Indiana\n",
       "4    PA  Curwensville"
      ]
     },
     "execution_count": 24,
     "metadata": {},
     "output_type": "execute_result"
    }
   ],
   "source": [
    "state = 'PA'\n",
    "data = {'state':state, 'city':cities}\n",
    "df_city = pd.DataFrame(data)\n",
    "df_city.head()"
   ]
  },
  {
   "cell_type": "markdown",
   "metadata": {},
   "source": [
    "## Reading a flat file"
   ]
  },
  {
   "cell_type": "code",
   "execution_count": 25,
   "metadata": {
    "scrolled": true
   },
   "outputs": [
    {
     "name": "stdout",
     "output_type": "stream",
     "text": [
      "   Year  Total Population\n",
      "0  1960      3.034971e+09\n",
      "1  1970      3.684823e+09\n",
      "2  1980      4.436590e+09\n",
      "3  1990      5.282716e+09\n",
      "4  2000      6.115974e+09\n",
      "5  2010      6.924283e+09\n",
      "\n",
      "   year    population\n",
      "0  1960  3.034971e+09\n",
      "1  1970  3.684823e+09\n",
      "2  1980  4.436590e+09\n",
      "3  1990  5.282716e+09\n",
      "4  2000  6.115974e+09\n",
      "5  2010  6.924283e+09\n"
     ]
    }
   ],
   "source": [
    "# Explicitly pass header=0 to be able to replace existing names\n",
    "\n",
    "new_labels = ['year', 'population']\n",
    "\n",
    "df_pop = pd.read_csv(match[-1])\n",
    "df_pop2 = pd.read_csv(match[-1], header = 0, names = new_labels)\n",
    "print(df_pop)\n",
    "print()\n",
    "print(df_pop2)"
   ]
  },
  {
   "cell_type": "code",
   "execution_count": 26,
   "metadata": {},
   "outputs": [
    {
     "data": {
      "text/html": [
       "<div>\n",
       "<style scoped>\n",
       "    .dataframe tbody tr th:only-of-type {\n",
       "        vertical-align: middle;\n",
       "    }\n",
       "\n",
       "    .dataframe tbody tr th {\n",
       "        vertical-align: top;\n",
       "    }\n",
       "\n",
       "    .dataframe thead th {\n",
       "        text-align: right;\n",
       "    }\n",
       "</style>\n",
       "<table border=\"1\" class=\"dataframe\">\n",
       "  <thead>\n",
       "    <tr style=\"text-align: right;\">\n",
       "      <th></th>\n",
       "      <th>1818</th>\n",
       "      <th>01</th>\n",
       "      <th>01.1</th>\n",
       "      <th>1818.001</th>\n",
       "      <th>-1</th>\n",
       "      <th>-1.0</th>\n",
       "      <th>0</th>\n",
       "      <th>1</th>\n",
       "    </tr>\n",
       "  </thead>\n",
       "  <tbody>\n",
       "    <tr>\n",
       "      <td>0</td>\n",
       "      <td>1818</td>\n",
       "      <td>1</td>\n",
       "      <td>2</td>\n",
       "      <td>1818.004</td>\n",
       "      <td>-1</td>\n",
       "      <td>-1.0</td>\n",
       "      <td>0</td>\n",
       "      <td>1</td>\n",
       "    </tr>\n",
       "    <tr>\n",
       "      <td>1</td>\n",
       "      <td>1818</td>\n",
       "      <td>1</td>\n",
       "      <td>3</td>\n",
       "      <td>1818.007</td>\n",
       "      <td>-1</td>\n",
       "      <td>-1.0</td>\n",
       "      <td>0</td>\n",
       "      <td>1</td>\n",
       "    </tr>\n",
       "    <tr>\n",
       "      <td>2</td>\n",
       "      <td>1818</td>\n",
       "      <td>1</td>\n",
       "      <td>4</td>\n",
       "      <td>1818.010</td>\n",
       "      <td>-1</td>\n",
       "      <td>-1.0</td>\n",
       "      <td>0</td>\n",
       "      <td>1</td>\n",
       "    </tr>\n",
       "    <tr>\n",
       "      <td>3</td>\n",
       "      <td>1818</td>\n",
       "      <td>1</td>\n",
       "      <td>5</td>\n",
       "      <td>1818.012</td>\n",
       "      <td>-1</td>\n",
       "      <td>-1.0</td>\n",
       "      <td>0</td>\n",
       "      <td>1</td>\n",
       "    </tr>\n",
       "    <tr>\n",
       "      <td>4</td>\n",
       "      <td>1818</td>\n",
       "      <td>1</td>\n",
       "      <td>6</td>\n",
       "      <td>1818.015</td>\n",
       "      <td>-1</td>\n",
       "      <td>-1.0</td>\n",
       "      <td>0</td>\n",
       "      <td>1</td>\n",
       "    </tr>\n",
       "  </tbody>\n",
       "</table>\n",
       "</div>"
      ],
      "text/plain": [
       "   1818  01  01.1  1818.001    -1   -1.0     0  1\n",
       "0  1818   1     2  1818.004    -1   -1.0     0  1\n",
       "1  1818   1     3  1818.007    -1   -1.0     0  1\n",
       "2  1818   1     4  1818.010    -1   -1.0     0  1\n",
       "3  1818   1     5  1818.012    -1   -1.0     0  1\n",
       "4  1818   1     6  1818.015    -1   -1.0     0  1"
      ]
     },
     "execution_count": 26,
     "metadata": {},
     "output_type": "execute_result"
    }
   ],
   "source": [
    "filepath = 'total_sunspot_numbers.csv'\n",
    "sunspots = pd.read_csv(filepath, delimiter = ';')\n",
    "sunspots.head()"
   ]
  },
  {
   "cell_type": "code",
   "execution_count": 27,
   "metadata": {},
   "outputs": [
    {
     "data": {
      "text/html": [
       "<div>\n",
       "<style scoped>\n",
       "    .dataframe tbody tr th:only-of-type {\n",
       "        vertical-align: middle;\n",
       "    }\n",
       "\n",
       "    .dataframe tbody tr th {\n",
       "        vertical-align: top;\n",
       "    }\n",
       "\n",
       "    .dataframe thead th {\n",
       "        text-align: right;\n",
       "    }\n",
       "</style>\n",
       "<table border=\"1\" class=\"dataframe\">\n",
       "  <thead>\n",
       "    <tr style=\"text-align: right;\">\n",
       "      <th></th>\n",
       "      <th>year_month_day</th>\n",
       "      <th>dec_date</th>\n",
       "      <th>sunspots</th>\n",
       "      <th>deviationobservation</th>\n",
       "      <th>definite</th>\n",
       "      <th>provisional</th>\n",
       "    </tr>\n",
       "  </thead>\n",
       "  <tbody>\n",
       "    <tr>\n",
       "      <td>0</td>\n",
       "      <td>1818-01-01</td>\n",
       "      <td>1818.001</td>\n",
       "      <td>NaN</td>\n",
       "      <td>-1.0</td>\n",
       "      <td>0</td>\n",
       "      <td>1</td>\n",
       "    </tr>\n",
       "    <tr>\n",
       "      <td>1</td>\n",
       "      <td>1818-01-02</td>\n",
       "      <td>1818.004</td>\n",
       "      <td>NaN</td>\n",
       "      <td>-1.0</td>\n",
       "      <td>0</td>\n",
       "      <td>1</td>\n",
       "    </tr>\n",
       "    <tr>\n",
       "      <td>2</td>\n",
       "      <td>1818-01-03</td>\n",
       "      <td>1818.007</td>\n",
       "      <td>NaN</td>\n",
       "      <td>-1.0</td>\n",
       "      <td>0</td>\n",
       "      <td>1</td>\n",
       "    </tr>\n",
       "    <tr>\n",
       "      <td>3</td>\n",
       "      <td>1818-01-04</td>\n",
       "      <td>1818.010</td>\n",
       "      <td>NaN</td>\n",
       "      <td>-1.0</td>\n",
       "      <td>0</td>\n",
       "      <td>1</td>\n",
       "    </tr>\n",
       "    <tr>\n",
       "      <td>4</td>\n",
       "      <td>1818-01-05</td>\n",
       "      <td>1818.012</td>\n",
       "      <td>NaN</td>\n",
       "      <td>-1.0</td>\n",
       "      <td>0</td>\n",
       "      <td>1</td>\n",
       "    </tr>\n",
       "  </tbody>\n",
       "</table>\n",
       "</div>"
      ],
      "text/plain": [
       "  year_month_day  dec_date  sunspots  deviationobservation  definite  \\\n",
       "0     1818-01-01  1818.001       NaN                  -1.0         0   \n",
       "1     1818-01-02  1818.004       NaN                  -1.0         0   \n",
       "2     1818-01-03  1818.007       NaN                  -1.0         0   \n",
       "3     1818-01-04  1818.010       NaN                  -1.0         0   \n",
       "4     1818-01-05  1818.012       NaN                  -1.0         0   \n",
       "\n",
       "   provisional  \n",
       "0            1  \n",
       "1            1  \n",
       "2            1  \n",
       "3            1  \n",
       "4            1  "
      ]
     },
     "execution_count": 27,
     "metadata": {},
     "output_type": "execute_result"
    }
   ],
   "source": [
    "col_names = ['year', 'month', 'day', 'dec_date', 'sunspots', 'deviation' 'observation', 'definite', 'provisional']\n",
    "sunspots_input = pd.read_csv(filepath, \n",
    "delimiter = ';', \n",
    "header = None, \n",
    "names = col_names, \n",
    "na_values = {'sunspots':['  -1']}, #deleting nan only in certain colums\n",
    "parse_dates = [[0,1,2]]) \n",
    "sunspots_input.head()"
   ]
  },
  {
   "cell_type": "code",
   "execution_count": 28,
   "metadata": {},
   "outputs": [
    {
     "name": "stdout",
     "output_type": "stream",
     "text": [
      "<class 'pandas.core.frame.DataFrame'>\n",
      "RangeIndex: 73810 entries, 0 to 73809\n",
      "Data columns (total 6 columns):\n",
      "year_month_day          73810 non-null datetime64[ns]\n",
      "dec_date                73810 non-null float64\n",
      "sunspots                70563 non-null float64\n",
      "deviationobservation    73810 non-null float64\n",
      "definite                73810 non-null int64\n",
      "provisional             73810 non-null int64\n",
      "dtypes: datetime64[ns](1), float64(3), int64(2)\n",
      "memory usage: 3.4 MB\n"
     ]
    }
   ],
   "source": [
    "sunspots_input.info()"
   ]
  },
  {
   "cell_type": "code",
   "execution_count": 29,
   "metadata": {},
   "outputs": [
    {
     "name": "stdout",
     "output_type": "stream",
     "text": [
      "<class 'pandas.core.frame.DataFrame'>\n",
      "DatetimeIndex: 73810 entries, 1818-01-01 to 2020-01-31\n",
      "Data columns (total 6 columns):\n",
      "year_month_day          73810 non-null datetime64[ns]\n",
      "dec_date                73810 non-null float64\n",
      "sunspots                70563 non-null float64\n",
      "deviationobservation    73810 non-null float64\n",
      "definite                73810 non-null int64\n",
      "provisional             73810 non-null int64\n",
      "dtypes: datetime64[ns](1), float64(3), int64(2)\n",
      "memory usage: 3.9 MB\n"
     ]
    }
   ],
   "source": [
    "sunspots_input.index = sunspots_input['year_month_day']\n",
    "sunspots_input.index.name = 'date'\n",
    "sunspots_input.info()"
   ]
  },
  {
   "cell_type": "code",
   "execution_count": 30,
   "metadata": {},
   "outputs": [
    {
     "data": {
      "text/html": [
       "<div>\n",
       "<style scoped>\n",
       "    .dataframe tbody tr th:only-of-type {\n",
       "        vertical-align: middle;\n",
       "    }\n",
       "\n",
       "    .dataframe tbody tr th {\n",
       "        vertical-align: top;\n",
       "    }\n",
       "\n",
       "    .dataframe thead th {\n",
       "        text-align: right;\n",
       "    }\n",
       "</style>\n",
       "<table border=\"1\" class=\"dataframe\">\n",
       "  <thead>\n",
       "    <tr style=\"text-align: right;\">\n",
       "      <th></th>\n",
       "      <th>sunspots</th>\n",
       "      <th>definite</th>\n",
       "    </tr>\n",
       "    <tr>\n",
       "      <th>date</th>\n",
       "      <th></th>\n",
       "      <th></th>\n",
       "    </tr>\n",
       "  </thead>\n",
       "  <tbody>\n",
       "    <tr>\n",
       "      <td>2020-01-27</td>\n",
       "      <td>14.0</td>\n",
       "      <td>15</td>\n",
       "    </tr>\n",
       "    <tr>\n",
       "      <td>2020-01-28</td>\n",
       "      <td>12.0</td>\n",
       "      <td>16</td>\n",
       "    </tr>\n",
       "    <tr>\n",
       "      <td>2020-01-29</td>\n",
       "      <td>12.0</td>\n",
       "      <td>33</td>\n",
       "    </tr>\n",
       "    <tr>\n",
       "      <td>2020-01-30</td>\n",
       "      <td>12.0</td>\n",
       "      <td>18</td>\n",
       "    </tr>\n",
       "    <tr>\n",
       "      <td>2020-01-31</td>\n",
       "      <td>12.0</td>\n",
       "      <td>22</td>\n",
       "    </tr>\n",
       "  </tbody>\n",
       "</table>\n",
       "</div>"
      ],
      "text/plain": [
       "            sunspots  definite\n",
       "date                          \n",
       "2020-01-27      14.0        15\n",
       "2020-01-28      12.0        16\n",
       "2020-01-29      12.0        33\n",
       "2020-01-30      12.0        18\n",
       "2020-01-31      12.0        22"
      ]
     },
     "execution_count": 30,
     "metadata": {},
     "output_type": "execute_result"
    }
   ],
   "source": [
    "sun_cols = ['sunspots', 'definite']\n",
    "sunspots_def = sunspots_input[sun_cols].tail()\n",
    "sunspots_def"
   ]
  },
  {
   "cell_type": "code",
   "execution_count": 31,
   "metadata": {},
   "outputs": [
    {
     "ename": "SyntaxError",
     "evalue": "invalid syntax (<ipython-input-31-e86e4ca55269>, line 9)",
     "output_type": "error",
     "traceback": [
      "\u001b[1;36m  File \u001b[1;32m\"<ipython-input-31-e86e4ca55269>\"\u001b[1;36m, line \u001b[1;32m9\u001b[0m\n\u001b[1;33m    sunspots_def.to_excel(out_xlsx)In addition,\u001b[0m\n\u001b[1;37m                                    ^\u001b[0m\n\u001b[1;31mSyntaxError\u001b[0m\u001b[1;31m:\u001b[0m invalid syntax\n"
     ]
    }
   ],
   "source": [
    "#Writing files\n",
    "out_csv = 'sunspots.csv'\n",
    "sunspots_def.to_csv(out_csv)\n",
    "\n",
    "out_tsv = 'sunspots.tsv'\n",
    "sunspots_def.to_csv(out_tsv, sep = '\\t')\n",
    "\n",
    "out_xlsx = 'sunspots.xlsx'\n",
    "sunspots_def.to_excel(out_xlsx)In addition,"
   ]
  },
  {
   "cell_type": "markdown",
   "metadata": {},
   "source": [
    "## Delimiters, headers, and extensions"
   ]
  },
  {
   "cell_type": "raw",
   "metadata": {},
   "source": [
    "# Read the raw file as-is: df1\n",
    "df1 = pd.read_csv(file_messy)\n",
    "\n",
    "# Print the output of df1.head()\n",
    "print(df1.head())\n",
    "\n",
    "# Read in the file with the correct parameters: df2\n",
    "df2 = pd.read_csv(file_messy, delimiter=' ', header=3, comment='#')\n",
    "\n",
    "# Print the output of df2.head()\n",
    "print(df2.head())\n",
    "\n",
    "# Save the cleaned up DataFrame to a CSV file without the index\n",
    "df2.to_csv(file_clean, index=False)\n",
    "\n",
    "# Save the cleaned up DataFrame to an excel file without the index\n",
    "df2.to_excel('file_clean.xlsx', index=False)\n"
   ]
  },
  {
   "cell_type": "markdown",
   "metadata": {},
   "source": [
    "## Plotting series using pandas"
   ]
  },
  {
   "cell_type": "code",
   "execution_count": null,
   "metadata": {},
   "outputs": [],
   "source": [
    "aapl = pd.read_csv('aapl.csv', index_col = 'Date', parse_dates = True)\n",
    "aapl.shape"
   ]
  },
  {
   "cell_type": "code",
   "execution_count": null,
   "metadata": {
    "scrolled": false
   },
   "outputs": [],
   "source": [
    "aapl.head()"
   ]
  },
  {
   "cell_type": "code",
   "execution_count": null,
   "metadata": {},
   "outputs": [],
   "source": [
    "aapl.info()"
   ]
  },
  {
   "cell_type": "code",
   "execution_count": null,
   "metadata": {},
   "outputs": [],
   "source": [
    "close_arr = aapl['Close'].values\n",
    "type(close_arr)"
   ]
  },
  {
   "cell_type": "code",
   "execution_count": null,
   "metadata": {
    "scrolled": true
   },
   "outputs": [],
   "source": [
    "#Plotting arrays (matplotlib)\n",
    "plt.plot(close_arr)\n",
    "plt.show()"
   ]
  },
  {
   "cell_type": "code",
   "execution_count": null,
   "metadata": {},
   "outputs": [],
   "source": [
    "#Plotting Series (matplotlib)\n",
    "close_series = aapl['Close']\n",
    "type(close_series)"
   ]
  },
  {
   "cell_type": "code",
   "execution_count": null,
   "metadata": {},
   "outputs": [],
   "source": [
    "plt.plot(close_series)\n",
    "plt.show()"
   ]
  },
  {
   "cell_type": "code",
   "execution_count": null,
   "metadata": {},
   "outputs": [],
   "source": [
    "#Plotting Series directly\n",
    "close_series.plot()\n",
    "plt.show()"
   ]
  },
  {
   "cell_type": "code",
   "execution_count": null,
   "metadata": {},
   "outputs": [],
   "source": [
    "#Plotting DataFrames (pandas)\n",
    "aapl.plot() #plot all series at once\n",
    "plt.show()"
   ]
  },
  {
   "cell_type": "code",
   "execution_count": null,
   "metadata": {},
   "outputs": [],
   "source": [
    "#plots all columns at once (matplotlib)\n",
    "plt.plot(aapl)"
   ]
  },
  {
   "cell_type": "code",
   "execution_count": null,
   "metadata": {},
   "outputs": [],
   "source": [
    "aapl.plot()\n",
    "plt.yscale('log')\n",
    "plt.show()"
   ]
  },
  {
   "cell_type": "code",
   "execution_count": null,
   "metadata": {},
   "outputs": [],
   "source": [
    "aapl['Open'].plot(color = 'b', style='.-', legend=True)\n",
    "aapl['Close'].plot(color='r', style='.', legend = True)\n",
    "plt.axis(('2018','2020', 150, 300))\n",
    "plt.xlabel('Years')\n",
    "plt.ylabel('Price')\n",
    "plt.title('Apple')\n",
    "plt.show()"
   ]
  },
  {
   "cell_type": "markdown",
   "metadata": {},
   "source": [
    "### Saving plots\n",
    "\n"
   ]
  },
  {
   "cell_type": "code",
   "execution_count": null,
   "metadata": {},
   "outputs": [],
   "source": [
    "aapl['Open'].plot(color = 'b', style='.-', legend=True)\n",
    "aapl['Close'].plot(color='r', style='.', legend = True)\n",
    "plt.axis(('2018','2020', 150, 300))\n",
    "plt.savefig('aapl.png')\n",
    "plt.savefig('aapl.jpg')\n",
    "plt.savefig('aapl.pdf')\n",
    "plt.show()"
   ]
  },
  {
   "cell_type": "code",
   "execution_count": null,
   "metadata": {},
   "outputs": [],
   "source": [
    "df_pop2.population.plot(figsize = [8,6], x = 'year', title = 'World population', grid = True, legend = True, logy = True, fontsize = 13)\n",
    "plt.xlabel('population')\n",
    "plt.xlabel('years')\n",
    "plt.show()"
   ]
  },
  {
   "cell_type": "markdown",
   "metadata": {},
   "source": [
    "## Plotting DataFrames"
   ]
  },
  {
   "cell_type": "code",
   "execution_count": null,
   "metadata": {},
   "outputs": [],
   "source": [
    "weather = pd.read_csv(match[-3])\n",
    "weather.head()"
   ]
  },
  {
   "cell_type": "code",
   "execution_count": null,
   "metadata": {},
   "outputs": [],
   "source": [
    "weather.info()"
   ]
  },
  {
   "cell_type": "code",
   "execution_count": null,
   "metadata": {},
   "outputs": [],
   "source": [
    "weather.columns"
   ]
  },
  {
   "cell_type": "code",
   "execution_count": null,
   "metadata": {},
   "outputs": [],
   "source": [
    "weather.Temperature.plot()\n",
    "plt.show()"
   ]
  },
  {
   "cell_type": "code",
   "execution_count": null,
   "metadata": {},
   "outputs": [],
   "source": [
    "column_list = ['Temperature', 'DewPoint']\n",
    "weather[column_list].plot(subplots = False)"
   ]
  },
  {
   "cell_type": "code",
   "execution_count": null,
   "metadata": {},
   "outputs": [],
   "source": [
    "weather[column_list].plot(subplots = True)"
   ]
  },
  {
   "cell_type": "code",
   "execution_count": null,
   "metadata": {},
   "outputs": [],
   "source": [
    "weather.plot(subplots=True)"
   ]
  },
  {
   "cell_type": "markdown",
   "metadata": {},
   "source": [
    "# __Exploratory data analysis__"
   ]
  },
  {
   "cell_type": "markdown",
   "metadata": {},
   "source": [
    "__Разведочный анализ данных__ (_exploratory data analysis_ (EDA)) — анализ основных свойств данных, нахождение в них общих закономерностей, распределений и аномалий, построение начальных моделей, зачастую с использованием инструментов визуализации."
   ]
  },
  {
   "cell_type": "markdown",
   "metadata": {},
   "source": [
    "## Visual exploratory data analysis"
   ]
  },
  {
   "cell_type": "code",
   "execution_count": null,
   "metadata": {},
   "outputs": [],
   "source": [
    "iris_names = ['sepal_length', 'sepal_width', 'petal_length', 'petal_width', 'species']\n",
    "iris = pd.read_csv('iris.csv', header = None, names = iris_names)\n",
    "display(iris.shape)\n",
    "display(iris.head())"
   ]
  },
  {
   "cell_type": "code",
   "execution_count": null,
   "metadata": {
    "scrolled": true
   },
   "outputs": [],
   "source": [
    "iris.plot(x='sepal_length', y='sepal_width')\n",
    "plt.show()"
   ]
  },
  {
   "cell_type": "markdown",
   "metadata": {},
   "source": [
    "### Scatter plot"
   ]
  },
  {
   "cell_type": "code",
   "execution_count": null,
   "metadata": {},
   "outputs": [],
   "source": [
    "iris.plot(x='sepal_length', y='sepal_width', kind='scatter')\n",
    "plt.xlabel('sepal length (cm)')\n",
    "plt.ylabel('sepal width (cm)')\n",
    "plt.show()"
   ]
  },
  {
   "cell_type": "markdown",
   "metadata": {},
   "source": [
    "### Box plot"
   ]
  },
  {
   "cell_type": "code",
   "execution_count": null,
   "metadata": {},
   "outputs": [],
   "source": [
    "iris.plot(y='sepal_length', kind='box')\n",
    "plt.ylabel('sepal width (cm)')\n",
    "plt.show()"
   ]
  },
  {
   "cell_type": "markdown",
   "metadata": {},
   "source": [
    "### Histogram"
   ]
  },
  {
   "cell_type": "code",
   "execution_count": null,
   "metadata": {},
   "outputs": [],
   "source": [
    "iris.plot(y='sepal_length', kind='hist')\n",
    "plt.xlabel('sepal length (cm)')\n",
    "plt.show()"
   ]
  },
  {
   "cell_type": "code",
   "execution_count": null,
   "metadata": {},
   "outputs": [],
   "source": [
    "iris.plot(y='sepal_length', kind='hist', bins=30, range=(4,8), density=True)\n",
    "plt.xlabel('Sepal length (callablem)')\n",
    "plt.show()"
   ]
  },
  {
   "cell_type": "markdown",
   "metadata": {},
   "source": [
    "### Cumulative distribution function (CDF)"
   ]
  },
  {
   "cell_type": "code",
   "execution_count": null,
   "metadata": {},
   "outputs": [],
   "source": [
    "iris.plot(y='sepal_length', kind='hist', bins=30, range=(4,8), density=True, cumulative=True, legend=False)\n",
    "plt.xlabel('Sepal length (cm)')\n",
    "plt.title('Cumulative distribution function (CDF)')\n",
    "plt.show()"
   ]
  },
  {
   "cell_type": "markdown",
   "metadata": {},
   "source": [
    "__Three different DataFrame plot idioms__\n",
    "\n",
    "- iris.plot(kind='hist')\n",
    "- iris.plt.hist()\n",
    "- iris.hist()"
   ]
  },
  {
   "cell_type": "code",
   "execution_count": null,
   "metadata": {},
   "outputs": [],
   "source": [
    "df['CountryCode'].unique()"
   ]
  },
  {
   "cell_type": "code",
   "execution_count": null,
   "metadata": {},
   "outputs": [],
   "source": [
    "# Filtering by species\n",
    "df['CountryCode'].unique().shape\n",
    "uzb = df['CountryCode'] == 'UZB'\n",
    "rus = df['CountryCode'] == 'RUS'\n",
    "nor = df['CountryCode'] =='NOR'\n",
    "swe = df['CountryCode'] =='SWE'\n",
    "den = df['CountryCode'] =='DNK'\n",
    "can = df['CountryCode'] =='CAN'\n",
    "pol = df['CountryCode'] == 'POL'\n",
    "aus = df['CountryCode'] == 'AUS'\n",
    "nzl = df['CountryCode'] == 'NZL'\n",
    "aut = df['CountryCode'] == 'AUT'\n",
    "ger = df['CountryCode'] == 'DEU'\n",
    "fin = df['CountryCode'] == 'FIN'\n",
    "swt = df['CountryCode'] == 'CHE'\n",
    "bel = df['CountryCode'] == 'BEL'\n",
    "uzbekistan = df.loc[uzb, :]\n",
    "russia = df.loc[rus, :]\n",
    "norway = df.loc[nor, :]\n",
    "sweden = df.loc[swe, :]\n",
    "denmark =df.loc[den, :]\n",
    "canada = df.loc[can, :]\n",
    "poland = df.loc[pol, :]\n",
    "australia = df.loc[aus, :]\n",
    "new_zealand = df.loc[nzl, :]\n",
    "austria = df.loc[aut, :]\n",
    "germany = df.loc[ger, :]\n",
    "finland = df.loc[fin, :]\n",
    "switzerland = df.loc[swt, :]\n",
    "belgium = df.loc[bel, :]\n",
    "display(uzbekistan.head())\n",
    "display(russia.head())"
   ]
  },
  {
   "cell_type": "code",
   "execution_count": null,
   "metadata": {},
   "outputs": [],
   "source": [
    "uzbekistan.plot(y = 'Total Population', x = 'Year')"
   ]
  },
  {
   "cell_type": "code",
   "execution_count": null,
   "metadata": {},
   "outputs": [],
   "source": [
    "russia.loc[rus,:].head()"
   ]
  },
  {
   "cell_type": "code",
   "execution_count": null,
   "metadata": {},
   "outputs": [],
   "source": [
    "russia.plot(x = 'Year', y = 'Total Population')"
   ]
  },
  {
   "cell_type": "code",
   "execution_count": null,
   "metadata": {},
   "outputs": [],
   "source": [
    "norway.plot(x = 'Year', y = 'Total Population')"
   ]
  },
  {
   "cell_type": "code",
   "execution_count": null,
   "metadata": {},
   "outputs": [],
   "source": [
    "sweden.plot(x = 'Year', y = 'Total Population')"
   ]
  },
  {
   "cell_type": "code",
   "execution_count": null,
   "metadata": {},
   "outputs": [],
   "source": [
    "denmark.plot(x = 'Year', y = 'Total Population')"
   ]
  },
  {
   "cell_type": "code",
   "execution_count": null,
   "metadata": {},
   "outputs": [],
   "source": [
    "canada.plot(x = 'Year', y = 'Total Population')"
   ]
  },
  {
   "cell_type": "code",
   "execution_count": null,
   "metadata": {},
   "outputs": [],
   "source": [
    "poland.plot(x = 'Year', y = 'Total Population', xlim = 1960)"
   ]
  },
  {
   "cell_type": "code",
   "execution_count": null,
   "metadata": {},
   "outputs": [],
   "source": [
    "australia.plot(x = 'Year', y = 'Total Population', title = 'Austalia') "
   ]
  },
  {
   "cell_type": "code",
   "execution_count": null,
   "metadata": {},
   "outputs": [],
   "source": [
    "new_zealand.plot(x = 'Year', y = 'Total Population') "
   ]
  },
  {
   "cell_type": "code",
   "execution_count": null,
   "metadata": {},
   "outputs": [],
   "source": [
    "austria.plot(x = 'Year', y = 'Total Population') "
   ]
  },
  {
   "cell_type": "code",
   "execution_count": null,
   "metadata": {},
   "outputs": [],
   "source": [
    "germany.plot(x = 'Year', y = 'Total Population')"
   ]
  },
  {
   "cell_type": "code",
   "execution_count": null,
   "metadata": {},
   "outputs": [],
   "source": [
    "finland.plot(x = 'Year', y = 'Total Population') "
   ]
  },
  {
   "cell_type": "code",
   "execution_count": null,
   "metadata": {},
   "outputs": [],
   "source": [
    "switzerland.plot(x = 'Year', y = 'Total Population')"
   ]
  },
  {
   "cell_type": "code",
   "execution_count": null,
   "metadata": {
    "scrolled": true
   },
   "outputs": [],
   "source": [
    "belgium.plot(x = 'Year', y = 'Total Population')"
   ]
  },
  {
   "cell_type": "markdown",
   "metadata": {},
   "source": [
    "## pandas scatter plots"
   ]
  },
  {
   "cell_type": "code",
   "execution_count": null,
   "metadata": {},
   "outputs": [],
   "source": [
    "auto = pd.read_csv('auto-mpg.csv')\n",
    "auto.head()"
   ]
  },
  {
   "cell_type": "markdown",
   "metadata": {},
   "source": [
    "### Normalizing data"
   ]
  },
  {
   "cell_type": "code",
   "execution_count": null,
   "metadata": {},
   "outputs": [],
   "source": [
    "sizes = auto['weight']\n",
    "max_size = sizes.max()\n",
    "weight = sizes/max_size\n",
    "weight.head()"
   ]
  },
  {
   "cell_type": "markdown",
   "metadata": {},
   "source": [
    "### Plotting a scatter"
   ]
  },
  {
   "cell_type": "code",
   "execution_count": null,
   "metadata": {
    "scrolled": true
   },
   "outputs": [],
   "source": [
    "auto.plot(kind='scatter', x='hp', y='mpg', s=weight*50)"
   ]
  },
  {
   "cell_type": "markdown",
   "metadata": {},
   "source": [
    "## pandas box plots"
   ]
  },
  {
   "cell_type": "code",
   "execution_count": null,
   "metadata": {},
   "outputs": [],
   "source": [
    "cols = ['weight', 'mpg']\n",
    "auto[cols].plot(kind='box', subplots = True)\n",
    "plt.show()"
   ]
  },
  {
   "cell_type": "markdown",
   "metadata": {},
   "source": [
    "## pandas hist, pdf and cdf"
   ]
  },
  {
   "cell_type": "markdown",
   "metadata": {},
   "source": [
    "Pandas relies on the .hist() method to not only generate histograms, but also plots of __probability density functions (PDFs) and cumulative density functions (CDFs)__."
   ]
  },
  {
   "cell_type": "code",
   "execution_count": null,
   "metadata": {
    "scrolled": true
   },
   "outputs": [],
   "source": [
    "tips = pd.read_csv('tips.csv')\n",
    "tips.head()"
   ]
  },
  {
   "cell_type": "code",
   "execution_count": null,
   "metadata": {},
   "outputs": [],
   "source": [
    "# This formats the plots such that they appear on separate rows\n",
    "fig, axes = plt.subplots(nrows=2, ncols=1)\n",
    "\n",
    "#PDF - probability density functions\n",
    "tips.fraction.plot(ax=axes[0], kind='hist', bins=30, density=True, range=(0,.3))\n",
    "\n",
    "#CDF - cumulative density functions\n",
    "tips.fraction.plot(ax=axes[1], kind='hist', bins=30, density=True, cumulative=True, range=(0,.3))\n",
    "plt.show()"
   ]
  },
  {
   "cell_type": "markdown",
   "metadata": {},
   "source": [
    "## Statistical exploratory data analysis"
   ]
  },
  {
   "cell_type": "code",
   "execution_count": null,
   "metadata": {},
   "outputs": [],
   "source": [
    "iris.describe()"
   ]
  },
  {
   "cell_type": "markdown",
   "metadata": {},
   "source": [
    "### Counts"
   ]
  },
  {
   "cell_type": "code",
   "execution_count": null,
   "metadata": {},
   "outputs": [],
   "source": [
    "iris['sepal_length'].count() #Applied to Series"
   ]
  },
  {
   "cell_type": "code",
   "execution_count": null,
   "metadata": {},
   "outputs": [],
   "source": [
    "iris['sepal_width'].count() #Applied to Series"
   ]
  },
  {
   "cell_type": "code",
   "execution_count": null,
   "metadata": {},
   "outputs": [],
   "source": [
    "iris[['sepal_length', 'sepal_width']].count() #Applied to DataFrame"
   ]
  },
  {
   "cell_type": "code",
   "execution_count": null,
   "metadata": {},
   "outputs": [],
   "source": [
    "type(iris[['sepal_length', 'sepal_width']].count()) #returns Series"
   ]
  },
  {
   "cell_type": "markdown",
   "metadata": {},
   "source": [
    "### Averages"
   ]
  },
  {
   "cell_type": "code",
   "execution_count": null,
   "metadata": {},
   "outputs": [],
   "source": [
    "iris['sepal_length'].mean() #Applied to Series"
   ]
  },
  {
   "cell_type": "code",
   "execution_count": null,
   "metadata": {},
   "outputs": [],
   "source": [
    "iris.mean()  #Applied to entire DataFrame"
   ]
  },
  {
   "cell_type": "markdown",
   "metadata": {},
   "source": [
    "### Standart deviations"
   ]
  },
  {
   "cell_type": "code",
   "execution_count": null,
   "metadata": {},
   "outputs": [],
   "source": [
    "iris.std()"
   ]
  },
  {
   "cell_type": "markdown",
   "metadata": {},
   "source": [
    "### Medians"
   ]
  },
  {
   "cell_type": "code",
   "execution_count": null,
   "metadata": {},
   "outputs": [],
   "source": [
    "iris.median()"
   ]
  },
  {
   "cell_type": "markdown",
   "metadata": {},
   "source": [
    "### Medians & 0.5 quantiles"
   ]
  },
  {
   "cell_type": "code",
   "execution_count": null,
   "metadata": {},
   "outputs": [],
   "source": [
    "# Median = 0.5 quantiles\n",
    "q = 0.5  \n",
    "iris.quantile(q)"
   ]
  },
  {
   "cell_type": "code",
   "execution_count": null,
   "metadata": {},
   "outputs": [],
   "source": [
    "q75 = 0.75  \n",
    "iris.quantile(q75)"
   ]
  },
  {
   "cell_type": "code",
   "execution_count": null,
   "metadata": {},
   "outputs": [],
   "source": [
    "q25 = 0.25 \n",
    "iris.quantile(q25) "
   ]
  },
  {
   "cell_type": "code",
   "execution_count": null,
   "metadata": {},
   "outputs": [],
   "source": [
    "iris.quantile() #default = 0.5 - median"
   ]
  },
  {
   "cell_type": "code",
   "execution_count": null,
   "metadata": {},
   "outputs": [],
   "source": [
    "type(iris.quantile())"
   ]
  },
  {
   "cell_type": "markdown",
   "metadata": {},
   "source": [
    "### Inter-quartile range (IQR)"
   ]
  },
  {
   "cell_type": "code",
   "execution_count": null,
   "metadata": {},
   "outputs": [],
   "source": [
    "q_both = [0.25, 0.75]\n",
    "iris.quantile(q_both)"
   ]
  },
  {
   "cell_type": "code",
   "execution_count": null,
   "metadata": {},
   "outputs": [],
   "source": [
    "type(iris.quantile(q_both))"
   ]
  },
  {
   "cell_type": "markdown",
   "metadata": {},
   "source": [
    "### Ranges"
   ]
  },
  {
   "cell_type": "code",
   "execution_count": null,
   "metadata": {},
   "outputs": [],
   "source": [
    "iris.min()"
   ]
  },
  {
   "cell_type": "code",
   "execution_count": null,
   "metadata": {},
   "outputs": [],
   "source": [
    "iris.max()"
   ]
  },
  {
   "cell_type": "markdown",
   "metadata": {},
   "source": [
    "### Box plots"
   ]
  },
  {
   "cell_type": "code",
   "execution_count": null,
   "metadata": {},
   "outputs": [],
   "source": [
    "iris.plot(kind='box')\n",
    "plt.ylabel('cm')\n",
    "plt.show()"
   ]
  },
  {
   "cell_type": "markdown",
   "metadata": {},
   "source": [
    "## Bachelor's degrees awarded to women"
   ]
  },
  {
   "cell_type": "code",
   "execution_count": null,
   "metadata": {},
   "outputs": [],
   "source": [
    "degree = pd.read_csv('percent-bachelors-degrees-women-usa.csv')\n",
    "degree.head()"
   ]
  },
  {
   "cell_type": "code",
   "execution_count": null,
   "metadata": {},
   "outputs": [],
   "source": [
    "degree['Engineering'].min()"
   ]
  },
  {
   "cell_type": "code",
   "execution_count": null,
   "metadata": {},
   "outputs": [],
   "source": [
    "degree['Engineering'].max()"
   ]
  },
  {
   "cell_type": "markdown",
   "metadata": {},
   "source": [
    "### Mean across all columns per row"
   ]
  },
  {
   "cell_type": "code",
   "execution_count": null,
   "metadata": {
    "scrolled": false
   },
   "outputs": [],
   "source": [
    "# use the .mean() method with the keyword argument axis='columns'. This computes the mean across all columns per row.\n",
    "mean = degree.mean(axis = 'columns')\n",
    "mean.plot()\n",
    "plt.show()"
   ]
  },
  {
   "cell_type": "markdown",
   "metadata": {},
   "source": [
    "## Median vs mean"
   ]
  },
  {
   "cell_type": "code",
   "execution_count": null,
   "metadata": {},
   "outputs": [],
   "source": [
    "titanic = pd.read_csv('titanic.csv', delimiter = ',')\n",
    "titanic.head(2)"
   ]
  },
  {
   "cell_type": "code",
   "execution_count": null,
   "metadata": {},
   "outputs": [],
   "source": [
    "titanic.shape"
   ]
  },
  {
   "cell_type": "code",
   "execution_count": null,
   "metadata": {},
   "outputs": [],
   "source": [
    "titanic.columns"
   ]
  },
  {
   "cell_type": "code",
   "execution_count": null,
   "metadata": {},
   "outputs": [],
   "source": [
    "titanic.describe()"
   ]
  },
  {
   "cell_type": "code",
   "execution_count": null,
   "metadata": {},
   "outputs": [],
   "source": [
    "titanic.fare.describe()"
   ]
  },
  {
   "cell_type": "code",
   "execution_count": null,
   "metadata": {},
   "outputs": [],
   "source": [
    "titanic.fare.plot(kind = 'box')"
   ]
  },
  {
   "cell_type": "markdown",
   "metadata": {},
   "source": [
    "## Quantiles"
   ]
  },
  {
   "cell_type": "code",
   "execution_count": null,
   "metadata": {},
   "outputs": [],
   "source": [
    "life = pd.read_csv('life_expectancy_at_birth.csv')\n",
    "life.head()"
   ]
  },
  {
   "cell_type": "code",
   "execution_count": null,
   "metadata": {},
   "outputs": [],
   "source": [
    "life['2015'].count()"
   ]
  },
  {
   "cell_type": "code",
   "execution_count": null,
   "metadata": {},
   "outputs": [],
   "source": [
    "life.quantile([0.05, 0.95])"
   ]
  },
  {
   "cell_type": "code",
   "execution_count": null,
   "metadata": {},
   "outputs": [],
   "source": [
    "years = ['1800', '1850', '1900', '1950', '2000']\n",
    "life[years].plot(kind = 'box')"
   ]
  },
  {
   "cell_type": "markdown",
   "metadata": {},
   "source": [
    "## Standard deviation of life expectancy"
   ]
  },
  {
   "cell_type": "code",
   "execution_count": null,
   "metadata": {},
   "outputs": [],
   "source": [
    "life['1800'].std()"
   ]
  },
  {
   "cell_type": "code",
   "execution_count": null,
   "metadata": {},
   "outputs": [],
   "source": [
    "life['1900'].std()"
   ]
  },
  {
   "cell_type": "code",
   "execution_count": null,
   "metadata": {},
   "outputs": [],
   "source": [
    "life['2000'].std()"
   ]
  },
  {
   "cell_type": "markdown",
   "metadata": {},
   "source": [
    "## Separating populations"
   ]
  },
  {
   "cell_type": "markdown",
   "metadata": {},
   "source": [
    "### Describe species column"
   ]
  },
  {
   "cell_type": "code",
   "execution_count": null,
   "metadata": {},
   "outputs": [],
   "source": [
    "iris.head()"
   ]
  },
  {
   "cell_type": "code",
   "execution_count": null,
   "metadata": {
    "scrolled": true
   },
   "outputs": [],
   "source": [
    "iris['species'].describe()"
   ]
  },
  {
   "cell_type": "markdown",
   "metadata": {},
   "source": [
    "### Unique & factors"
   ]
  },
  {
   "cell_type": "code",
   "execution_count": null,
   "metadata": {},
   "outputs": [],
   "source": [
    "iris['species'].unique()"
   ]
  },
  {
   "cell_type": "markdown",
   "metadata": {},
   "source": [
    "### Filtering by species"
   ]
  },
  {
   "cell_type": "code",
   "execution_count": null,
   "metadata": {},
   "outputs": [],
   "source": [
    "indices = iris['species'] == 'Iris-setosa'\n",
    "setosa = iris.loc[indices, :] #extract new DataFrame\n",
    "setosa.head()"
   ]
  },
  {
   "cell_type": "code",
   "execution_count": null,
   "metadata": {},
   "outputs": [],
   "source": [
    "indices = iris['species'] == 'Iris-versicolor'\n",
    "versicolor = iris.loc[indices, :]\n",
    "versicolor.head()"
   ]
  },
  {
   "cell_type": "code",
   "execution_count": null,
   "metadata": {},
   "outputs": [],
   "source": [
    "indices = iris['species'] == 'Iris-virginica'\n",
    "virginica = iris.loc[indices, :]\n",
    "virginica.head()"
   ]
  },
  {
   "cell_type": "markdown",
   "metadata": {},
   "source": [
    "### Checking species"
   ]
  },
  {
   "cell_type": "code",
   "execution_count": null,
   "metadata": {},
   "outputs": [],
   "source": [
    "setosa['species'].unique()"
   ]
  },
  {
   "cell_type": "code",
   "execution_count": null,
   "metadata": {},
   "outputs": [],
   "source": [
    "virginica['species'].unique()"
   ]
  },
  {
   "cell_type": "code",
   "execution_count": null,
   "metadata": {},
   "outputs": [],
   "source": [
    "versicolor['species'].unique()"
   ]
  },
  {
   "cell_type": "code",
   "execution_count": null,
   "metadata": {},
   "outputs": [],
   "source": [
    "#deleting a column\n",
    "del setosa['species'], virginica['species'], versicolor['species'] "
   ]
  },
  {
   "cell_type": "code",
   "execution_count": null,
   "metadata": {},
   "outputs": [],
   "source": [
    "setosa.head(2)"
   ]
  },
  {
   "cell_type": "code",
   "execution_count": null,
   "metadata": {},
   "outputs": [],
   "source": [
    "virginica.head(2)"
   ]
  },
  {
   "cell_type": "code",
   "execution_count": null,
   "metadata": {},
   "outputs": [],
   "source": [
    "versicolor.head(2)"
   ]
  },
  {
   "cell_type": "markdown",
   "metadata": {},
   "source": [
    "### Visual EDA"
   ]
  },
  {
   "cell_type": "code",
   "execution_count": null,
   "metadata": {},
   "outputs": [],
   "source": [
    "iris.plot(kind='hist', bins=50, range=(0,8), alpha=0.3)\n",
    "plt.title('Entire iris data set')\n",
    "plt.xlabel('[cm]')\n",
    "plt.show()"
   ]
  },
  {
   "cell_type": "code",
   "execution_count": null,
   "metadata": {},
   "outputs": [],
   "source": [
    "setosa.plot(kind='hist', bins=50, range=(0,8), alpha=0.3)\n",
    "plt.title('Setosa data set')\n",
    "plt.xlabel('[cm]')\n",
    "plt.show()"
   ]
  },
  {
   "cell_type": "code",
   "execution_count": null,
   "metadata": {},
   "outputs": [],
   "source": [
    "versicolor.plot(kind='hist', bins=50, range=(0,8), alpha=0.3)\n",
    "plt.title('Versicolor data set')\n",
    "plt.xlabel('[cm]')\n",
    "plt.show()"
   ]
  },
  {
   "cell_type": "code",
   "execution_count": null,
   "metadata": {},
   "outputs": [],
   "source": [
    "virginica.plot(kind='hist', bins=50, range=(0,8), alpha=0.3)\n",
    "plt.title('Virginica data set')\n",
    "plt.xlabel('[cm]')\n",
    "plt.show()"
   ]
  },
  {
   "cell_type": "markdown",
   "metadata": {},
   "source": [
    "### Statistical EDA: describe()"
   ]
  },
  {
   "cell_type": "code",
   "execution_count": null,
   "metadata": {},
   "outputs": [],
   "source": [
    "describe_all = iris.describe()\n",
    "describe_all"
   ]
  },
  {
   "cell_type": "code",
   "execution_count": null,
   "metadata": {},
   "outputs": [],
   "source": [
    "describe_setosa = setosa.describe()\n",
    "describe_versicolor = versicolor.describe()\n",
    "describe_virginica = virginica.describe()"
   ]
  },
  {
   "cell_type": "markdown",
   "metadata": {},
   "source": [
    "### Computing errors"
   ]
  },
  {
   "cell_type": "code",
   "execution_count": null,
   "metadata": {},
   "outputs": [],
   "source": [
    "errors_setosa = 100 * np.abs(describe_setosa - describe_all)\n",
    "errors_setosa = errors_setosa/describe_setosa\n",
    "errors_setosa"
   ]
  },
  {
   "cell_type": "code",
   "execution_count": null,
   "metadata": {},
   "outputs": [],
   "source": [
    "errors_versicolor = 100 * np.abs(describe_versicolor - describe_all)\n",
    "errors_versicolor = errors_versicolor/describe_versicolor\n",
    "errors_versicolor"
   ]
  },
  {
   "cell_type": "code",
   "execution_count": null,
   "metadata": {
    "scrolled": true
   },
   "outputs": [],
   "source": [
    "errors_virginica = 100 * np.abs(describe_virginica - describe_all)\n",
    "errors_virginica = errors_virginica/describe_virginica \n",
    "errors_virginica"
   ]
  },
  {
   "cell_type": "code",
   "execution_count": null,
   "metadata": {},
   "outputs": [],
   "source": [
    "mpg = pd.read_csv('mpg.csv')\n",
    "del mpg['Unnamed: 0'] \n",
    "mpg.head()"
   ]
  },
  {
   "cell_type": "code",
   "execution_count": null,
   "metadata": {},
   "outputs": [],
   "source": [
    "mpg.shape"
   ]
  },
  {
   "cell_type": "markdown",
   "metadata": {},
   "source": [
    "# __Time series in pandas__"
   ]
  },
  {
   "cell_type": "markdown",
   "metadata": {},
   "source": [
    "_In this chapter, you will learn how to manipulate and visualize time series data using pandas. You will become familiar with concepts such as upsampling, downsampling, and interpolation. You will practice using method chaining to efficiently filter your data and perform time series analyses. From stock prices to flight timings, time series data can be found in a wide variety of domains, and being able to effectively work with it is an invaluable skill._"
   ]
  },
  {
   "cell_type": "markdown",
   "metadata": {},
   "source": [
    "Using pandas to read **datetime objects**\n",
    "\n",
    " - read_csv() function  \n",
    " - Can read strings into datetime objects  \n",
    " - Need to  specify ‘`parse_dates=True`’   \n",
    " - ISO 8601 format   \n",
    " - `yyyy-mm-dd hh:mm:ss`"
   ]
  },
  {
   "cell_type": "markdown",
   "metadata": {},
   "source": [
    "## Product sales CSV"
   ]
  },
  {
   "cell_type": "code",
   "execution_count": null,
   "metadata": {},
   "outputs": [],
   "source": [
    "sales = pd.read_csv('sales-feb-2015.csv', parse_dates=True, index_col='Date')\n",
    "sales.head()"
   ]
  },
  {
   "cell_type": "code",
   "execution_count": null,
   "metadata": {},
   "outputs": [],
   "source": [
    "sales.info()"
   ]
  },
  {
   "cell_type": "markdown",
   "metadata": {},
   "source": [
    "### Selecting single datetime"
   ]
  },
  {
   "cell_type": "code",
   "execution_count": null,
   "metadata": {},
   "outputs": [],
   "source": [
    "sales.loc['2015-02-25 00:29:00', 'Company']"
   ]
  },
  {
   "cell_type": "markdown",
   "metadata": {},
   "source": [
    "### Partial datetime string selection"
   ]
  },
  {
   "cell_type": "markdown",
   "metadata": {},
   "source": [
    "**Alternative formats:** \n",
    "- `sales.loc[‘February 5, 2015’]`  \n",
    "- `sales.loc[‘2015-Feb-5’]`  \n",
    "- Whole month:   `sales.loc[‘2015-2’]`  \n",
    "- Whole year: `sales.loc[‘2015’]`"
   ]
  },
  {
   "cell_type": "code",
   "execution_count": null,
   "metadata": {},
   "outputs": [],
   "source": [
    "sales.loc['2015-02-02 ']"
   ]
  },
  {
   "cell_type": "code",
   "execution_count": null,
   "metadata": {},
   "outputs": [],
   "source": [
    "sales.loc['2015-2'].head()"
   ]
  },
  {
   "cell_type": "code",
   "execution_count": null,
   "metadata": {},
   "outputs": [],
   "source": [
    "sales.loc['2015'].head()"
   ]
  },
  {
   "cell_type": "code",
   "execution_count": null,
   "metadata": {},
   "outputs": [],
   "source": [
    "sales.loc['2015-02-09':'2015-02-11']"
   ]
  },
  {
   "cell_type": "markdown",
   "metadata": {},
   "source": [
    "### Convert strings to datetime"
   ]
  },
  {
   "cell_type": "code",
   "execution_count": null,
   "metadata": {},
   "outputs": [],
   "source": [
    "evening_2_11 = pd.to_datetime(['2015-2-11 20:03:08','2015-2-11 21:00', \n",
    "                               '2015-2-11 22:00', '2015-2-11 23:00'])\n",
    "evening_2_11"
   ]
  },
  {
   "cell_type": "markdown",
   "metadata": {},
   "source": [
    "### Reindexing DataFrame"
   ]
  },
  {
   "cell_type": "code",
   "execution_count": null,
   "metadata": {},
   "outputs": [],
   "source": [
    "sales.reindex(evening_2_11)"
   ]
  },
  {
   "cell_type": "markdown",
   "metadata": {},
   "source": [
    "### Filling missing values"
   ]
  },
  {
   "cell_type": "code",
   "execution_count": null,
   "metadata": {},
   "outputs": [],
   "source": [
    "sales_sorted = sales.sort_index()"
   ]
  },
  {
   "cell_type": "code",
   "execution_count": null,
   "metadata": {},
   "outputs": [],
   "source": [
    "sales_sorted.reindex(evening_2_11, method = 'ffill')"
   ]
  },
  {
   "cell_type": "code",
   "execution_count": null,
   "metadata": {},
   "outputs": [],
   "source": [
    "sales_sorted.reindex(evening_2_11, method = 'bfill')"
   ]
  },
  {
   "cell_type": "markdown",
   "metadata": {},
   "source": [
    "## Exercise"
   ]
  },
  {
   "cell_type": "markdown",
   "metadata": {},
   "source": [
    "### Reading and slicing times"
   ]
  },
  {
   "cell_type": "code",
   "execution_count": null,
   "metadata": {},
   "outputs": [],
   "source": [
    "austin = pd.read_csv('weather_data_austin_2010.csv')\n",
    "austin.head(3)"
   ]
  },
  {
   "cell_type": "code",
   "execution_count": null,
   "metadata": {},
   "outputs": [],
   "source": [
    "austin.info()"
   ]
  },
  {
   "cell_type": "code",
   "execution_count": null,
   "metadata": {},
   "outputs": [],
   "source": [
    "austin2 = pd.read_csv('weather_data_austin_2010.csv', parse_dates=['Date'])\n",
    "austin2.head(3)"
   ]
  },
  {
   "cell_type": "code",
   "execution_count": null,
   "metadata": {},
   "outputs": [],
   "source": [
    "austin2.info()"
   ]
  },
  {
   "cell_type": "code",
   "execution_count": null,
   "metadata": {},
   "outputs": [],
   "source": [
    "austin3 = pd.read_csv('weather_data_austin_2010.csv', parse_dates=True, \n",
    "                      index_col='Date')\n",
    "austin3.head(3)"
   ]
  },
  {
   "cell_type": "code",
   "execution_count": null,
   "metadata": {},
   "outputs": [],
   "source": [
    "austin3.info()"
   ]
  },
  {
   "cell_type": "code",
   "execution_count": null,
   "metadata": {
    "scrolled": true
   },
   "outputs": [],
   "source": [
    "austin3['2010-01-01'].head(2)"
   ]
  },
  {
   "cell_type": "code",
   "execution_count": null,
   "metadata": {},
   "outputs": [],
   "source": []
  },
  {
   "cell_type": "markdown",
   "metadata": {},
   "source": [
    "## Resampling time series data"
   ]
  },
  {
   "cell_type": "code",
   "execution_count": null,
   "metadata": {
    "scrolled": true
   },
   "outputs": [],
   "source": [
    "fb_sales = pd.read_csv('sales-feb-2015.csv', parse_dates=True, \n",
    "                       index_col='Date')\n",
    "fb_sales.head()"
   ]
  },
  {
   "cell_type": "markdown",
   "metadata": {},
   "source": [
    "### Resampling"
   ]
  },
  {
   "cell_type": "markdown",
   "metadata": {},
   "source": [
    " - Statistical methods over diﬀerent time intervals\n",
    "\t - `mean(), sum(), count(),` etc.\n",
    " - Down-sampling\n",
    " \t - reduce datetime rows to slower frequency  \n",
    " - Up-sampling  \n",
    " \t - increase datetime rows to faster frequency"
   ]
  },
  {
   "cell_type": "markdown",
   "metadata": {},
   "source": [
    "### Aggregating means"
   ]
  },
  {
   "cell_type": "code",
   "execution_count": null,
   "metadata": {},
   "outputs": [],
   "source": [
    "daily_mean = fb_sales.resample('D').mean()\n",
    "daily_mean.head()"
   ]
  },
  {
   "cell_type": "code",
   "execution_count": null,
   "metadata": {},
   "outputs": [],
   "source": [
    "weekly_mean = fb_sales.resample('W').mean()\n",
    "weekly_mean"
   ]
  },
  {
   "cell_type": "code",
   "execution_count": null,
   "metadata": {},
   "outputs": [],
   "source": [
    "two_weeks_mean = fb_sales.resample('2w').mean()\n",
    "two_weeks_mean"
   ]
  },
  {
   "cell_type": "code",
   "execution_count": null,
   "metadata": {},
   "outputs": [],
   "source": [
    "month_mean = fb_sales.resample('m').mean()\n",
    "month_mean"
   ]
  },
  {
   "cell_type": "markdown",
   "metadata": {},
   "source": [
    "### Verifying"
   ]
  },
  {
   "cell_type": "code",
   "execution_count": null,
   "metadata": {},
   "outputs": [],
   "source": [
    "daily_mean.loc['2015-02-05']"
   ]
  },
  {
   "cell_type": "code",
   "execution_count": null,
   "metadata": {},
   "outputs": [],
   "source": [
    "fb_sales.loc['2015-02-05', 'Units']"
   ]
  },
  {
   "cell_type": "markdown",
   "metadata": {},
   "source": [
    "### Method chaining"
   ]
  },
  {
   "cell_type": "code",
   "execution_count": null,
   "metadata": {
    "scrolled": true
   },
   "outputs": [],
   "source": [
    "daily_sum = fb_sales.resample('d').sum()\n",
    "daily_sum.head()"
   ]
  },
  {
   "cell_type": "code",
   "execution_count": null,
   "metadata": {},
   "outputs": [],
   "source": [
    "weekly_sum = fb_sales.resample('w').sum()\n",
    "weekly_sum"
   ]
  },
  {
   "cell_type": "code",
   "execution_count": null,
   "metadata": {},
   "outputs": [],
   "source": [
    "two_weeks_sum = fb_sales.resample('2w').sum()\n",
    "two_weeks_sum"
   ]
  },
  {
   "cell_type": "code",
   "execution_count": null,
   "metadata": {},
   "outputs": [],
   "source": [
    "month_sum = fb_sales.resample('m').sum()\n",
    "month_sum"
   ]
  },
  {
   "cell_type": "code",
   "execution_count": null,
   "metadata": {},
   "outputs": [],
   "source": [
    "fb_sales.resample('d').sum().max()"
   ]
  },
  {
   "cell_type": "markdown",
   "metadata": {},
   "source": [
    "### Resampling strings"
   ]
  },
  {
   "cell_type": "code",
   "execution_count": null,
   "metadata": {},
   "outputs": [],
   "source": [
    "weeky_count = fb_sales.resample('w').count() \n",
    "weeky_count"
   ]
  },
  {
   "cell_type": "markdown",
   "metadata": {},
   "source": [
    "### Resampling frequencies"
   ]
  },
  {
   "cell_type": "markdown",
   "metadata": {},
   "source": [
    "| **Input** | **Description** |\n",
    "|--|--|\n",
    "|  'min', 'T | minute  |\n",
    "| 'H'  | hour |\n",
    "| 'D'  | day |\n",
    "| 'B'  | business day |\n",
    "| 'W'    | week |\n",
    "|  'M' | month |\n",
    " | 'Q'  | quarter |\n",
    "  | 'A'  | year |"
   ]
  },
  {
   "cell_type": "markdown",
   "metadata": {},
   "source": [
    "### Multiplying frequencies"
   ]
  },
  {
   "cell_type": "code",
   "execution_count": null,
   "metadata": {
    "scrolled": true
   },
   "outputs": [],
   "source": [
    "fb_sales.loc[:, 'Units'].resample('2w').sum()"
   ]
  },
  {
   "cell_type": "markdown",
   "metadata": {},
   "source": [
    "### Upsampling"
   ]
  },
  {
   "cell_type": "code",
   "execution_count": null,
   "metadata": {},
   "outputs": [],
   "source": [
    "two_days = fb_sales.loc['2015-2-4':'2015-2-5', 'Units']\n",
    "two_days.sort_index()"
   ]
  },
  {
   "cell_type": "markdown",
   "metadata": {},
   "source": [
    "### Upsampling and filling"
   ]
  },
  {
   "cell_type": "code",
   "execution_count": null,
   "metadata": {},
   "outputs": [],
   "source": [
    "two_days.resample('4h').ffill()"
   ]
  },
  {
   "cell_type": "code",
   "execution_count": null,
   "metadata": {},
   "outputs": [],
   "source": []
  },
  {
   "cell_type": "code",
   "execution_count": null,
   "metadata": {},
   "outputs": [],
   "source": []
  },
  {
   "cell_type": "markdown",
   "metadata": {},
   "source": [
    "## Manipulating time series data"
   ]
  },
  {
   "cell_type": "markdown",
   "metadata": {},
   "source": [
    "### Sales data"
   ]
  },
  {
   "cell_type": "code",
   "execution_count": null,
   "metadata": {},
   "outputs": [],
   "source": [
    "# ['Date'] не делает дату индексом, но превращает столбец в формат datetime64\n",
    "pro_sales = pd.read_csv('sales-feb-2015.csv', parse_dates=['Date'])\n",
    "pro_sales.head()"
   ]
  },
  {
   "cell_type": "code",
   "execution_count": null,
   "metadata": {},
   "outputs": [],
   "source": [
    "pro_sales.info()"
   ]
  },
  {
   "cell_type": "markdown",
   "metadata": {},
   "source": [
    "### String methods"
   ]
  },
  {
   "cell_type": "markdown",
   "metadata": {},
   "source": [
    "#### Capitalize"
   ]
  },
  {
   "cell_type": "code",
   "execution_count": null,
   "metadata": {},
   "outputs": [],
   "source": [
    "pro_sales['Company'].str.upper().head()"
   ]
  },
  {
   "cell_type": "code",
   "execution_count": null,
   "metadata": {
    "scrolled": true
   },
   "outputs": [],
   "source": [
    "pro_sales['Company'].str.capitalize().head()"
   ]
  },
  {
   "cell_type": "markdown",
   "metadata": {},
   "source": [
    "#### Lowercase"
   ]
  },
  {
   "cell_type": "code",
   "execution_count": null,
   "metadata": {
    "scrolled": true
   },
   "outputs": [],
   "source": [
    "pro_sales['Company'].str.lower().head()"
   ]
  },
  {
   "cell_type": "markdown",
   "metadata": {},
   "source": [
    "#### Find a pattern"
   ]
  },
  {
   "cell_type": "code",
   "execution_count": null,
   "metadata": {},
   "outputs": [],
   "source": [
    "ware = pro_sales['Product'].str.endswith('Software')\n",
    "pro_sales[ware]"
   ]
  },
  {
   "cell_type": "code",
   "execution_count": null,
   "metadata": {},
   "outputs": [],
   "source": [
    "ore = pro_sales['Company'].str.endswith('ore')\n",
    "pro_sales[ore]"
   ]
  },
  {
   "cell_type": "code",
   "execution_count": null,
   "metadata": {},
   "outputs": [],
   "source": [
    "ser = pro_sales['Product'].str.contains('Ser*', regex = True)\n",
    "pro_sales[ser]"
   ]
  },
  {
   "cell_type": "code",
   "execution_count": null,
   "metadata": {},
   "outputs": [],
   "source": [
    "ini = pro_sales['Company'].str.contains('Hoo|tech', regex = True)\n",
    "pro_sales[ini] "
   ]
  },
  {
   "cell_type": "markdown",
   "metadata": {},
   "source": [
    "#### Substring matching"
   ]
  },
  {
   "cell_type": "code",
   "execution_count": null,
   "metadata": {},
   "outputs": [],
   "source": [
    "ini_count = pro_sales['Company'].str.count('ini|tech').sum()\n",
    "ini_count "
   ]
  },
  {
   "cell_type": "code",
   "execution_count": null,
   "metadata": {},
   "outputs": [],
   "source": [
    "software = pro_sales['Product'].str.count('Software').sum()\n",
    "software"
   ]
  },
  {
   "cell_type": "code",
   "execution_count": null,
   "metadata": {},
   "outputs": [],
   "source": [
    "service = pro_sales['Product'].str.count('Service').sum()\n",
    "service"
   ]
  },
  {
   "cell_type": "code",
   "execution_count": null,
   "metadata": {},
   "outputs": [],
   "source": [
    "hardware = pro_sales['Product'].str.count('Hardware').sum()\n",
    "hardware"
   ]
  },
  {
   "cell_type": "markdown",
   "metadata": {},
   "source": [
    "### Boolean arithmetic"
   ]
  },
  {
   "cell_type": "code",
   "execution_count": null,
   "metadata": {},
   "outputs": [],
   "source": [
    "True + False"
   ]
  },
  {
   "cell_type": "code",
   "execution_count": null,
   "metadata": {},
   "outputs": [],
   "source": [
    "False + False"
   ]
  },
  {
   "cell_type": "code",
   "execution_count": null,
   "metadata": {},
   "outputs": [],
   "source": [
    "True + True"
   ]
  },
  {
   "cell_type": "code",
   "execution_count": null,
   "metadata": {},
   "outputs": [],
   "source": [
    "True * True"
   ]
  },
  {
   "cell_type": "code",
   "execution_count": null,
   "metadata": {},
   "outputs": [],
   "source": [
    "True - True"
   ]
  },
  {
   "cell_type": "code",
   "execution_count": null,
   "metadata": {},
   "outputs": [],
   "source": [
    "2 * True + 15 * True"
   ]
  },
  {
   "cell_type": "markdown",
   "metadata": {},
   "source": [
    "### Datetimelike properties"
   ]
  },
  {
   "cell_type": "markdown",
   "metadata": {},
   "source": [
    "#### Choose a certain time"
   ]
  },
  {
   "cell_type": "code",
   "execution_count": null,
   "metadata": {
    "scrolled": false
   },
   "outputs": [],
   "source": [
    "pro_sales['Date'].dt.hour.sort_values().head()"
   ]
  },
  {
   "cell_type": "code",
   "execution_count": null,
   "metadata": {},
   "outputs": [],
   "source": [
    "pro_sales['Date'].dt.minute.sort_values().head(3)"
   ]
  },
  {
   "cell_type": "code",
   "execution_count": null,
   "metadata": {},
   "outputs": [],
   "source": [
    "pro_sales['Date'].dt.week.head()"
   ]
  },
  {
   "cell_type": "code",
   "execution_count": null,
   "metadata": {},
   "outputs": [],
   "source": [
    "pro_sales['Date'].dt.date.head()"
   ]
  },
  {
   "cell_type": "code",
   "execution_count": null,
   "metadata": {},
   "outputs": [],
   "source": [
    "pro_sales['Date'].dt.days_in_month.head()"
   ]
  },
  {
   "cell_type": "code",
   "execution_count": null,
   "metadata": {},
   "outputs": [],
   "source": [
    "pro_sales['Date'].dt.weekofyear.sort_values().head()"
   ]
  },
  {
   "cell_type": "code",
   "execution_count": null,
   "metadata": {},
   "outputs": [],
   "source": [
    "pro_sales['Date'].dt.quarter.head(2)"
   ]
  },
  {
   "cell_type": "markdown",
   "metadata": {},
   "source": [
    "#### Set timezone"
   ]
  },
  {
   "cell_type": "code",
   "execution_count": null,
   "metadata": {},
   "outputs": [],
   "source": [
    "central = pro_sales['Date'].dt.tz_localize('US/Central')\n",
    "central.head(3)"
   ]
  },
  {
   "cell_type": "markdown",
   "metadata": {},
   "source": [
    "#### Convert timezone"
   ]
  },
  {
   "cell_type": "code",
   "execution_count": null,
   "metadata": {},
   "outputs": [],
   "source": [
    "central.dt.tz_convert('US/Eastern').head(3)"
   ]
  },
  {
   "cell_type": "markdown",
   "metadata": {},
   "source": [
    "#### Method chaining"
   ]
  },
  {
   "cell_type": "code",
   "execution_count": null,
   "metadata": {},
   "outputs": [],
   "source": [
    "pro_sales['Date'].dt.tz_localize('US/Central').dt.tz_convert('US/Eastern').head(3)"
   ]
  },
  {
   "cell_type": "markdown",
   "metadata": {},
   "source": [
    "### World population"
   ]
  },
  {
   "cell_type": "code",
   "execution_count": null,
   "metadata": {},
   "outputs": [],
   "source": [
    "population = pd.read_csv('world_population.csv', parse_dates=True, index_col='Year')\n",
    "population"
   ]
  },
  {
   "cell_type": "markdown",
   "metadata": {},
   "source": [
    "#### Upsample population"
   ]
  },
  {
   "cell_type": "code",
   "execution_count": null,
   "metadata": {},
   "outputs": [],
   "source": [
    "population.resample('A').last().head()"
   ]
  },
  {
   "cell_type": "code",
   "execution_count": null,
   "metadata": {},
   "outputs": [],
   "source": [
    "population.resample('A').first().head()"
   ]
  },
  {
   "cell_type": "markdown",
   "metadata": {},
   "source": [
    "#### Interpolate missing data"
   ]
  },
  {
   "cell_type": "code",
   "execution_count": null,
   "metadata": {},
   "outputs": [],
   "source": [
    "population.resample('A').first().interpolate('linear').head()"
   ]
  },
  {
   "cell_type": "code",
   "execution_count": null,
   "metadata": {},
   "outputs": [],
   "source": []
  },
  {
   "cell_type": "code",
   "execution_count": null,
   "metadata": {},
   "outputs": [],
   "source": []
  },
  {
   "cell_type": "code",
   "execution_count": null,
   "metadata": {},
   "outputs": [],
   "source": []
  },
  {
   "cell_type": "markdown",
   "metadata": {},
   "source": [
    "# __Case Study - Sunlight in Austin__"
   ]
  },
  {
   "cell_type": "code",
   "execution_count": null,
   "metadata": {},
   "outputs": [],
   "source": []
  },
  {
   "cell_type": "code",
   "execution_count": null,
   "metadata": {},
   "outputs": [],
   "source": []
  },
  {
   "cell_type": "code",
   "execution_count": null,
   "metadata": {},
   "outputs": [],
   "source": []
  }
 ],
 "metadata": {
  "hide_input": false,
  "kernelspec": {
   "display_name": "Python 3",
   "language": "python",
   "name": "python3"
  },
  "language_info": {
   "codemirror_mode": {
    "name": "ipython",
    "version": 3
   },
   "file_extension": ".py",
   "mimetype": "text/x-python",
   "name": "python",
   "nbconvert_exporter": "python",
   "pygments_lexer": "ipython3",
   "version": "3.7.4"
  },
  "latex_envs": {
   "LaTeX_envs_menu_present": true,
   "autoclose": false,
   "autocomplete": true,
   "bibliofile": "biblio.bib",
   "cite_by": "apalike",
   "current_citInitial": 1,
   "eqLabelWithNumbers": true,
   "eqNumInitial": 1,
   "hotkeys": {
    "equation": "Ctrl-E",
    "itemize": "Ctrl-I"
   },
   "labels_anchors": false,
   "latex_user_defs": false,
   "report_style_numbering": false,
   "user_envs_cfg": false
  },
  "toc": {
   "base_numbering": 1,
   "nav_menu": {},
   "number_sections": true,
   "sideBar": true,
   "skip_h1_title": false,
   "title_cell": "Table of Contents",
   "title_sidebar": "Contents",
   "toc_cell": true,
   "toc_position": {
    "height": "285px",
    "left": "61px",
    "top": "66.281px",
    "width": "221.25px"
   },
   "toc_section_display": true,
   "toc_window_display": true
  },
  "varInspector": {
   "cols": {
    "lenName": 16,
    "lenType": 16,
    "lenVar": 40
   },
   "kernels_config": {
    "python": {
     "delete_cmd_postfix": "",
     "delete_cmd_prefix": "del ",
     "library": "var_list.py",
     "varRefreshCmd": "print(var_dic_list())"
    },
    "r": {
     "delete_cmd_postfix": ") ",
     "delete_cmd_prefix": "rm(",
     "library": "var_list.r",
     "varRefreshCmd": "cat(var_dic_list()) "
    }
   },
   "position": {
    "height": "537px",
    "left": "273px",
    "right": "20px",
    "top": "175px",
    "width": "624px"
   },
   "types_to_exclude": [
    "module",
    "function",
    "builtin_function_or_method",
    "instance",
    "_Feature"
   ],
   "window_display": false
  }
 },
 "nbformat": 4,
 "nbformat_minor": 2
}
