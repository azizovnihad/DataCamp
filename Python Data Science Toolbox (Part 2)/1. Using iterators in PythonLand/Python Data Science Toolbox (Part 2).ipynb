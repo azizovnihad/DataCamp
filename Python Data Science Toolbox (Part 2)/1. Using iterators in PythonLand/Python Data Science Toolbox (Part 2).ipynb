{
 "cells": [
  {
   "cell_type": "markdown",
   "metadata": {},
   "source": [
    "# DataScience Toolbox 2"
   ]
  },
  {
   "cell_type": "markdown",
   "metadata": {},
   "source": [
    "___"
   ]
  },
  {
   "cell_type": "markdown",
   "metadata": {},
   "source": [
    "# 1.2 Playing with iterators"
   ]
  },
  {
   "cell_type": "code",
   "execution_count": 5,
   "metadata": {
    "scrolled": false
   },
   "outputs": [
    {
     "data": {
      "text/plain": [
       "('charles xavier',\n",
       " 'bobby drake',\n",
       " 'kurt wagner',\n",
       " 'max eisenhardt',\n",
       " 'kitty pryde')"
      ]
     },
     "metadata": {},
     "output_type": "display_data"
    },
    {
     "data": {
      "text/plain": [
       "['barton', 'stark', 'odinson', 'maximoff']"
      ]
     },
     "metadata": {},
     "output_type": "display_data"
    }
   ],
   "source": [
    "mutants = ('charles xavier',\n",
    " 'bobby drake',\n",
    " 'kurt wagner',\n",
    " 'max eisenhardt',\n",
    " 'kitty pryde')\n",
    "\n",
    "names = ['barton', 'stark', 'odinson', 'maximoff']\n",
    "\n",
    "display(mutants)\n",
    "display(names)"
   ]
  },
  {
   "cell_type": "code",
   "execution_count": 2,
   "metadata": {
    "scrolled": false
   },
   "outputs": [
    {
     "data": {
      "text/plain": [
       "<zip at 0x1b3dd7a2ec8>"
      ]
     },
     "execution_count": 2,
     "metadata": {},
     "output_type": "execute_result"
    }
   ],
   "source": [
    "mutants_zip = zip(mutants)\n",
    "mutants_zip"
   ]
  },
  {
   "cell_type": "code",
   "execution_count": 14,
   "metadata": {
    "scrolled": true
   },
   "outputs": [
    {
     "data": {
      "text/plain": [
       "('charles xavier',)"
      ]
     },
     "metadata": {},
     "output_type": "display_data"
    },
    {
     "data": {
      "text/plain": [
       "('bobby drake',)"
      ]
     },
     "metadata": {},
     "output_type": "display_data"
    },
    {
     "data": {
      "text/plain": [
       "('kurt wagner',)"
      ]
     },
     "metadata": {},
     "output_type": "display_data"
    },
    {
     "data": {
      "text/plain": [
       "('max eisenhardt',)"
      ]
     },
     "metadata": {},
     "output_type": "display_data"
    },
    {
     "data": {
      "text/plain": [
       "('kitty pryde',)"
      ]
     },
     "metadata": {},
     "output_type": "display_data"
    }
   ],
   "source": [
    "display(*mutants_zip)"
   ]
  },
  {
   "cell_type": "code",
   "execution_count": 16,
   "metadata": {},
   "outputs": [
    {
     "ename": "SyntaxError",
     "evalue": "can't use starred expression here (<ipython-input-16-9c41d4017b5a>, line 4)",
     "output_type": "error",
     "traceback": [
      "\u001b[1;36m  File \u001b[1;32m\"<ipython-input-16-9c41d4017b5a>\"\u001b[1;36m, line \u001b[1;32m4\u001b[0m\n\u001b[1;31mSyntaxError\u001b[0m\u001b[1;31m:\u001b[0m can't use starred expression here\n"
     ]
    }
   ],
   "source": [
    "*mutants_zip"
   ]
  },
  {
   "cell_type": "code",
   "execution_count": 4,
   "metadata": {
    "scrolled": true
   },
   "outputs": [
    {
     "data": {
      "text/plain": [
       "[('charles xavier',),\n",
       " ('bobby drake',),\n",
       " ('kurt wagner',),\n",
       " ('max eisenhardt',),\n",
       " ('kitty pryde',)]"
      ]
     },
     "execution_count": 4,
     "metadata": {},
     "output_type": "execute_result"
    }
   ],
   "source": [
    "mutants_unzip = list(zip(mutants))\n",
    "mutants_unzip"
   ]
  },
  {
   "cell_type": "code",
   "execution_count": 10,
   "metadata": {},
   "outputs": [
    {
     "name": "stdout",
     "output_type": "stream",
     "text": [
      "barton - charles xavier\n",
      "stark - bobby drake\n",
      "odinson - kurt wagner\n",
      "maximoff - max eisenhardt\n"
     ]
    }
   ],
   "source": [
    "for z1, z2 in zip(names, mutants):\n",
    "    print(z1 + \" - \" + z2)"
   ]
  },
  {
   "cell_type": "markdown",
   "metadata": {},
   "source": [
    "___"
   ]
  },
  {
   "cell_type": "markdown",
   "metadata": {},
   "source": [
    "# 1.3 Using iterators to load large files into memory"
   ]
  },
  {
   "cell_type": "markdown",
   "metadata": {},
   "source": [
    "### Loading data in chunks\n",
    "\n",
    "- There can be too much data to hold in memory\n",
    "- Solution: load data in chunks!\n",
    "- Pandas function:     read_csv()\n",
    "    - Specify the chunk: chunk_size"
   ]
  },
  {
   "cell_type": "markdown",
   "metadata": {},
   "source": [
    "### Iterating over data"
   ]
  },
  {
   "cell_type": "code",
   "execution_count": 19,
   "metadata": {},
   "outputs": [
    {
     "name": "stdout",
     "output_type": "stream",
     "text": [
      "('charles xavier', 'telepathy') ('bobby drake', 'thermokinesis') ('kurt wagner', 'teleportation') ('max eisenhardt', 'magnetokinesis') ('kitty pryde', 'intangibility')\n",
      "True\n",
      "True\n"
     ]
    }
   ],
   "source": [
    "mutants = ('charles xavier',\n",
    " 'bobby drake',\n",
    " 'kurt wagner',\n",
    " 'max eisenhardt',\n",
    " 'kitty pryde')\n",
    "powers = ('telepathy',\n",
    " 'thermokinesis',\n",
    " 'teleportation',\n",
    " 'magnetokinesis',\n",
    " 'intangibility')\n",
    "\n",
    "# Create a zip object from mutants and powers: z1\n",
    "z1 = zip(mutants, powers)\n",
    "\n",
    "# Print the tuples in z1 by unpacking with *\n",
    "print(*z1)\n",
    "\n",
    "# Re-create a zip object from mutants and powers: z1\n",
    "z1 = zip(mutants, powers)\n",
    "\n",
    "# 'Unzip' the tuples in z1 by unpacking with * and zip(): result1, result2\n",
    "result1, result2 = zip(*z1)\n",
    "\n",
    "# Check if unpacked tuples are equivalent to original tuples\n",
    "print(result1 == mutants)\n",
    "print(result2 == powers)"
   ]
  },
  {
   "cell_type": "code",
   "execution_count": 28,
   "metadata": {},
   "outputs": [
    {
     "ename": "ValueError",
     "evalue": "not enough values to unpack (expected 2, got 0)",
     "output_type": "error",
     "traceback": [
      "\u001b[1;31m---------------------------------------------------------------------------\u001b[0m",
      "\u001b[1;31mValueError\u001b[0m                                Traceback (most recent call last)",
      "\u001b[1;32m<ipython-input-28-4d11122637c9>\u001b[0m in \u001b[0;36m<module>\u001b[1;34m\u001b[0m\n\u001b[0;32m     12\u001b[0m \u001b[0mz1\u001b[0m \u001b[1;33m=\u001b[0m \u001b[0mzip\u001b[0m\u001b[1;33m(\u001b[0m\u001b[0mmutants\u001b[0m\u001b[1;33m,\u001b[0m \u001b[0mpowers\u001b[0m\u001b[1;33m)\u001b[0m \u001b[1;31m#create zip object\u001b[0m\u001b[1;33m\u001b[0m\u001b[1;33m\u001b[0m\u001b[0m\n\u001b[0;32m     13\u001b[0m \u001b[0mz1_list\u001b[0m \u001b[1;33m=\u001b[0m \u001b[0mlist\u001b[0m\u001b[1;33m(\u001b[0m\u001b[0mz1\u001b[0m\u001b[1;33m)\u001b[0m\u001b[1;33m\u001b[0m\u001b[1;33m\u001b[0m\u001b[0m\n\u001b[1;32m---> 14\u001b[1;33m \u001b[0mnumber1\u001b[0m\u001b[1;33m,\u001b[0m \u001b[0mnumber2\u001b[0m \u001b[1;33m=\u001b[0m \u001b[0mzip\u001b[0m\u001b[1;33m(\u001b[0m\u001b[1;33m*\u001b[0m\u001b[0mz1\u001b[0m\u001b[1;33m)\u001b[0m\u001b[1;33m\u001b[0m\u001b[1;33m\u001b[0m\u001b[0m\n\u001b[0m\u001b[0;32m     15\u001b[0m \u001b[0mprint\u001b[0m\u001b[1;33m(\u001b[0m\u001b[0mnumber1\u001b[0m\u001b[1;33m)\u001b[0m\u001b[1;33m\u001b[0m\u001b[1;33m\u001b[0m\u001b[0m\n\u001b[0;32m     16\u001b[0m \u001b[0mprint\u001b[0m\u001b[1;33m(\u001b[0m\u001b[0mnumber2\u001b[0m\u001b[1;33m)\u001b[0m\u001b[1;33m\u001b[0m\u001b[1;33m\u001b[0m\u001b[0m\n",
      "\u001b[1;31mValueError\u001b[0m: not enough values to unpack (expected 2, got 0)"
     ]
    }
   ],
   "source": [
    "mutants = ('charles xavier',\n",
    " 'bobby drake',\n",
    " 'kurt wagner',\n",
    " 'max eisenhardt',\n",
    " 'kitty pryde')\n",
    "powers = ('telepathy',\n",
    " 'thermokinesis',\n",
    " 'teleportation',\n",
    " 'magnetokinesis',\n",
    " 'intangibility')\n",
    "\n",
    "z1 = zip(mutants, powers) #create zip object\n",
    "z1_list = list(z1)\n",
    "number1, number2 = zip(*z1)\n",
    "print(number1)\n",
    "print(number2)"
   ]
  },
  {
   "cell_type": "code",
   "execution_count": 18,
   "metadata": {},
   "outputs": [
    {
     "data": {
      "text/plain": [
       "125750"
      ]
     },
     "metadata": {},
     "output_type": "display_data"
    }
   ],
   "source": [
    "import pandas as pd\n",
    "\n",
    "f500 = []\n",
    "\n",
    "for chunk in pd.read_csv('F500.csv', chunksize = 250, delimiter = ';'):\n",
    "    f500.append(sum(chunk['id']))\n",
    "total = sum(f500)\n",
    "display(total)\n",
    "\n"
   ]
  },
  {
   "cell_type": "code",
   "execution_count": 17,
   "metadata": {},
   "outputs": [
    {
     "data": {
      "text/plain": [
       "125750"
      ]
     },
     "metadata": {},
     "output_type": "display_data"
    }
   ],
   "source": [
    "import pandas as pd\n",
    "\n",
    "total = 0 \n",
    "\n",
    "for chunk in pd.read_csv('F500.csv', chunksize = 100, delimiter = ';'):\n",
    "    total += sum(chunk['id'])\n",
    "\n",
    "display(total)\n",
    "\n"
   ]
  },
  {
   "cell_type": "code",
   "execution_count": 8,
   "metadata": {},
   "outputs": [
    {
     "data": {
      "text/html": [
       "<div>\n",
       "<style scoped>\n",
       "    .dataframe tbody tr th:only-of-type {\n",
       "        vertical-align: middle;\n",
       "    }\n",
       "\n",
       "    .dataframe tbody tr th {\n",
       "        vertical-align: top;\n",
       "    }\n",
       "\n",
       "    .dataframe thead th {\n",
       "        text-align: right;\n",
       "    }\n",
       "</style>\n",
       "<table border=\"1\" class=\"dataframe\">\n",
       "  <thead>\n",
       "    <tr style=\"text-align: right;\">\n",
       "      <th></th>\n",
       "      <th>id</th>\n",
       "      <th>rank</th>\n",
       "      <th>name</th>\n",
       "      <th>employees</th>\n",
       "      <th>previousrank</th>\n",
       "      <th>revenues</th>\n",
       "      <th>revenuechange</th>\n",
       "      <th>profits</th>\n",
       "      <th>profitschange</th>\n",
       "      <th>assets</th>\n",
       "      <th>marketvalue</th>\n",
       "    </tr>\n",
       "  </thead>\n",
       "  <tbody>\n",
       "    <tr>\n",
       "      <th>0</th>\n",
       "      <td>2</td>\n",
       "      <td>1</td>\n",
       "      <td>Walmart</td>\n",
       "      <td>2,300,000</td>\n",
       "      <td>1.0</td>\n",
       "      <td>$485,873</td>\n",
       "      <td>0.8%</td>\n",
       "      <td>$13,643.0</td>\n",
       "      <td>-7.2%</td>\n",
       "      <td>$198,825</td>\n",
       "      <td>$218,619</td>\n",
       "    </tr>\n",
       "    <tr>\n",
       "      <th>1</th>\n",
       "      <td>3</td>\n",
       "      <td>2</td>\n",
       "      <td>Berkshire Hathaway</td>\n",
       "      <td>367,700</td>\n",
       "      <td>4.0</td>\n",
       "      <td>$223,604</td>\n",
       "      <td>6.1%</td>\n",
       "      <td>$24,074.0</td>\n",
       "      <td>0.0%</td>\n",
       "      <td>$620,854</td>\n",
       "      <td>$411,035</td>\n",
       "    </tr>\n",
       "    <tr>\n",
       "      <th>2</th>\n",
       "      <td>4</td>\n",
       "      <td>3</td>\n",
       "      <td>Apple</td>\n",
       "      <td>116,000</td>\n",
       "      <td>3.0</td>\n",
       "      <td>$215,639</td>\n",
       "      <td>-7.7%</td>\n",
       "      <td>$45,687.0</td>\n",
       "      <td>-14.4%</td>\n",
       "      <td>$321,686</td>\n",
       "      <td>$753,718</td>\n",
       "    </tr>\n",
       "    <tr>\n",
       "      <th>3</th>\n",
       "      <td>5</td>\n",
       "      <td>4</td>\n",
       "      <td>Exxon Mobil</td>\n",
       "      <td>72,700</td>\n",
       "      <td>2.0</td>\n",
       "      <td>$205,004</td>\n",
       "      <td>-16.7%</td>\n",
       "      <td>$7,840.0</td>\n",
       "      <td>-51.5%</td>\n",
       "      <td>$330,314</td>\n",
       "      <td>$340,056</td>\n",
       "    </tr>\n",
       "    <tr>\n",
       "      <th>4</th>\n",
       "      <td>6</td>\n",
       "      <td>5</td>\n",
       "      <td>McKesson</td>\n",
       "      <td>68,000</td>\n",
       "      <td>5.0</td>\n",
       "      <td>$192,487</td>\n",
       "      <td>6.2%</td>\n",
       "      <td>$2,258.0</td>\n",
       "      <td>53.0%</td>\n",
       "      <td>$56,563</td>\n",
       "      <td>$31,439</td>\n",
       "    </tr>\n",
       "  </tbody>\n",
       "</table>\n",
       "</div>"
      ],
      "text/plain": [
       "   id  rank                name  employees  previousrank  revenues  \\\n",
       "0   2     1             Walmart  2,300,000           1.0  $485,873   \n",
       "1   3     2  Berkshire Hathaway    367,700           4.0  $223,604   \n",
       "2   4     3               Apple    116,000           3.0  $215,639   \n",
       "3   5     4         Exxon Mobil     72,700           2.0  $205,004   \n",
       "4   6     5            McKesson     68,000           5.0  $192,487   \n",
       "\n",
       "  revenuechange     profits profitschange    assets marketvalue  \n",
       "0          0.8%  $13,643.0          -7.2%  $198,825    $218,619  \n",
       "1          6.1%  $24,074.0           0.0%  $620,854    $411,035  \n",
       "2         -7.7%  $45,687.0         -14.4%  $321,686    $753,718  \n",
       "3        -16.7%   $7,840.0         -51.5%  $330,314    $340,056  \n",
       "4          6.2%   $2,258.0          53.0%   $56,563     $31,439  "
      ]
     },
     "execution_count": 8,
     "metadata": {},
     "output_type": "execute_result"
    }
   ],
   "source": [
    "fortune = pd.read_csv('F500.csv', delimiter = ';')\n",
    "fortune.head()"
   ]
  },
  {
   "cell_type": "code",
   "execution_count": null,
   "metadata": {},
   "outputs": [],
   "source": []
  },
  {
   "cell_type": "code",
   "execution_count": null,
   "metadata": {},
   "outputs": [],
   "source": []
  },
  {
   "cell_type": "code",
   "execution_count": 19,
   "metadata": {
    "scrolled": true
   },
   "outputs": [
    {
     "data": {
      "text/plain": [
       "125750"
      ]
     },
     "execution_count": 19,
     "metadata": {},
     "output_type": "execute_result"
    }
   ],
   "source": [
    "def new_function(data, col_name, chunk_size, dlr = ';'):\n",
    "    \n",
    "    total = 0\n",
    "       \n",
    "    for entry in pd.read_csv(data, chunksize = chunk_size, delimiter = dlr):\n",
    "        total += sum(entry[col_name])\n",
    "    return total\n",
    "\n",
    "x = new_function('F500.csv', 'id', 100)\n",
    "x"
   ]
  },
  {
   "cell_type": "code",
   "execution_count": 21,
   "metadata": {},
   "outputs": [
    {
     "data": {
      "text/plain": [
       "500"
      ]
     },
     "execution_count": 21,
     "metadata": {},
     "output_type": "execute_result"
    }
   ],
   "source": [
    "def find_len_of_table(data, col_name, chunk_size, dlr =';'):\n",
    "    total = 0\n",
    "    for entry in pd.read_csv(data, chunksize = chunk_size, delimiter = dlr):\n",
    "        total += len(entry[col_name])\n",
    "    return total\n",
    "\n",
    "y = find_len_of_table('F500.csv', 'id', 10)\n",
    "y"
   ]
  },
  {
   "cell_type": "markdown",
   "metadata": {},
   "source": [
    "___"
   ]
  },
  {
   "cell_type": "markdown",
   "metadata": {},
   "source": [
    "# List compehensions"
   ]
  },
  {
   "cell_type": "code",
   "execution_count": 24,
   "metadata": {},
   "outputs": [
    {
     "data": {
      "text/plain": [
       "[13, 9, 22, 4, 17]"
      ]
     },
     "execution_count": 24,
     "metadata": {},
     "output_type": "execute_result"
    }
   ],
   "source": [
    "nums = [12, 8, 21, 3, 16]\n",
    "new_nums = []\n",
    "for num in nums:\n",
    "    new_nums.append(num + 1)\n",
    "    \n",
    "new_nums"
   ]
  },
  {
   "cell_type": "code",
   "execution_count": 26,
   "metadata": {},
   "outputs": [
    {
     "data": {
      "text/plain": [
       "[120, 80, 210, 30, 160]"
      ]
     },
     "execution_count": 26,
     "metadata": {},
     "output_type": "execute_result"
    }
   ],
   "source": [
    "new_nums_lt = [num * 10 for num in nums]\n",
    "new_nums_lt"
   ]
  },
  {
   "cell_type": "code",
   "execution_count": 27,
   "metadata": {},
   "outputs": [
    {
     "data": {
      "text/plain": [
       "['hawkeye i am alive',\n",
       " 'iron man i am alive',\n",
       " 'thor i am alive',\n",
       " 'quicksilver i am alive']"
      ]
     },
     "execution_count": 27,
     "metadata": {},
     "output_type": "execute_result"
    }
   ],
   "source": [
    "avengers = ['hawkeye', 'iron man', 'thor', 'quicksilver']\n",
    "new_avengers = [avg + ' i am alive' for avg in avengers]\n",
    "new_avengers"
   ]
  },
  {
   "cell_type": "code",
   "execution_count": 51,
   "metadata": {},
   "outputs": [
    {
     "data": {
      "text/plain": [
       "['0 hawkeye',\n",
       " '0 iron man',\n",
       " '0 thor',\n",
       " '0 quicksilver',\n",
       " '1 hawkeye',\n",
       " '1 iron man',\n",
       " '1 thor',\n",
       " '1 quicksilver',\n",
       " '2 hawkeye',\n",
       " '2 iron man',\n",
       " '2 thor',\n",
       " '2 quicksilver']"
      ]
     },
     "execution_count": 51,
     "metadata": {},
     "output_type": "execute_result"
    }
   ],
   "source": [
    "count_avengers = [(str(x) + \" \" + y) for x in range(3) for y in avengers]\n",
    "count_avengers"
   ]
  },
  {
   "cell_type": "code",
   "execution_count": 42,
   "metadata": {},
   "outputs": [
    {
     "data": {
      "text/plain": [
       "[1, 3, 5, 7, 9]"
      ]
     },
     "execution_count": 42,
     "metadata": {},
     "output_type": "execute_result"
    }
   ],
   "source": [
    "result = [num for num in range(1, 10, 2)]\n",
    "result"
   ]
  },
  {
   "cell_type": "code",
   "execution_count": 48,
   "metadata": {},
   "outputs": [
    {
     "ename": "TypeError",
     "evalue": "append() takes exactly one argument (2 given)",
     "output_type": "error",
     "traceback": [
      "\u001b[1;31m---------------------------------------------------------------------------\u001b[0m",
      "\u001b[1;31mTypeError\u001b[0m                                 Traceback (most recent call last)",
      "\u001b[1;32m<ipython-input-48-1605e146467c>\u001b[0m in \u001b[0;36m<module>\u001b[1;34m\u001b[0m\n\u001b[0;32m      2\u001b[0m \u001b[1;32mfor\u001b[0m \u001b[0mnum1\u001b[0m \u001b[1;32min\u001b[0m \u001b[0mrange\u001b[0m\u001b[1;33m(\u001b[0m\u001b[1;36m10\u001b[0m\u001b[1;33m,\u001b[0m \u001b[1;36m20\u001b[0m\u001b[1;33m)\u001b[0m\u001b[1;33m:\u001b[0m\u001b[1;33m\u001b[0m\u001b[1;33m\u001b[0m\u001b[0m\n\u001b[0;32m      3\u001b[0m     \u001b[1;32mfor\u001b[0m \u001b[0mnum2\u001b[0m \u001b[1;32min\u001b[0m \u001b[0mrange\u001b[0m\u001b[1;33m(\u001b[0m\u001b[1;36m25\u001b[0m\u001b[1;33m,\u001b[0m \u001b[1;36m50\u001b[0m\u001b[1;33m)\u001b[0m\u001b[1;33m:\u001b[0m\u001b[1;33m\u001b[0m\u001b[1;33m\u001b[0m\u001b[0m\n\u001b[1;32m----> 4\u001b[1;33m       \u001b[0mpairs\u001b[0m\u001b[1;33m.\u001b[0m\u001b[0mappend\u001b[0m\u001b[1;33m(\u001b[0m\u001b[0mnum1\u001b[0m\u001b[1;33m,\u001b[0m \u001b[0mnum2\u001b[0m\u001b[1;33m)\u001b[0m\u001b[1;33m\u001b[0m\u001b[1;33m\u001b[0m\u001b[0m\n\u001b[0m\u001b[0;32m      5\u001b[0m \u001b[0mpairs\u001b[0m\u001b[1;33m\u001b[0m\u001b[1;33m\u001b[0m\u001b[0m\n",
      "\u001b[1;31mTypeError\u001b[0m: append() takes exactly one argument (2 given)"
     ]
    }
   ],
   "source": [
    "pairs = []\n",
    "for num1 in range(10, 20):\n",
    "    for num2 in range(25, 50):\n",
    "      pairs.append(num1, num2)\n",
    "pairs"
   ]
  },
  {
   "cell_type": "code",
   "execution_count": 50,
   "metadata": {
    "scrolled": true
   },
   "outputs": [
    {
     "ename": "TypeError",
     "evalue": "append() takes exactly one argument (2 given)",
     "output_type": "error",
     "traceback": [
      "\u001b[1;31m---------------------------------------------------------------------------\u001b[0m",
      "\u001b[1;31mTypeError\u001b[0m                                 Traceback (most recent call last)",
      "\u001b[1;32m<ipython-input-50-ed4b4efb0d15>\u001b[0m in \u001b[0;36m<module>\u001b[1;34m\u001b[0m\n\u001b[0;32m      2\u001b[0m \u001b[1;32mfor\u001b[0m \u001b[0mnum1\u001b[0m \u001b[1;32min\u001b[0m \u001b[0mrange\u001b[0m\u001b[1;33m(\u001b[0m\u001b[1;36m0\u001b[0m\u001b[1;33m,\u001b[0m \u001b[1;36m2\u001b[0m\u001b[1;33m)\u001b[0m\u001b[1;33m:\u001b[0m\u001b[1;33m\u001b[0m\u001b[1;33m\u001b[0m\u001b[0m\n\u001b[0;32m      3\u001b[0m     \u001b[1;32mfor\u001b[0m \u001b[0mnum2\u001b[0m \u001b[1;32min\u001b[0m \u001b[0mrange\u001b[0m\u001b[1;33m(\u001b[0m\u001b[1;36m6\u001b[0m\u001b[1;33m,\u001b[0m \u001b[1;36m8\u001b[0m\u001b[1;33m)\u001b[0m\u001b[1;33m:\u001b[0m\u001b[1;33m\u001b[0m\u001b[1;33m\u001b[0m\u001b[0m\n\u001b[1;32m----> 4\u001b[1;33m         \u001b[0mpairs_1\u001b[0m\u001b[1;33m.\u001b[0m\u001b[0mappend\u001b[0m\u001b[1;33m(\u001b[0m\u001b[0mnum1\u001b[0m\u001b[1;33m,\u001b[0m \u001b[0mnum2\u001b[0m\u001b[1;33m)\u001b[0m\u001b[1;33m\u001b[0m\u001b[1;33m\u001b[0m\u001b[0m\n\u001b[0m\u001b[0;32m      5\u001b[0m \u001b[0mprint\u001b[0m\u001b[1;33m(\u001b[0m\u001b[0mpairs_1\u001b[0m\u001b[1;33m)\u001b[0m\u001b[1;33m\u001b[0m\u001b[1;33m\u001b[0m\u001b[0m\n",
      "\u001b[1;31mTypeError\u001b[0m: append() takes exactly one argument (2 given)"
     ]
    }
   ],
   "source": [
    "pairs_1 = []\n",
    "for num1 in range(0, 2):\n",
    "    for num2 in range(6, 8):\n",
    "        pairs_1.append(num1, num2)\n",
    "print(pairs_1)"
   ]
  },
  {
   "cell_type": "code",
   "execution_count": 53,
   "metadata": {},
   "outputs": [
    {
     "data": {
      "text/plain": [
       "[(50, 100), (50, 101), (50, 102), (51, 100), (51, 101), (51, 102)]"
      ]
     },
     "execution_count": 53,
     "metadata": {},
     "output_type": "execute_result"
    }
   ],
   "source": [
    "pairs_2 = [(num5, num6) for num5 in range(50, 52) for num6 in range(100, 103)]\n",
    "pairs_2"
   ]
  },
  {
   "cell_type": "code",
   "execution_count": 55,
   "metadata": {},
   "outputs": [
    {
     "data": {
      "text/plain": [
       "[8, 16, 24, 32, 40, 48, 56, 64, 72, 80, 88, 96]"
      ]
     },
     "execution_count": 55,
     "metadata": {},
     "output_type": "execute_result"
    }
   ],
   "source": [
    "x = [num * 2 for num in range(4, 50) if num%4 == 0]\n",
    "x"
   ]
  },
  {
   "cell_type": "code",
   "execution_count": 58,
   "metadata": {},
   "outputs": [
    {
     "data": {
      "text/plain": [
       "['thor']"
      ]
     },
     "execution_count": 58,
     "metadata": {},
     "output_type": "execute_result"
    }
   ],
   "source": [
    "avengers = ['hawkeye', 'iron man', 'thor', 'quicksilver']\n",
    "les_av = [num for num in avengers if len(num) <=5]\n",
    "les_av"
   ]
  },
  {
   "cell_type": "code",
   "execution_count": 63,
   "metadata": {},
   "outputs": [
    {
     "ename": "ValueError",
     "evalue": "too many values to unpack (expected 2)",
     "output_type": "error",
     "traceback": [
      "\u001b[1;31m---------------------------------------------------------------------------\u001b[0m",
      "\u001b[1;31mValueError\u001b[0m                                Traceback (most recent call last)",
      "\u001b[1;32m<ipython-input-63-836ad633e496>\u001b[0m in \u001b[0;36m<module>\u001b[1;34m\u001b[0m\n\u001b[0;32m      1\u001b[0m \u001b[0mamerican_names\u001b[0m \u001b[1;33m=\u001b[0m \u001b[1;33m{\u001b[0m\u001b[1;34m'address'\u001b[0m\u001b[1;33m:\u001b[0m \u001b[1;34m'Downtown'\u001b[0m\u001b[1;33m,\u001b[0m \u001b[1;34m'age'\u001b[0m\u001b[1;33m:\u001b[0m \u001b[1;36m27\u001b[0m\u001b[1;33m,\u001b[0m \u001b[1;34m'name'\u001b[0m\u001b[1;33m:\u001b[0m \u001b[1;34m'Jack'\u001b[0m\u001b[1;33m}\u001b[0m\u001b[1;33m\u001b[0m\u001b[1;33m\u001b[0m\u001b[0m\n\u001b[0;32m      2\u001b[0m \u001b[1;33m\u001b[0m\u001b[0m\n\u001b[1;32m----> 3\u001b[1;33m \u001b[0mamer_dct\u001b[0m \u001b[1;33m=\u001b[0m \u001b[1;33m{\u001b[0m\u001b[0mx\u001b[0m\u001b[1;33m:\u001b[0m  \u001b[0my\u001b[0m \u001b[1;32mfor\u001b[0m \u001b[0mx\u001b[0m\u001b[1;33m,\u001b[0m \u001b[0my\u001b[0m \u001b[1;32min\u001b[0m \u001b[0mamerican_names\u001b[0m\u001b[1;33m}\u001b[0m\u001b[1;33m\u001b[0m\u001b[1;33m\u001b[0m\u001b[0m\n\u001b[0m\u001b[0;32m      4\u001b[0m \u001b[0mamer_dct\u001b[0m\u001b[1;33m\u001b[0m\u001b[1;33m\u001b[0m\u001b[0m\n",
      "\u001b[1;32m<ipython-input-63-836ad633e496>\u001b[0m in \u001b[0;36m<dictcomp>\u001b[1;34m(.0)\u001b[0m\n\u001b[0;32m      1\u001b[0m \u001b[0mamerican_names\u001b[0m \u001b[1;33m=\u001b[0m \u001b[1;33m{\u001b[0m\u001b[1;34m'address'\u001b[0m\u001b[1;33m:\u001b[0m \u001b[1;34m'Downtown'\u001b[0m\u001b[1;33m,\u001b[0m \u001b[1;34m'age'\u001b[0m\u001b[1;33m:\u001b[0m \u001b[1;36m27\u001b[0m\u001b[1;33m,\u001b[0m \u001b[1;34m'name'\u001b[0m\u001b[1;33m:\u001b[0m \u001b[1;34m'Jack'\u001b[0m\u001b[1;33m}\u001b[0m\u001b[1;33m\u001b[0m\u001b[1;33m\u001b[0m\u001b[0m\n\u001b[0;32m      2\u001b[0m \u001b[1;33m\u001b[0m\u001b[0m\n\u001b[1;32m----> 3\u001b[1;33m \u001b[0mamer_dct\u001b[0m \u001b[1;33m=\u001b[0m \u001b[1;33m{\u001b[0m\u001b[0mx\u001b[0m\u001b[1;33m:\u001b[0m  \u001b[0my\u001b[0m \u001b[1;32mfor\u001b[0m \u001b[0mx\u001b[0m\u001b[1;33m,\u001b[0m \u001b[0my\u001b[0m \u001b[1;32min\u001b[0m \u001b[0mamerican_names\u001b[0m\u001b[1;33m}\u001b[0m\u001b[1;33m\u001b[0m\u001b[1;33m\u001b[0m\u001b[0m\n\u001b[0m\u001b[0;32m      4\u001b[0m \u001b[0mamer_dct\u001b[0m\u001b[1;33m\u001b[0m\u001b[1;33m\u001b[0m\u001b[0m\n",
      "\u001b[1;31mValueError\u001b[0m: too many values to unpack (expected 2)"
     ]
    }
   ],
   "source": [
    "american_names = {'address': 'Downtown', 'age': 27, 'name': 'Jack'}\n",
    "\n",
    "amer_dct = {x:  y for x, y in american_names}\n",
    "amer_dct\n"
   ]
  },
  {
   "cell_type": "code",
   "execution_count": 3,
   "metadata": {},
   "outputs": [
    {
     "data": {
      "text/plain": [
       "[['house - доктор',\n",
       "  'cuddy - доктор',\n",
       "  'chase - доктор',\n",
       "  'thirteen - доктор',\n",
       "  'wilson - доктор'],\n",
       " ['house - доктор',\n",
       "  'cuddy - доктор',\n",
       "  'chase - доктор',\n",
       "  'thirteen - доктор',\n",
       "  'wilson - доктор'],\n",
       " ['house - доктор',\n",
       "  'cuddy - доктор',\n",
       "  'chase - доктор',\n",
       "  'thirteen - доктор',\n",
       "  'wilson - доктор']]"
      ]
     },
     "execution_count": 3,
     "metadata": {},
     "output_type": "execute_result"
    }
   ],
   "source": [
    "doctor = ['house', 'cuddy', 'chase', 'thirteen', 'wilson']\n",
    "flash = ['jay garrick', 'barry allen', 'wally west', 'bart allen']\n",
    "x = [[dt + \" - доктор\" for dt in doctor] for y in range(0,3)]\n",
    "x"
   ]
  },
  {
   "cell_type": "markdown",
   "metadata": {},
   "source": [
    "___"
   ]
  },
  {
   "cell_type": "markdown",
   "metadata": {},
   "source": [
    "# Introduction to generator expressions"
   ]
  },
  {
   "cell_type": "code",
   "execution_count": 4,
   "metadata": {},
   "outputs": [
    {
     "data": {
      "text/plain": [
       "<generator object <genexpr> at 0x0000024464D8A5E8>"
      ]
     },
     "execution_count": 4,
     "metadata": {},
     "output_type": "execute_result"
    }
   ],
   "source": [
    "x = (y for y in range(4))\n",
    "x"
   ]
  },
  {
   "cell_type": "code",
   "execution_count": 6,
   "metadata": {},
   "outputs": [
    {
     "data": {
      "text/plain": [
       "[0, 1, 2, 3]"
      ]
     },
     "execution_count": 6,
     "metadata": {},
     "output_type": "execute_result"
    }
   ],
   "source": [
    "z = list(x)\n",
    "z"
   ]
  },
  {
   "cell_type": "code",
   "execution_count": 13,
   "metadata": {},
   "outputs": [
    {
     "data": {
      "text/plain": [
       "[]"
      ]
     },
     "execution_count": 13,
     "metadata": {},
     "output_type": "execute_result"
    }
   ],
   "source": [
    "xy = zip(x)\n",
    "xy\n",
    "xyz = list(xy)\n",
    "xyz"
   ]
  },
  {
   "cell_type": "code",
   "execution_count": 14,
   "metadata": {},
   "outputs": [
    {
     "name": "stdout",
     "output_type": "stream",
     "text": [
      "0\n",
      "1\n",
      "2\n",
      "3\n"
     ]
    }
   ],
   "source": [
    "x = (y for y in range(4))\n",
    "\n",
    "for num in x:\n",
    "    print(num)"
   ]
  },
  {
   "cell_type": "code",
   "execution_count": 22,
   "metadata": {},
   "outputs": [
    {
     "name": "stdout",
     "output_type": "stream",
     "text": [
      "0\n",
      "1\n",
      "2\n",
      "3\n"
     ]
    }
   ],
   "source": [
    "x = (y for y in range(4))\n",
    "\n",
    "print(next(x))\n",
    "print(next(x))\n",
    "print(next(x))\n",
    "print(next(x))"
   ]
  },
  {
   "cell_type": "code",
   "execution_count": 26,
   "metadata": {},
   "outputs": [
    {
     "data": {
      "text/plain": [
       "[6, 9, 12, 15, 18, 21, 24, 27, 30, 33, 36, 39, 42]"
      ]
     },
     "execution_count": 26,
     "metadata": {},
     "output_type": "execute_result"
    }
   ],
   "source": [
    "x = (y for y in range(5,45) if y%3 ==0 )\n",
    "list(x)"
   ]
  },
  {
   "cell_type": "code",
   "execution_count": 34,
   "metadata": {},
   "outputs": [
    {
     "data": {
      "text/plain": [
       "[0, 3, 6, 9]"
      ]
     },
     "execution_count": 34,
     "metadata": {},
     "output_type": "execute_result"
    }
   ],
   "source": [
    "def num_sequence(x):\n",
    "    i = 0\n",
    "    while i < x:\n",
    "        yield i\n",
    "        i += 3\n",
    "    return i\n",
    "\n",
    "list(num_sequence(10))"
   ]
  },
  {
   "cell_type": "code",
   "execution_count": 39,
   "metadata": {},
   "outputs": [
    {
     "data": {
      "text/plain": [
       "[6, 5, 5, 6, 7]"
      ]
     },
     "execution_count": 39,
     "metadata": {},
     "output_type": "execute_result"
    }
   ],
   "source": [
    "lannister = ['cersei', 'jaime', 'tywin', 'tyrion', 'joffrey']\n",
    "\n",
    "def get_length(lt):\n",
    "    for x in lt:\n",
    "        yield len(x)\n",
    " \n",
    "list(get_length(lannister))"
   ]
  },
  {
   "cell_type": "code",
   "execution_count": 48,
   "metadata": {},
   "outputs": [
    {
     "data": {
      "text/plain": [
       "['485', '223', '215', '205', '192', '184', '177', '166', '163', '151']"
      ]
     },
     "execution_count": 48,
     "metadata": {},
     "output_type": "execute_result"
    }
   ],
   "source": [
    "import pandas as pd\n",
    "\n",
    "df = pd.read_csv('F500.csv', delimiter = ';')\n",
    "df.head()\n",
    "\n",
    "df_revenue = df['revenues']\n",
    "df_revenue.head()\n",
    "\n",
    "df_rev_new = [x[1:4] for x in df_revenue]\n",
    "df_rev_new[0:10]"
   ]
  },
  {
   "cell_type": "code",
   "execution_count": 50,
   "metadata": {
    "scrolled": true
   },
   "outputs": [
    {
     "data": {
      "text/html": [
       "<div>\n",
       "<style scoped>\n",
       "    .dataframe tbody tr th:only-of-type {\n",
       "        vertical-align: middle;\n",
       "    }\n",
       "\n",
       "    .dataframe tbody tr th {\n",
       "        vertical-align: top;\n",
       "    }\n",
       "\n",
       "    .dataframe thead th {\n",
       "        text-align: right;\n",
       "    }\n",
       "</style>\n",
       "<table border=\"1\" class=\"dataframe\">\n",
       "  <thead>\n",
       "    <tr style=\"text-align: right;\">\n",
       "      <th></th>\n",
       "      <th>id</th>\n",
       "      <th>rank</th>\n",
       "      <th>name</th>\n",
       "      <th>employees</th>\n",
       "      <th>previousrank</th>\n",
       "      <th>revenues</th>\n",
       "      <th>revenuechange</th>\n",
       "      <th>profits</th>\n",
       "      <th>profitschange</th>\n",
       "      <th>assets</th>\n",
       "      <th>marketvalue</th>\n",
       "    </tr>\n",
       "  </thead>\n",
       "  <tbody>\n",
       "    <tr>\n",
       "      <th>0</th>\n",
       "      <td>2</td>\n",
       "      <td>1</td>\n",
       "      <td>Walmart</td>\n",
       "      <td>2,300,000</td>\n",
       "      <td>1.0</td>\n",
       "      <td>$485,873</td>\n",
       "      <td>0.8%</td>\n",
       "      <td>$13,643.0</td>\n",
       "      <td>-7.2%</td>\n",
       "      <td>$198,825</td>\n",
       "      <td>$218,619</td>\n",
       "    </tr>\n",
       "    <tr>\n",
       "      <th>1</th>\n",
       "      <td>3</td>\n",
       "      <td>2</td>\n",
       "      <td>Berkshire Hathaway</td>\n",
       "      <td>367,700</td>\n",
       "      <td>4.0</td>\n",
       "      <td>$223,604</td>\n",
       "      <td>6.1%</td>\n",
       "      <td>$24,074.0</td>\n",
       "      <td>0.0%</td>\n",
       "      <td>$620,854</td>\n",
       "      <td>$411,035</td>\n",
       "    </tr>\n",
       "    <tr>\n",
       "      <th>2</th>\n",
       "      <td>4</td>\n",
       "      <td>3</td>\n",
       "      <td>Apple</td>\n",
       "      <td>116,000</td>\n",
       "      <td>3.0</td>\n",
       "      <td>$215,639</td>\n",
       "      <td>-7.7%</td>\n",
       "      <td>$45,687.0</td>\n",
       "      <td>-14.4%</td>\n",
       "      <td>$321,686</td>\n",
       "      <td>$753,718</td>\n",
       "    </tr>\n",
       "    <tr>\n",
       "      <th>3</th>\n",
       "      <td>5</td>\n",
       "      <td>4</td>\n",
       "      <td>Exxon Mobil</td>\n",
       "      <td>72,700</td>\n",
       "      <td>2.0</td>\n",
       "      <td>$205,004</td>\n",
       "      <td>-16.7%</td>\n",
       "      <td>$7,840.0</td>\n",
       "      <td>-51.5%</td>\n",
       "      <td>$330,314</td>\n",
       "      <td>$340,056</td>\n",
       "    </tr>\n",
       "    <tr>\n",
       "      <th>4</th>\n",
       "      <td>6</td>\n",
       "      <td>5</td>\n",
       "      <td>McKesson</td>\n",
       "      <td>68,000</td>\n",
       "      <td>5.0</td>\n",
       "      <td>$192,487</td>\n",
       "      <td>6.2%</td>\n",
       "      <td>$2,258.0</td>\n",
       "      <td>53.0%</td>\n",
       "      <td>$56,563</td>\n",
       "      <td>$31,439</td>\n",
       "    </tr>\n",
       "  </tbody>\n",
       "</table>\n",
       "</div>"
      ],
      "text/plain": [
       "   id  rank                name  employees  previousrank  revenues  \\\n",
       "0   2     1             Walmart  2,300,000           1.0  $485,873   \n",
       "1   3     2  Berkshire Hathaway    367,700           4.0  $223,604   \n",
       "2   4     3               Apple    116,000           3.0  $215,639   \n",
       "3   5     4         Exxon Mobil     72,700           2.0  $205,004   \n",
       "4   6     5            McKesson     68,000           5.0  $192,487   \n",
       "\n",
       "  revenuechange     profits profitschange    assets marketvalue  \n",
       "0          0.8%  $13,643.0          -7.2%  $198,825    $218,619  \n",
       "1          6.1%  $24,074.0           0.0%  $620,854    $411,035  \n",
       "2         -7.7%  $45,687.0         -14.4%  $321,686    $753,718  \n",
       "3        -16.7%   $7,840.0         -51.5%  $330,314    $340,056  \n",
       "4          6.2%   $2,258.0          53.0%   $56,563     $31,439  "
      ]
     },
     "execution_count": 50,
     "metadata": {},
     "output_type": "execute_result"
    }
   ],
   "source": [
    "df.head()"
   ]
  },
  {
   "cell_type": "code",
   "execution_count": 54,
   "metadata": {},
   "outputs": [
    {
     "data": {
      "text/plain": [
       "[False, False, False, False, False, False, False, False, False, False]"
      ]
     },
     "execution_count": 54,
     "metadata": {},
     "output_type": "execute_result"
    }
   ],
   "source": [
    "df_rev_dol = [x[0]==' 'for x in df_revenue]\n",
    "df_rev_dol[0:10]"
   ]
  },
  {
   "cell_type": "markdown",
   "metadata": {},
   "source": [
    "___"
   ]
  },
  {
   "cell_type": "markdown",
   "metadata": {},
   "source": [
    "# Bringing it all together"
   ]
  },
  {
   "cell_type": "code",
   "execution_count": 11,
   "metadata": {},
   "outputs": [
    {
     "data": {
      "text/plain": [
       "{'hawkeye': 'hawkeye',\n",
       " 'barton': 'barton',\n",
       " 'stark': 'stark',\n",
       " 'odinson': 'odinson',\n",
       " 'maximoff': 'maximoff',\n",
       " 'iron man': 'iron man',\n",
       " 'thor': 'thor',\n",
       " 'quicksilver': 'quicksilver'}"
      ]
     },
     "execution_count": 11,
     "metadata": {},
     "output_type": "execute_result"
    }
   ],
   "source": [
    "avengers = ['hawkeye', 'iron man', 'thor', 'quicksilver']\n",
    "names = ['barton', 'stark', 'odinson', 'maximoff']\n",
    "\n",
    "def list2dict(list1, list2):\n",
    "    dict={}\n",
    "    for x in list1:\n",
    "        dict[x] = x\n",
    "        for y in list2:\n",
    "             dict.val[y] = y\n",
    "    return dict\n",
    "\n",
    "z = list2dict(avengers, names)\n",
    "z"
   ]
  },
  {
   "cell_type": "code",
   "execution_count": 3,
   "metadata": {},
   "outputs": [
    {
     "name": "stdout",
     "output_type": "stream",
     "text": [
      "{'\"2\";\"1\";\"Walmart\";\"2': 1, '\"3\";\"2\";\"Berkshire Hathaway\";\"367': 1, '\"4\";\"3\";\"Apple\";\"116': 1, '\"5\";\"4\";\"Exxon Mobil\";\"72': 1, '\"6\";\"5\";\"McKesson\";\"68': 1, '\"7\";\"6\";\"UnitedHealth Group\";\"230': 1, '\"8\";\"7\";\"CVS Health\";\"204': 1, '\"9\";\"8\";\"General Motors\";\"225': 1, '\"10\";\"9\";\"AT&T\";\"268': 1, '\"11\";\"10\";\"Ford Motor\";\"201': 1, '\"12\";\"11\";\"AmerisourceBergen\";\"18': 1, '\"13\";\"12\";\"Amazon.com\";\"341': 1, '\"14\";\"13\";\"General Electric\";\"295': 1, '\"15\";\"14\";\"Verizon\";\"160': 1, '\"16\";\"15\";\"Cardinal Health\";\"37': 1, '\"17\";\"16\";\"Costco\";\"172': 1, '\"18\";\"17\";\"Walgreens Boots Alliance\";\"300': 1, '\"19\";\"18\";\"Kroger\";\"443': 1, '\"20\";\"19\";\"Chevron\";\"55': 1, '\"21\";\"20\";\"Fannie Mae\";\"7': 1, '\"22\";\"21\";\"J.P. Morgan Chase\";\"243': 1, '\"23\";\"22\";\"Express Scripts Holding\";\"25': 1, '\"24\";\"23\";\"Home Depot\";\"406': 1, '\"25\";\"24\";\"Boeing\";\"150': 1, '\"26\";\"25\";\"Wells Fargo\";\"269': 1, '\"27\";\"26\";\"Bank of America Corp.\";\"208': 1, '\"28\";\"27\";\"Alphabet\";\"72': 1, '\"29\";\"28\";\"Microsoft\";\"114': 1, '\"30\";\"29\";\"Anthem\";\"53': 1, '\"31\";\"30\";\"Citigroup\";\"219': 1, '\"32\";\"31\";\"Comcast\";\"159': 1, '\"33\";\"32\";\"IBM\";\"414': 1, '\"34\";\"33\";\"State Farm Insurance Cos.\";\"68': 1, '\"35\";\"34\";\"Phillips 66\";\"14': 1, '\"36\";\"35\";\"Johnson & Johnson\";\"126': 1, '\"37\";\"36\";\"Procter & Gamble\";\"105': 1, '\"38\";\"37\";\"Valero Energy\";\"9': 1, '\"39\";\"38\";\"Target\";\"323': 1, '\"40\";\"39\";\"Freddie Mac\";\"5': 1, '\"41\";\"40\";\"Lowe\";\"240': 1, '\"42\";\"41\";\"Dell Technologies\";\"138': 1, '\"43\";\"42\";\"MetLife\";\"58': 1, '\"44\";\"43\";\"Aetna\";\"49': 1, '\"45\";\"44\";\"PepsiCo\";\"264': 1, '\"46\";\"45\";\"Archer Daniels Midland\";\"31': 1, '\"47\";\"46\";\"UPS\";\"335': 1, '\"48\";\"47\";\"Intel\";\"106': 1, '\"49\";\"48\";\"Prudential Financial\";\"49': 1, '\"50\";\"49\";\"Albertsons Cos.\";\"274': 1, '\"51\";\"50\";\"United Technologies\";\"201': 1, '\"52\";\"51\";\"Marathon Petroleum\";\"44': 1, '\"53\";\"52\";\"Disney\";\"195': 1, '\"54\";\"53\";\"Humana\";\"51': 1, '\"55\";\"54\";\"Pfizer\";\"96': 1, '\"56\";\"55\";\"AIG\";\"56': 1, '\"57\";\"56\";\"Lockheed Martin\";\"97': 1, '\"58\";\"57\";\"Sysco\";\"51': 1, '\"59\";\"58\";\"FedEx\";\"335': 1, '\"60\";\"59\";\"Hewlett Packard Enterprise\";\"195': 1, '\"61\";\"60\";\"Cisco Systems\";\"73': 1, '\"62\";\"61\";\"HP\";\"49': 1, '\"63\";\"62\";\"Dow Chemical\";\"56': 1, '\"64\";\"63\";\"HCA Holdings\";\"210': 1, '\"65\";\"64\";\"Coca-Cola\";\"100': 1, '\"66\";\"65\";\"New York Life Insurance\";\"11': 1, '\"67\";\"66\";\"Centene\";\"30': 1, '\"68\";\"67\";\"American Airlines Group\";\"122': 1, '\"69\";\"68\";\"Nationwide\";\"34': 1, '\"70\";\"69\";\"Merck\";\"68': 1, '\"71\";\"70\";\"Cigna\";\"41': 1, '\"72\";\"71\";\"Delta Air Lines\";\"83': 1, '\"73\";\"72\";\"Best Buy\";\"125': 1, '\"74\";\"73\";\"Honeywell International\";\"131': 1, '\"75\";\"74\";\"Caterpillar\";\"95': 1, '\"76\";\"75\";\"Liberty Mutual Insurance Group\";\"50': 1, '\"77\";\"76\";\"Morgan Stanley\";\"55': 1, '\"78\";\"77\";\"Massachusetts Mutual Life Insurance\";\"11': 1, '\"79\";\"78\";\"Goldman Sachs Group\";\"34': 1, '\"80\";\"79\";\"Energy Transfer Equity\";\"30': 1, '\"81\";\"80\";\"TIAA\";\"12': 1, '\"82\";\"81\";\"Oracle\";\"136': 1, '\"83\";\"82\";\"Tyson Foods\";\"114': 1, '\"84\";\"83\";\"United Continental Holdings\";\"88': 1, '\"85\";\"84\";\"Allstate\";\"43': 1, '\"86\";\"85\";\"Publix Super Markets\";\"191': 1, '\"87\";\"86\";\"American Express\";\"56': 1, '\"88\";\"87\";\"TJX\";\"235': 1, '\"89\";\"88\";\"Nike\";\"70': 1, '\"90\";\"89\";\"Exelon\";\"34': 1, '\"91\";\"90\";\"General Dynamics\";\"98': 1, '\"92\";\"91\";\"Rite Aid\";\"70': 1, '\"93\";\"92\";\"Gilead Sciences\";\"9': 1, '\"94\";\"93\";\"CHS\";\"12': 1, '\"95\";\"94\";\"3M\";\"91': 1, '\"96\";\"95\";\"Time Warner\";\"25': 1, '\"97\";\"96\";\"Charter Communications\";\"91': 1, '\"98\";\"97\";\"Northwestern Mutual\";\"5': 1, '\"99\";\"98\";\"Facebook\";\"17': 1, '\"100\";\"99\";\"Travelers Cos.\";\"30': 1, '\"101\";\"100\";\"Capital One Financial\";\"47': 1}\n"
     ]
    }
   ],
   "source": [
    "with open ('F500.csv') as file:\n",
    "    file.readline()\n",
    "    counts_dict = {}\n",
    "    for j in range(0,100):\n",
    "        line = file.readline().split(',')\n",
    "        first_col = line[0]\n",
    "        if first_col in counts_dict.keys():\n",
    "            counts_dict[first_col] += 1\n",
    "        else:\n",
    "            counts_dict[first_col] = 1\n",
    "\n",
    "print(counts_dict)"
   ]
  },
  {
   "cell_type": "code",
   "execution_count": 96,
   "metadata": {},
   "outputs": [
    {
     "ename": "TypeError",
     "evalue": "'>' not supported between instances of 'str' and 'int'",
     "output_type": "error",
     "traceback": [
      "\u001b[1;31m---------------------------------------------------------------------------\u001b[0m",
      "\u001b[1;31mTypeError\u001b[0m                                 Traceback (most recent call last)",
      "\u001b[1;32m<ipython-input-96-9cbccd28c1a3>\u001b[0m in \u001b[0;36m<module>\u001b[1;34m\u001b[0m\n\u001b[0;32m      7\u001b[0m \u001b[0my\u001b[0m \u001b[1;33m=\u001b[0m \u001b[0mfirst_chunk\u001b[0m\u001b[1;33m[\u001b[0m\u001b[0mfirst_chunk\u001b[0m\u001b[1;33m[\u001b[0m\u001b[1;34m'revenues'\u001b[0m\u001b[1;33m]\u001b[0m\u001b[1;33m>\u001b[0m\u001b[1;36m99\u001b[0m\u001b[1;33m]\u001b[0m\u001b[1;33m\u001b[0m\u001b[1;33m\u001b[0m\u001b[0m\n\u001b[0;32m      8\u001b[0m \u001b[0my\u001b[0m\u001b[1;33m\u001b[0m\u001b[1;33m\u001b[0m\u001b[0m\n\u001b[1;32m----> 9\u001b[1;33m \u001b[0mz\u001b[0m \u001b[1;33m=\u001b[0m \u001b[0my\u001b[0m\u001b[1;33m[\u001b[0m\u001b[0my\u001b[0m\u001b[1;33m[\u001b[0m\u001b[1;34m'marketvalue'\u001b[0m\u001b[1;33m]\u001b[0m\u001b[1;33m>\u001b[0m\u001b[1;36m50\u001b[0m\u001b[1;33m]\u001b[0m\u001b[1;33m\u001b[0m\u001b[1;33m\u001b[0m\u001b[0m\n\u001b[0m\u001b[0;32m     10\u001b[0m \u001b[0mz\u001b[0m\u001b[1;33m\u001b[0m\u001b[1;33m\u001b[0m\u001b[0m\n\u001b[0;32m     11\u001b[0m \u001b[1;31m#zy = y.replace(to_replace= '    $', value=' ', regex = True)\u001b[0m\u001b[1;33m\u001b[0m\u001b[1;33m\u001b[0m\u001b[1;33m\u001b[0m\u001b[0m\n",
      "\u001b[1;32mF:\\Program Files\\Anaconda\\lib\\site-packages\\pandas\\core\\ops.py\u001b[0m in \u001b[0;36mwrapper\u001b[1;34m(self, other, axis)\u001b[0m\n\u001b[0;32m   1764\u001b[0m \u001b[1;33m\u001b[0m\u001b[0m\n\u001b[0;32m   1765\u001b[0m             \u001b[1;32mwith\u001b[0m \u001b[0mnp\u001b[0m\u001b[1;33m.\u001b[0m\u001b[0merrstate\u001b[0m\u001b[1;33m(\u001b[0m\u001b[0mall\u001b[0m\u001b[1;33m=\u001b[0m\u001b[1;34m'ignore'\u001b[0m\u001b[1;33m)\u001b[0m\u001b[1;33m:\u001b[0m\u001b[1;33m\u001b[0m\u001b[1;33m\u001b[0m\u001b[0m\n\u001b[1;32m-> 1766\u001b[1;33m                 \u001b[0mres\u001b[0m \u001b[1;33m=\u001b[0m \u001b[0mna_op\u001b[0m\u001b[1;33m(\u001b[0m\u001b[0mvalues\u001b[0m\u001b[1;33m,\u001b[0m \u001b[0mother\u001b[0m\u001b[1;33m)\u001b[0m\u001b[1;33m\u001b[0m\u001b[1;33m\u001b[0m\u001b[0m\n\u001b[0m\u001b[0;32m   1767\u001b[0m             \u001b[1;32mif\u001b[0m \u001b[0mis_scalar\u001b[0m\u001b[1;33m(\u001b[0m\u001b[0mres\u001b[0m\u001b[1;33m)\u001b[0m\u001b[1;33m:\u001b[0m\u001b[1;33m\u001b[0m\u001b[1;33m\u001b[0m\u001b[0m\n\u001b[0;32m   1768\u001b[0m                 raise TypeError('Could not compare {typ} type with Series'\n",
      "\u001b[1;32mF:\\Program Files\\Anaconda\\lib\\site-packages\\pandas\\core\\ops.py\u001b[0m in \u001b[0;36mna_op\u001b[1;34m(x, y)\u001b[0m\n\u001b[0;32m   1623\u001b[0m \u001b[1;33m\u001b[0m\u001b[0m\n\u001b[0;32m   1624\u001b[0m         \u001b[1;32mif\u001b[0m \u001b[0mis_object_dtype\u001b[0m\u001b[1;33m(\u001b[0m\u001b[0mx\u001b[0m\u001b[1;33m.\u001b[0m\u001b[0mdtype\u001b[0m\u001b[1;33m)\u001b[0m\u001b[1;33m:\u001b[0m\u001b[1;33m\u001b[0m\u001b[1;33m\u001b[0m\u001b[0m\n\u001b[1;32m-> 1625\u001b[1;33m             \u001b[0mresult\u001b[0m \u001b[1;33m=\u001b[0m \u001b[0m_comp_method_OBJECT_ARRAY\u001b[0m\u001b[1;33m(\u001b[0m\u001b[0mop\u001b[0m\u001b[1;33m,\u001b[0m \u001b[0mx\u001b[0m\u001b[1;33m,\u001b[0m \u001b[0my\u001b[0m\u001b[1;33m)\u001b[0m\u001b[1;33m\u001b[0m\u001b[1;33m\u001b[0m\u001b[0m\n\u001b[0m\u001b[0;32m   1626\u001b[0m \u001b[1;33m\u001b[0m\u001b[0m\n\u001b[0;32m   1627\u001b[0m         \u001b[1;32melif\u001b[0m \u001b[0mis_datetimelike_v_numeric\u001b[0m\u001b[1;33m(\u001b[0m\u001b[0mx\u001b[0m\u001b[1;33m,\u001b[0m \u001b[0my\u001b[0m\u001b[1;33m)\u001b[0m\u001b[1;33m:\u001b[0m\u001b[1;33m\u001b[0m\u001b[1;33m\u001b[0m\u001b[0m\n",
      "\u001b[1;32mF:\\Program Files\\Anaconda\\lib\\site-packages\\pandas\\core\\ops.py\u001b[0m in \u001b[0;36m_comp_method_OBJECT_ARRAY\u001b[1;34m(op, x, y)\u001b[0m\n\u001b[0;32m   1601\u001b[0m         \u001b[0mresult\u001b[0m \u001b[1;33m=\u001b[0m \u001b[0mlibops\u001b[0m\u001b[1;33m.\u001b[0m\u001b[0mvec_compare\u001b[0m\u001b[1;33m(\u001b[0m\u001b[0mx\u001b[0m\u001b[1;33m,\u001b[0m \u001b[0my\u001b[0m\u001b[1;33m,\u001b[0m \u001b[0mop\u001b[0m\u001b[1;33m)\u001b[0m\u001b[1;33m\u001b[0m\u001b[1;33m\u001b[0m\u001b[0m\n\u001b[0;32m   1602\u001b[0m     \u001b[1;32melse\u001b[0m\u001b[1;33m:\u001b[0m\u001b[1;33m\u001b[0m\u001b[1;33m\u001b[0m\u001b[0m\n\u001b[1;32m-> 1603\u001b[1;33m         \u001b[0mresult\u001b[0m \u001b[1;33m=\u001b[0m \u001b[0mlibops\u001b[0m\u001b[1;33m.\u001b[0m\u001b[0mscalar_compare\u001b[0m\u001b[1;33m(\u001b[0m\u001b[0mx\u001b[0m\u001b[1;33m,\u001b[0m \u001b[0my\u001b[0m\u001b[1;33m,\u001b[0m \u001b[0mop\u001b[0m\u001b[1;33m)\u001b[0m\u001b[1;33m\u001b[0m\u001b[1;33m\u001b[0m\u001b[0m\n\u001b[0m\u001b[0;32m   1604\u001b[0m     \u001b[1;32mreturn\u001b[0m \u001b[0mresult\u001b[0m\u001b[1;33m\u001b[0m\u001b[1;33m\u001b[0m\u001b[0m\n\u001b[0;32m   1605\u001b[0m \u001b[1;33m\u001b[0m\u001b[0m\n",
      "\u001b[1;32mpandas/_libs/ops.pyx\u001b[0m in \u001b[0;36mpandas._libs.ops.scalar_compare\u001b[1;34m()\u001b[0m\n",
      "\u001b[1;31mTypeError\u001b[0m: '>' not supported between instances of 'str' and 'int'"
     ]
    }
   ],
   "source": [
    "import pandas as pd\n",
    "\n",
    "df500 = pd.read_csv('F501.csv', delimiter = ';', chunksize = 250)\n",
    "first_chunk = next(df500)\n",
    "first_chunk\n",
    "\n",
    "y = first_chunk[first_chunk['revenues']>99]\n",
    "y\n",
    "z = y[y['marketvalue']>50]\n",
    "z\n",
    "#zy = y.replace(to_replace= '    $', value=' ', regex = True)\n",
    "#zy\n",
    "    \n",
    "\n"
   ]
  },
  {
   "cell_type": "code",
   "execution_count": null,
   "metadata": {},
   "outputs": [],
   "source": []
  },
  {
   "cell_type": "code",
   "execution_count": null,
   "metadata": {},
   "outputs": [],
   "source": []
  },
  {
   "cell_type": "code",
   "execution_count": null,
   "metadata": {},
   "outputs": [],
   "source": []
  },
  {
   "cell_type": "code",
   "execution_count": null,
   "metadata": {},
   "outputs": [],
   "source": []
  }
 ],
 "metadata": {
  "kernelspec": {
   "display_name": "Python 3",
   "language": "python",
   "name": "python3"
  },
  "language_info": {
   "codemirror_mode": {
    "name": "ipython",
    "version": 3
   },
   "file_extension": ".py",
   "mimetype": "text/x-python",
   "name": "python",
   "nbconvert_exporter": "python",
   "pygments_lexer": "ipython3",
   "version": "3.7.3"
  }
 },
 "nbformat": 4,
 "nbformat_minor": 2
}
