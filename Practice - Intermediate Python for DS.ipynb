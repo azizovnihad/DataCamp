{
 "cells": [
  {
   "cell_type": "code",
   "execution_count": null,
   "metadata": {
    "scrolled": true
   },
   "outputs": [],
   "source": [
    "import numpy as np\n",
    "x = np.array([[4, 1, 1], \n",
    "              [5, 9, 0]])\n",
    "for j in np.nditer(x):\n",
    "    print(j)"
   ]
  },
  {
   "cell_type": "code",
   "execution_count": null,
   "metadata": {},
   "outputs": [],
   "source": [
    "new_val = 10\n",
    "\n",
    "def square(value):\n",
    "    new_val = value ** 2\n",
    "    return new_val\n",
    "square(3)"
   ]
  },
  {
   "cell_type": "code",
   "execution_count": null,
   "metadata": {},
   "outputs": [],
   "source": [
    "new_val"
   ]
  },
  {
   "cell_type": "code",
   "execution_count": null,
   "metadata": {},
   "outputs": [],
   "source": [
    "new_val = 10\n",
    "\n",
    "def square(value):\n",
    "    new_value2 = new_val ** 2\n",
    "    return new_value2\n",
    "square(3)\n"
   ]
  },
  {
   "cell_type": "code",
   "execution_count": null,
   "metadata": {},
   "outputs": [],
   "source": [
    "new_val = 20\n",
    "\n",
    "square(3)"
   ]
  },
  {
   "cell_type": "code",
   "execution_count": null,
   "metadata": {},
   "outputs": [],
   "source": [
    "# Import pandas\n",
    "import pandas as pd\n",
    "\n",
    "# Load the CSV data into DataFrames\n",
    "super_bowls = pd.read_csv('datasets/super_bowls.csv', delimiter = ',')\n",
    "tv = pd.read_csv('datasets/tv.csv', delimiter = ',')\n",
    "halftime_musicians = pd.read_csv('datasets/halftime_musicians.csv', delimiter =',')\n",
    "\n",
    "# Display the first five rows of each DataFrame\n",
    "display(super_bowls.head())\n",
    "display(tv.head())\n",
    "display(halftime_musicians.head())"
   ]
  },
  {
   "cell_type": "code",
   "execution_count": null,
   "metadata": {},
   "outputs": [],
   "source": [
    "rotation_period = {\n",
    "    'earth': 1.0,\n",
    "    'jupiter': 0.415, \n",
    "    'saturn': 44}\n",
    "rotation_period['saturn'] = 0.445\n",
    "print(rotation_period)"
   ]
  },
  {
   "cell_type": "code",
   "execution_count": null,
   "metadata": {},
   "outputs": [],
   "source": [
    "import numpy as np\n",
    "np.random.seed(123)\n",
    "\n",
    "np.random.randint(124)"
   ]
  },
  {
   "cell_type": "code",
   "execution_count": null,
   "metadata": {
    "scrolled": true
   },
   "outputs": [],
   "source": [
    "import pandas as pd\n",
    "\n",
    "dec6 = pd.read_csv('datasets/coinmarketcap_06122017.csv')\n",
    "dec6"
   ]
  },
  {
   "cell_type": "code",
   "execution_count": null,
   "metadata": {},
   "outputs": [],
   "source": [
    "import numpy as np\n",
    "y = np.array([[4, 5, 6],\n",
    "              [11, 12, 13]])\n",
    "np.transpose(y) # Transpose of array\n",
    "np.flip(y) # Flipping of array"
   ]
  },
  {
   "cell_type": "code",
   "execution_count": null,
   "metadata": {
    "scrolled": true
   },
   "outputs": [],
   "source": [
    "import numpy as np\n",
    "np.random.seed(3)\n",
    "np.random.randint(14, 20)"
   ]
  },
  {
   "cell_type": "markdown",
   "metadata": {},
   "source": [
    "**BITCOIN**"
   ]
  },
  {
   "cell_type": "code",
   "execution_count": null,
   "metadata": {},
   "outputs": [],
   "source": [
    "#Bitcoin\n",
    "\n",
    "# Importing pandas\n",
    "import pandas as pd\n",
    "\n",
    "# Importing matplotlib and setting aesthetics for plotting later.\n",
    "import matplotlib.pyplot as plt\n",
    "%matplotlib inline\n",
    "%config InlineBackend.figure_format = 'svg' \n",
    "plt.style.use('fivethirtyeight')\n",
    "\n",
    "# Reading in current data from coinmarketcap.com\n",
    "current = pd.read_json('https://api.coinmarketcap.com/v1/ticker/')\n",
    "\n",
    "current.head()"
   ]
  },
  {
   "cell_type": "code",
   "execution_count": null,
   "metadata": {},
   "outputs": [],
   "source": [
    "# Reading datasets/coinmarketcap_06122017.csv into pandas\n",
    "\n",
    "dec6 = pd.read_csv('datasets/coinmarketcap_06122017.csv')\n",
    "#dec6.head()\n",
    "# Selecting the 'id' and the 'market_cap_usd' columns\n",
    "market_cap_raw = dec6[['id','market_cap_usd']]\n",
    "print(market_cap_raw)\n",
    "# Counting the number of values\n",
    "market_cap_raw.count()"
   ]
  },
  {
   "cell_type": "code",
   "execution_count": null,
   "metadata": {},
   "outputs": [],
   "source": [
    "# Filtering out rows without a market capitalization\n",
    "cap = market_cap_raw.query('market_cap_usd > 0')\n",
    "cap.count()\n",
    "# Counting the number of values again\n",
    "#market_cap_raw[[cap]]"
   ]
  },
  {
   "cell_type": "code",
   "execution_count": null,
   "metadata": {},
   "outputs": [],
   "source": [
    "# 1 Version 4 task\n",
    "#Declaring these now for later use in the plots\n",
    "TOP_CAP_TITLE = 'Top 10 market capitalization'\n",
    "TOP_CAP_YLABEL = '% of total cap'\n",
    "\n",
    "cap10sum = cap10.market_cap_usd.sum()\n",
    "# Selecting the first 10 rows and setting the index\n",
    "#cap10 = pd.DataFrame(cap.iloc[0:10,:])\n",
    "\n",
    "\n",
    "cap10sum = cap10.market_cap_usd.sum()\n",
    "display(cap10sum)\n",
    "cap10.assign(perc= cap10[\"market_cap_usd\"] / cap10sum)\n",
    "# Calculating market_cap_perc\n",
    "#cap10 = cap10.market_cap_usd.sum()\n",
    "df10 = cap10.assign(perc= (cap10[\"market_cap_usd\"] / cap10sum)*100)\n",
    "display(df10)\n",
    "#perc = (cap10['market_cap_usd'] / cap11)*100\n",
    "#display(perc)\n",
    "#cap10['perc'] = perc\n",
    "#df10 = pd.DataFrame(cap10)\n",
    "# Plotting the barplot with the title defined above \n",
    "#ax = ...\n",
    "ax = df10.plot.bar(x='id', y='perc')\n",
    "\n",
    "# Annotating the y axis with the label defined above\n",
    "# ... YOUR CODE FOR TASK 4 ..."
   ]
  },
  {
   "cell_type": "code",
   "execution_count": null,
   "metadata": {},
   "outputs": [],
   "source": [
    "# 2 Version 4 task\n",
    "\n",
    "#Declaring these now for later use in the plots\n",
    "TOP_CAP_TITLE = 'Top 10 market capitalization'\n",
    "TOP_CAP_YLABEL = '% of total cap'\n",
    "\n",
    "\n",
    "# Selecting the first 10 rows and setting the index\n",
    "cap10 = pd.DataFrame(cap.loc[0:9,:])\n",
    "display(cap10)\n",
    "# Calculating market_cap_perc\n",
    "cap10 = cap10.assign(market_cap_perc = lambda x: (x.market_cap_usd / cap.market_cap_usd.sum()*100))\n",
    "cap10\n",
    "# Plotting the barplot with the title defined above \n",
    "ax = cap10.plot.bar(x='id', y='market_cap_perc', title = TOP_CAP_TITLE)\n",
    "ax.set_ylabel(TOP_CAP_YLABEL)\n",
    "\n",
    "# Annotating the y axis with the label defined above\n",
    "# ... YOUR CODE FOR TASK 4 ..."
   ]
  },
  {
   "cell_type": "code",
   "execution_count": null,
   "metadata": {},
   "outputs": [],
   "source": []
  },
  {
   "cell_type": "markdown",
   "metadata": {},
   "source": [
    "**PROJECT: EXPLORING 67 YEARS OF LEGO**"
   ]
  },
  {
   "cell_type": "code",
   "execution_count": null,
   "metadata": {},
   "outputs": [],
   "source": [
    "# Import modules\n",
    "import pandas as pd\n",
    "\n",
    "# Read colors data\n",
    "colors = pd.read_csv('datasets/colors.csv')\n",
    "\n",
    "# Print the first few rows\n",
    "colors.head()"
   ]
  },
  {
   "cell_type": "code",
   "execution_count": null,
   "metadata": {},
   "outputs": [],
   "source": [
    "# How many distinct colors are available?\n",
    "# Import modules\n",
    "num_colors = colors['rgb']\n",
    "\n",
    "colors.shape[colors]"
   ]
  },
  {
   "cell_type": "code",
   "execution_count": 1,
   "metadata": {},
   "outputs": [
    {
     "name": "stdout",
     "output_type": "stream",
     "text": [
      "3.0\n"
     ]
    }
   ],
   "source": [
    "def nth_root(n):\n",
    "    def actual_root(x):\n",
    "        root = x ** (1/n)\n",
    "        return root\n",
    "    return actual_root\n",
    "print(nth_root(3)(27))"
   ]
  },
  {
   "cell_type": "code",
   "execution_count": 5,
   "metadata": {},
   "outputs": [
    {
     "name": "stdout",
     "output_type": "stream",
     "text": [
      "s can not be a string\n"
     ]
    }
   ],
   "source": [
    "def square(s):\n",
    "    \"\"\"Returns area & perimeter of a square\"\"\"\n",
    "    \n",
    "    try:\n",
    "        a = s * s\n",
    "        p = 4 * s \n",
    "        return a, p\n",
    "    \n",
    "    except TypeError:\n",
    "        print('s can not be a string')\n",
    "square('4')"
   ]
  },
  {
   "cell_type": "code",
   "execution_count": 1,
   "metadata": {},
   "outputs": [
    {
     "data": {
      "text/plain": [
       "27"
      ]
     },
     "execution_count": 1,
     "metadata": {},
     "output_type": "execute_result"
    }
   ],
   "source": [
    "#scope of the function\n",
    "def cube(y):\n",
    "    x = y ** 3\n",
    "    return x\n",
    "x = 3 \n",
    "z = cube(x)\n",
    "z"
   ]
  },
  {
   "cell_type": "code",
   "execution_count": 2,
   "metadata": {},
   "outputs": [
    {
     "data": {
      "text/plain": [
       "3"
      ]
     },
     "execution_count": 2,
     "metadata": {},
     "output_type": "execute_result"
    }
   ],
   "source": [
    "def cube(y):\n",
    "    x = y ** 3\n",
    "    return x\n",
    "x = 3 \n",
    "x"
   ]
  }
 ],
 "metadata": {
  "kernelspec": {
   "display_name": "Python 3",
   "language": "python",
   "name": "python3"
  },
  "language_info": {
   "codemirror_mode": {
    "name": "ipython",
    "version": 3
   },
   "file_extension": ".py",
   "mimetype": "text/x-python",
   "name": "python",
   "nbconvert_exporter": "python",
   "pygments_lexer": "ipython3",
   "version": "3.7.3"
  }
 },
 "nbformat": 4,
 "nbformat_minor": 2
}
