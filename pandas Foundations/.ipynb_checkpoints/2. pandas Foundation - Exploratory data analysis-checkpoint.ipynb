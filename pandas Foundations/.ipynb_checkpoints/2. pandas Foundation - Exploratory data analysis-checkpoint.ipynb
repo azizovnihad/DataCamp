{
 "cells": [
  {
   "cell_type": "markdown",
   "metadata": {
    "toc": true
   },
   "source": [
    "<h1>Table of Contents<span class=\"tocSkip\"></span></h1>\n",
    "<div class=\"toc\"><ul class=\"toc-item\"><li><span><a href=\"#Data-ingestion-&amp;-inspection\" data-toc-modified-id=\"Data-ingestion-&amp;-inspection-1\"><span class=\"toc-item-num\">1&nbsp;&nbsp;</span><strong>Data ingestion &amp; inspection</strong></a></span><ul class=\"toc-item\"><li><span><a href=\"#DataFrame-data-types\" data-toc-modified-id=\"DataFrame-data-types-1.1\"><span class=\"toc-item-num\">1.1&nbsp;&nbsp;</span>DataFrame data types</a></span></li><li><span><a href=\"#NumPy-and-pandas-working-together\" data-toc-modified-id=\"NumPy-and-pandas-working-together-1.2\"><span class=\"toc-item-num\">1.2&nbsp;&nbsp;</span>NumPy and pandas working together</a></span></li><li><span><a href=\"#Zip-lists-to-build-a-DataFrame\" data-toc-modified-id=\"Zip-lists-to-build-a-DataFrame-1.3\"><span class=\"toc-item-num\">1.3&nbsp;&nbsp;</span>Zip lists to build a DataFrame</a></span></li><li><span><a href=\"#Labeling-your-data\" data-toc-modified-id=\"Labeling-your-data-1.4\"><span class=\"toc-item-num\">1.4&nbsp;&nbsp;</span>Labeling your data</a></span></li><li><span><a href=\"#Building-DataFrames-with-broadcasting\" data-toc-modified-id=\"Building-DataFrames-with-broadcasting-1.5\"><span class=\"toc-item-num\">1.5&nbsp;&nbsp;</span>Building DataFrames with broadcasting</a></span></li><li><span><a href=\"#Reading-a-flat-file\" data-toc-modified-id=\"Reading-a-flat-file-1.6\"><span class=\"toc-item-num\">1.6&nbsp;&nbsp;</span>Reading a flat file</a></span></li><li><span><a href=\"#Delimiters,-headers,-and-extensions\" data-toc-modified-id=\"Delimiters,-headers,-and-extensions-1.7\"><span class=\"toc-item-num\">1.7&nbsp;&nbsp;</span>Delimiters, headers, and extensions</a></span></li><li><span><a href=\"#Plotting-series-using-pandas\" data-toc-modified-id=\"Plotting-series-using-pandas-1.8\"><span class=\"toc-item-num\">1.8&nbsp;&nbsp;</span>Plotting series using pandas</a></span><ul class=\"toc-item\"><li><span><a href=\"#Saving-plots\" data-toc-modified-id=\"Saving-plots-1.8.1\"><span class=\"toc-item-num\">1.8.1&nbsp;&nbsp;</span>Saving plots</a></span></li></ul></li><li><span><a href=\"#Plotting-DataFrames\" data-toc-modified-id=\"Plotting-DataFrames-1.9\"><span class=\"toc-item-num\">1.9&nbsp;&nbsp;</span>Plotting DataFrames</a></span></li></ul></li><li><span><a href=\"#Exploratory-data-analysis\" data-toc-modified-id=\"Exploratory-data-analysis-2\"><span class=\"toc-item-num\">2&nbsp;&nbsp;</span><strong>Exploratory data analysis</strong></a></span><ul class=\"toc-item\"><li><span><a href=\"#Visual-exploratory-data-analysis\" data-toc-modified-id=\"Visual-exploratory-data-analysis-2.1\"><span class=\"toc-item-num\">2.1&nbsp;&nbsp;</span>Visual exploratory data analysis</a></span><ul class=\"toc-item\"><li><span><a href=\"#Scatter-plot\" data-toc-modified-id=\"Scatter-plot-2.1.1\"><span class=\"toc-item-num\">2.1.1&nbsp;&nbsp;</span>Scatter plot</a></span></li><li><span><a href=\"#Box-plot\" data-toc-modified-id=\"Box-plot-2.1.2\"><span class=\"toc-item-num\">2.1.2&nbsp;&nbsp;</span>Box plot</a></span></li><li><span><a href=\"#Histogram\" data-toc-modified-id=\"Histogram-2.1.3\"><span class=\"toc-item-num\">2.1.3&nbsp;&nbsp;</span>Histogram</a></span></li><li><span><a href=\"#Cumulative-distribution-function-(CDF)\" data-toc-modified-id=\"Cumulative-distribution-function-(CDF)-2.1.4\"><span class=\"toc-item-num\">2.1.4&nbsp;&nbsp;</span>Cumulative distribution function (CDF)</a></span></li></ul></li><li><span><a href=\"#pandas-scatter-plots\" data-toc-modified-id=\"pandas-scatter-plots-2.2\"><span class=\"toc-item-num\">2.2&nbsp;&nbsp;</span>pandas scatter plots</a></span><ul class=\"toc-item\"><li><span><a href=\"#Normalizing-data\" data-toc-modified-id=\"Normalizing-data-2.2.1\"><span class=\"toc-item-num\">2.2.1&nbsp;&nbsp;</span>Normalizing data</a></span></li><li><span><a href=\"#Plotting-a-scatter\" data-toc-modified-id=\"Plotting-a-scatter-2.2.2\"><span class=\"toc-item-num\">2.2.2&nbsp;&nbsp;</span>Plotting a scatter</a></span></li></ul></li><li><span><a href=\"#pandas-box-plots\" data-toc-modified-id=\"pandas-box-plots-2.3\"><span class=\"toc-item-num\">2.3&nbsp;&nbsp;</span>pandas box plots</a></span></li><li><span><a href=\"#pandas-hist,-pdf-and-cdf\" data-toc-modified-id=\"pandas-hist,-pdf-and-cdf-2.4\"><span class=\"toc-item-num\">2.4&nbsp;&nbsp;</span>pandas hist, pdf and cdf</a></span></li><li><span><a href=\"#Statistical-exploratory-data-analysis\" data-toc-modified-id=\"Statistical-exploratory-data-analysis-2.5\"><span class=\"toc-item-num\">2.5&nbsp;&nbsp;</span>Statistical exploratory data analysis</a></span><ul class=\"toc-item\"><li><span><a href=\"#Counts\" data-toc-modified-id=\"Counts-2.5.1\"><span class=\"toc-item-num\">2.5.1&nbsp;&nbsp;</span>Counts</a></span></li><li><span><a href=\"#Averages\" data-toc-modified-id=\"Averages-2.5.2\"><span class=\"toc-item-num\">2.5.2&nbsp;&nbsp;</span>Averages</a></span></li><li><span><a href=\"#Standart-deviations\" data-toc-modified-id=\"Standart-deviations-2.5.3\"><span class=\"toc-item-num\">2.5.3&nbsp;&nbsp;</span>Standart deviations</a></span></li><li><span><a href=\"#Medians\" data-toc-modified-id=\"Medians-2.5.4\"><span class=\"toc-item-num\">2.5.4&nbsp;&nbsp;</span>Medians</a></span></li><li><span><a href=\"#Medians-&amp;-0.5-quantiles\" data-toc-modified-id=\"Medians-&amp;-0.5-quantiles-2.5.5\"><span class=\"toc-item-num\">2.5.5&nbsp;&nbsp;</span>Medians &amp; 0.5 quantiles</a></span></li><li><span><a href=\"#Inter-quartile-range-(IQR)\" data-toc-modified-id=\"Inter-quartile-range-(IQR)-2.5.6\"><span class=\"toc-item-num\">2.5.6&nbsp;&nbsp;</span>Inter-quartile range (IQR)</a></span></li><li><span><a href=\"#Ranges\" data-toc-modified-id=\"Ranges-2.5.7\"><span class=\"toc-item-num\">2.5.7&nbsp;&nbsp;</span>Ranges</a></span></li><li><span><a href=\"#Box-plots\" data-toc-modified-id=\"Box-plots-2.5.8\"><span class=\"toc-item-num\">2.5.8&nbsp;&nbsp;</span>Box plots</a></span></li></ul></li><li><span><a href=\"#Bachelor's-degrees-awarded-to-women\" data-toc-modified-id=\"Bachelor's-degrees-awarded-to-women-2.6\"><span class=\"toc-item-num\">2.6&nbsp;&nbsp;</span>Bachelor's degrees awarded to women</a></span><ul class=\"toc-item\"><li><span><a href=\"#Mean-across-all-columns-per-row\" data-toc-modified-id=\"Mean-across-all-columns-per-row-2.6.1\"><span class=\"toc-item-num\">2.6.1&nbsp;&nbsp;</span>Mean across all columns per row</a></span></li></ul></li><li><span><a href=\"#Median-vs-mean\" data-toc-modified-id=\"Median-vs-mean-2.7\"><span class=\"toc-item-num\">2.7&nbsp;&nbsp;</span>Median vs mean</a></span></li><li><span><a href=\"#Quantiles\" data-toc-modified-id=\"Quantiles-2.8\"><span class=\"toc-item-num\">2.8&nbsp;&nbsp;</span>Quantiles</a></span></li><li><span><a href=\"#Standard-deviation-of-life-expectancy\" data-toc-modified-id=\"Standard-deviation-of-life-expectancy-2.9\"><span class=\"toc-item-num\">2.9&nbsp;&nbsp;</span>Standard deviation of life expectancy</a></span></li><li><span><a href=\"#Separating-populations\" data-toc-modified-id=\"Separating-populations-2.10\"><span class=\"toc-item-num\">2.10&nbsp;&nbsp;</span>Separating populations</a></span><ul class=\"toc-item\"><li><span><a href=\"#Describe-species-column\" data-toc-modified-id=\"Describe-species-column-2.10.1\"><span class=\"toc-item-num\">2.10.1&nbsp;&nbsp;</span>Describe species column</a></span></li><li><span><a href=\"#Unique-&amp;-factors\" data-toc-modified-id=\"Unique-&amp;-factors-2.10.2\"><span class=\"toc-item-num\">2.10.2&nbsp;&nbsp;</span>Unique &amp; factors</a></span></li><li><span><a href=\"#Filtering-by-species\" data-toc-modified-id=\"Filtering-by-species-2.10.3\"><span class=\"toc-item-num\">2.10.3&nbsp;&nbsp;</span>Filtering by species</a></span></li><li><span><a href=\"#Checking-species\" data-toc-modified-id=\"Checking-species-2.10.4\"><span class=\"toc-item-num\">2.10.4&nbsp;&nbsp;</span>Checking species</a></span></li><li><span><a href=\"#Visual-EDA\" data-toc-modified-id=\"Visual-EDA-2.10.5\"><span class=\"toc-item-num\">2.10.5&nbsp;&nbsp;</span>Visual EDA</a></span></li><li><span><a href=\"#Statistical-EDA:-describe()\" data-toc-modified-id=\"Statistical-EDA:-describe()-2.10.6\"><span class=\"toc-item-num\">2.10.6&nbsp;&nbsp;</span>Statistical EDA: describe()</a></span></li><li><span><a href=\"#Computing-errors\" data-toc-modified-id=\"Computing-errors-2.10.7\"><span class=\"toc-item-num\">2.10.7&nbsp;&nbsp;</span>Computing errors</a></span></li></ul></li></ul></li><li><span><a href=\"#Time-series-in-pandas\" data-toc-modified-id=\"Time-series-in-pandas-3\"><span class=\"toc-item-num\">3&nbsp;&nbsp;</span><strong>Time series in pandas</strong></a></span><ul class=\"toc-item\"><li><span><a href=\"#Product-sales-CSV\" data-toc-modified-id=\"Product-sales-CSV-3.1\"><span class=\"toc-item-num\">3.1&nbsp;&nbsp;</span>Product sales CSV</a></span><ul class=\"toc-item\"><li><span><a href=\"#Selecting-single-datetime\" data-toc-modified-id=\"Selecting-single-datetime-3.1.1\"><span class=\"toc-item-num\">3.1.1&nbsp;&nbsp;</span>Selecting single datetime</a></span></li><li><span><a href=\"#Partial-datetime-string-selection\" data-toc-modified-id=\"Partial-datetime-string-selection-3.1.2\"><span class=\"toc-item-num\">3.1.2&nbsp;&nbsp;</span>Partial datetime string selection</a></span></li><li><span><a href=\"#Convert-strings-to-datetime\" data-toc-modified-id=\"Convert-strings-to-datetime-3.1.3\"><span class=\"toc-item-num\">3.1.3&nbsp;&nbsp;</span>Convert strings to datetime</a></span></li><li><span><a href=\"#Reindexing-DataFrame\" data-toc-modified-id=\"Reindexing-DataFrame-3.1.4\"><span class=\"toc-item-num\">3.1.4&nbsp;&nbsp;</span>Reindexing DataFrame</a></span></li><li><span><a href=\"#Filling-missing-values\" data-toc-modified-id=\"Filling-missing-values-3.1.5\"><span class=\"toc-item-num\">3.1.5&nbsp;&nbsp;</span>Filling missing values</a></span></li></ul></li><li><span><a href=\"#Exercise\" data-toc-modified-id=\"Exercise-3.2\"><span class=\"toc-item-num\">3.2&nbsp;&nbsp;</span>Exercise</a></span><ul class=\"toc-item\"><li><span><a href=\"#Reading-and-slicing-times\" data-toc-modified-id=\"Reading-and-slicing-times-3.2.1\"><span class=\"toc-item-num\">3.2.1&nbsp;&nbsp;</span>Reading and slicing times</a></span></li></ul></li><li><span><a href=\"#Resampling-time-series-data\" data-toc-modified-id=\"Resampling-time-series-data-3.3\"><span class=\"toc-item-num\">3.3&nbsp;&nbsp;</span>Resampling time series data</a></span><ul class=\"toc-item\"><li><span><a href=\"#Resampling\" data-toc-modified-id=\"Resampling-3.3.1\"><span class=\"toc-item-num\">3.3.1&nbsp;&nbsp;</span>Resampling</a></span></li><li><span><a href=\"#Aggregating-means\" data-toc-modified-id=\"Aggregating-means-3.3.2\"><span class=\"toc-item-num\">3.3.2&nbsp;&nbsp;</span>Aggregating means</a></span></li><li><span><a href=\"#Verifying\" data-toc-modified-id=\"Verifying-3.3.3\"><span class=\"toc-item-num\">3.3.3&nbsp;&nbsp;</span>Verifying</a></span></li><li><span><a href=\"#Method-chaining\" data-toc-modified-id=\"Method-chaining-3.3.4\"><span class=\"toc-item-num\">3.3.4&nbsp;&nbsp;</span>Method chaining</a></span></li><li><span><a href=\"#Resampling-strings\" data-toc-modified-id=\"Resampling-strings-3.3.5\"><span class=\"toc-item-num\">3.3.5&nbsp;&nbsp;</span>Resampling strings</a></span></li><li><span><a href=\"#Resampling-frequencies\" data-toc-modified-id=\"Resampling-frequencies-3.3.6\"><span class=\"toc-item-num\">3.3.6&nbsp;&nbsp;</span>Resampling frequencies</a></span></li><li><span><a href=\"#Multiplying-frequencies\" data-toc-modified-id=\"Multiplying-frequencies-3.3.7\"><span class=\"toc-item-num\">3.3.7&nbsp;&nbsp;</span>Multiplying frequencies</a></span></li><li><span><a href=\"#Upsampling\" data-toc-modified-id=\"Upsampling-3.3.8\"><span class=\"toc-item-num\">3.3.8&nbsp;&nbsp;</span>Upsampling</a></span></li><li><span><a href=\"#Upsampling-and-filling\" data-toc-modified-id=\"Upsampling-and-filling-3.3.9\"><span class=\"toc-item-num\">3.3.9&nbsp;&nbsp;</span>Upsampling and filling</a></span></li></ul></li><li><span><a href=\"#Manipulating-time-series-data\" data-toc-modified-id=\"Manipulating-time-series-data-3.4\"><span class=\"toc-item-num\">3.4&nbsp;&nbsp;</span>Manipulating time series data</a></span><ul class=\"toc-item\"><li><span><a href=\"#Sales-data\" data-toc-modified-id=\"Sales-data-3.4.1\"><span class=\"toc-item-num\">3.4.1&nbsp;&nbsp;</span>Sales data</a></span></li><li><span><a href=\"#String-methods\" data-toc-modified-id=\"String-methods-3.4.2\"><span class=\"toc-item-num\">3.4.2&nbsp;&nbsp;</span>String methods</a></span><ul class=\"toc-item\"><li><span><a href=\"#Capitalize\" data-toc-modified-id=\"Capitalize-3.4.2.1\"><span class=\"toc-item-num\">3.4.2.1&nbsp;&nbsp;</span>Capitalize</a></span></li><li><span><a href=\"#Lowercase\" data-toc-modified-id=\"Lowercase-3.4.2.2\"><span class=\"toc-item-num\">3.4.2.2&nbsp;&nbsp;</span>Lowercase</a></span></li><li><span><a href=\"#Find-a-pattern\" data-toc-modified-id=\"Find-a-pattern-3.4.2.3\"><span class=\"toc-item-num\">3.4.2.3&nbsp;&nbsp;</span>Find a pattern</a></span></li><li><span><a href=\"#Substring-matching\" data-toc-modified-id=\"Substring-matching-3.4.2.4\"><span class=\"toc-item-num\">3.4.2.4&nbsp;&nbsp;</span>Substring matching</a></span></li></ul></li><li><span><a href=\"#Boolean-arithmetic\" data-toc-modified-id=\"Boolean-arithmetic-3.4.3\"><span class=\"toc-item-num\">3.4.3&nbsp;&nbsp;</span>Boolean arithmetic</a></span></li><li><span><a href=\"#Datetimelike-properties\" data-toc-modified-id=\"Datetimelike-properties-3.4.4\"><span class=\"toc-item-num\">3.4.4&nbsp;&nbsp;</span>Datetimelike properties</a></span><ul class=\"toc-item\"><li><span><a href=\"#Choose-a-certain-time\" data-toc-modified-id=\"Choose-a-certain-time-3.4.4.1\"><span class=\"toc-item-num\">3.4.4.1&nbsp;&nbsp;</span>Choose a certain time</a></span></li><li><span><a href=\"#Set-timezone\" data-toc-modified-id=\"Set-timezone-3.4.4.2\"><span class=\"toc-item-num\">3.4.4.2&nbsp;&nbsp;</span>Set timezone</a></span></li><li><span><a href=\"#Convert-timezone\" data-toc-modified-id=\"Convert-timezone-3.4.4.3\"><span class=\"toc-item-num\">3.4.4.3&nbsp;&nbsp;</span>Convert timezone</a></span></li><li><span><a href=\"#Method-chaining\" data-toc-modified-id=\"Method-chaining-3.4.4.4\"><span class=\"toc-item-num\">3.4.4.4&nbsp;&nbsp;</span>Method chaining</a></span></li></ul></li><li><span><a href=\"#World-population\" data-toc-modified-id=\"World-population-3.4.5\"><span class=\"toc-item-num\">3.4.5&nbsp;&nbsp;</span>World population</a></span><ul class=\"toc-item\"><li><span><a href=\"#Upsample-population\" data-toc-modified-id=\"Upsample-population-3.4.5.1\"><span class=\"toc-item-num\">3.4.5.1&nbsp;&nbsp;</span>Upsample population</a></span></li><li><span><a href=\"#Interpolate-missing-data\" data-toc-modified-id=\"Interpolate-missing-data-3.4.5.2\"><span class=\"toc-item-num\">3.4.5.2&nbsp;&nbsp;</span>Interpolate missing data</a></span></li></ul></li></ul></li></ul></li><li><span><a href=\"#Case-Study---Sunlight-in-Austin\" data-toc-modified-id=\"Case-Study---Sunlight-in-Austin-4\"><span class=\"toc-item-num\">4&nbsp;&nbsp;</span><strong>Case Study - Sunlight in Austin</strong></a></span></li></ul></div>"
   ]
  },
  {
   "cell_type": "markdown",
   "metadata": {},
   "source": [
    "# __Exploratory data analysis__"
   ]
  },
  {
   "cell_type": "markdown",
   "metadata": {},
   "source": [
    "__Разведочный анализ данных__ (_exploratory data analysis_ (EDA)) — анализ основных свойств данных, нахождение в них общих закономерностей, распределений и аномалий, построение начальных моделей, зачастую с использованием инструментов визуализации."
   ]
  },
  {
   "cell_type": "markdown",
   "metadata": {},
   "source": [
    "## Visual exploratory data analysis"
   ]
  },
  {
   "cell_type": "code",
   "execution_count": null,
   "metadata": {},
   "outputs": [],
   "source": [
    "iris_names = ['sepal_length', 'sepal_width', 'petal_length', 'petal_width', 'species']\n",
    "iris = pd.read_csv('iris.csv', header = None, names = iris_names)\n",
    "display(iris.shape)\n",
    "display(iris.head())"
   ]
  },
  {
   "cell_type": "code",
   "execution_count": null,
   "metadata": {
    "scrolled": true
   },
   "outputs": [],
   "source": [
    "iris.plot(x='sepal_length', y='sepal_width')\n",
    "plt.show()"
   ]
  },
  {
   "cell_type": "markdown",
   "metadata": {},
   "source": [
    "### Scatter plot"
   ]
  },
  {
   "cell_type": "code",
   "execution_count": null,
   "metadata": {},
   "outputs": [],
   "source": [
    "iris.plot(x='sepal_length', y='sepal_width', kind='scatter')\n",
    "plt.xlabel('sepal length (cm)')\n",
    "plt.ylabel('sepal width (cm)')\n",
    "plt.show()"
   ]
  },
  {
   "cell_type": "markdown",
   "metadata": {},
   "source": [
    "### Box plot"
   ]
  },
  {
   "cell_type": "code",
   "execution_count": null,
   "metadata": {},
   "outputs": [],
   "source": [
    "iris.plot(y='sepal_length', kind='box')\n",
    "plt.ylabel('sepal width (cm)')\n",
    "plt.show()"
   ]
  },
  {
   "cell_type": "markdown",
   "metadata": {},
   "source": [
    "### Histogram"
   ]
  },
  {
   "cell_type": "code",
   "execution_count": null,
   "metadata": {},
   "outputs": [],
   "source": [
    "iris.plot(y='sepal_length', kind='hist')\n",
    "plt.xlabel('sepal length (cm)')\n",
    "plt.show()"
   ]
  },
  {
   "cell_type": "code",
   "execution_count": null,
   "metadata": {},
   "outputs": [],
   "source": [
    "iris.plot(y='sepal_length', kind='hist', bins=30, range=(4,8), density=True)\n",
    "plt.xlabel('Sepal length (callablem)')\n",
    "plt.show()"
   ]
  },
  {
   "cell_type": "markdown",
   "metadata": {},
   "source": [
    "### Cumulative distribution function (CDF)"
   ]
  },
  {
   "cell_type": "code",
   "execution_count": null,
   "metadata": {},
   "outputs": [],
   "source": [
    "iris.plot(y='sepal_length', kind='hist', bins=30, range=(4,8), density=True, cumulative=True, legend=False)\n",
    "plt.xlabel('Sepal length (cm)')\n",
    "plt.title('Cumulative distribution function (CDF)')\n",
    "plt.show()"
   ]
  },
  {
   "cell_type": "markdown",
   "metadata": {},
   "source": [
    "__Three different DataFrame plot idioms__\n",
    "\n",
    "- iris.plot(kind='hist')\n",
    "- iris.plt.hist()\n",
    "- iris.hist()"
   ]
  },
  {
   "cell_type": "code",
   "execution_count": null,
   "metadata": {},
   "outputs": [],
   "source": [
    "df['CountryCode'].unique()"
   ]
  },
  {
   "cell_type": "code",
   "execution_count": null,
   "metadata": {},
   "outputs": [],
   "source": [
    "# Filtering by species\n",
    "df['CountryCode'].unique().shape\n",
    "uzb = df['CountryCode'] == 'UZB'\n",
    "rus = df['CountryCode'] == 'RUS'\n",
    "nor = df['CountryCode'] =='NOR'\n",
    "swe = df['CountryCode'] =='SWE'\n",
    "den = df['CountryCode'] =='DNK'\n",
    "can = df['CountryCode'] =='CAN'\n",
    "pol = df['CountryCode'] == 'POL'\n",
    "aus = df['CountryCode'] == 'AUS'\n",
    "nzl = df['CountryCode'] == 'NZL'\n",
    "aut = df['CountryCode'] == 'AUT'\n",
    "ger = df['CountryCode'] == 'DEU'\n",
    "fin = df['CountryCode'] == 'FIN'\n",
    "swt = df['CountryCode'] == 'CHE'\n",
    "bel = df['CountryCode'] == 'BEL'\n",
    "uzbekistan = df.loc[uzb, :]\n",
    "russia = df.loc[rus, :]\n",
    "norway = df.loc[nor, :]\n",
    "sweden = df.loc[swe, :]\n",
    "denmark =df.loc[den, :]\n",
    "canada = df.loc[can, :]\n",
    "poland = df.loc[pol, :]\n",
    "australia = df.loc[aus, :]\n",
    "new_zealand = df.loc[nzl, :]\n",
    "austria = df.loc[aut, :]\n",
    "germany = df.loc[ger, :]\n",
    "finland = df.loc[fin, :]\n",
    "switzerland = df.loc[swt, :]\n",
    "belgium = df.loc[bel, :]\n",
    "display(uzbekistan.head())\n",
    "display(russia.head())"
   ]
  },
  {
   "cell_type": "code",
   "execution_count": null,
   "metadata": {},
   "outputs": [],
   "source": [
    "uzbekistan.plot(y = 'Total Population', x = 'Year')"
   ]
  },
  {
   "cell_type": "code",
   "execution_count": null,
   "metadata": {},
   "outputs": [],
   "source": [
    "russia.loc[rus,:].head()"
   ]
  },
  {
   "cell_type": "code",
   "execution_count": null,
   "metadata": {},
   "outputs": [],
   "source": [
    "russia.plot(x = 'Year', y = 'Total Population')"
   ]
  },
  {
   "cell_type": "code",
   "execution_count": null,
   "metadata": {},
   "outputs": [],
   "source": [
    "norway.plot(x = 'Year', y = 'Total Population')"
   ]
  },
  {
   "cell_type": "code",
   "execution_count": null,
   "metadata": {},
   "outputs": [],
   "source": [
    "sweden.plot(x = 'Year', y = 'Total Population')"
   ]
  },
  {
   "cell_type": "code",
   "execution_count": null,
   "metadata": {},
   "outputs": [],
   "source": [
    "denmark.plot(x = 'Year', y = 'Total Population')"
   ]
  },
  {
   "cell_type": "code",
   "execution_count": null,
   "metadata": {},
   "outputs": [],
   "source": [
    "canada.plot(x = 'Year', y = 'Total Population')"
   ]
  },
  {
   "cell_type": "code",
   "execution_count": null,
   "metadata": {},
   "outputs": [],
   "source": [
    "poland.plot(x = 'Year', y = 'Total Population', xlim = 1960)"
   ]
  },
  {
   "cell_type": "code",
   "execution_count": null,
   "metadata": {},
   "outputs": [],
   "source": [
    "australia.plot(x = 'Year', y = 'Total Population', title = 'Austalia') "
   ]
  },
  {
   "cell_type": "code",
   "execution_count": null,
   "metadata": {},
   "outputs": [],
   "source": [
    "new_zealand.plot(x = 'Year', y = 'Total Population') "
   ]
  },
  {
   "cell_type": "code",
   "execution_count": null,
   "metadata": {},
   "outputs": [],
   "source": [
    "austria.plot(x = 'Year', y = 'Total Population') "
   ]
  },
  {
   "cell_type": "code",
   "execution_count": null,
   "metadata": {},
   "outputs": [],
   "source": [
    "germany.plot(x = 'Year', y = 'Total Population')"
   ]
  },
  {
   "cell_type": "code",
   "execution_count": null,
   "metadata": {},
   "outputs": [],
   "source": [
    "finland.plot(x = 'Year', y = 'Total Population') "
   ]
  },
  {
   "cell_type": "code",
   "execution_count": null,
   "metadata": {},
   "outputs": [],
   "source": [
    "switzerland.plot(x = 'Year', y = 'Total Population')"
   ]
  },
  {
   "cell_type": "code",
   "execution_count": null,
   "metadata": {
    "scrolled": true
   },
   "outputs": [],
   "source": [
    "belgium.plot(x = 'Year', y = 'Total Population')"
   ]
  },
  {
   "cell_type": "markdown",
   "metadata": {},
   "source": [
    "## pandas scatter plots"
   ]
  },
  {
   "cell_type": "code",
   "execution_count": null,
   "metadata": {},
   "outputs": [],
   "source": [
    "auto = pd.read_csv('auto-mpg.csv')\n",
    "auto.head()"
   ]
  },
  {
   "cell_type": "markdown",
   "metadata": {},
   "source": [
    "### Normalizing data"
   ]
  },
  {
   "cell_type": "code",
   "execution_count": null,
   "metadata": {},
   "outputs": [],
   "source": [
    "sizes = auto['weight']\n",
    "max_size = sizes.max()\n",
    "weight = sizes/max_size\n",
    "weight.head()"
   ]
  },
  {
   "cell_type": "markdown",
   "metadata": {},
   "source": [
    "### Plotting a scatter"
   ]
  },
  {
   "cell_type": "code",
   "execution_count": null,
   "metadata": {
    "scrolled": true
   },
   "outputs": [],
   "source": [
    "auto.plot(kind='scatter', x='hp', y='mpg', s=weight*50)"
   ]
  },
  {
   "cell_type": "markdown",
   "metadata": {},
   "source": [
    "## pandas box plots"
   ]
  },
  {
   "cell_type": "code",
   "execution_count": null,
   "metadata": {},
   "outputs": [],
   "source": [
    "cols = ['weight', 'mpg']\n",
    "auto[cols].plot(kind='box', subplots = True)\n",
    "plt.show()"
   ]
  },
  {
   "cell_type": "markdown",
   "metadata": {},
   "source": [
    "## pandas hist, pdf and cdf"
   ]
  },
  {
   "cell_type": "markdown",
   "metadata": {},
   "source": [
    "Pandas relies on the .hist() method to not only generate histograms, but also plots of __probability density functions (PDFs) and cumulative density functions (CDFs)__."
   ]
  },
  {
   "cell_type": "code",
   "execution_count": null,
   "metadata": {
    "scrolled": true
   },
   "outputs": [],
   "source": [
    "tips = pd.read_csv('tips.csv')\n",
    "tips.head()"
   ]
  },
  {
   "cell_type": "code",
   "execution_count": null,
   "metadata": {},
   "outputs": [],
   "source": [
    "# This formats the plots such that they appear on separate rows\n",
    "fig, axes = plt.subplots(nrows=2, ncols=1)\n",
    "\n",
    "#PDF - probability density functions\n",
    "tips.fraction.plot(ax=axes[0], kind='hist', bins=30, density=True, range=(0,.3))\n",
    "\n",
    "#CDF - cumulative density functions\n",
    "tips.fraction.plot(ax=axes[1], kind='hist', bins=30, density=True, cumulative=True, range=(0,.3))\n",
    "plt.show()"
   ]
  },
  {
   "cell_type": "markdown",
   "metadata": {},
   "source": [
    "## Statistical exploratory data analysis"
   ]
  },
  {
   "cell_type": "code",
   "execution_count": null,
   "metadata": {},
   "outputs": [],
   "source": [
    "iris.describe()"
   ]
  },
  {
   "cell_type": "markdown",
   "metadata": {},
   "source": [
    "### Counts"
   ]
  },
  {
   "cell_type": "code",
   "execution_count": null,
   "metadata": {},
   "outputs": [],
   "source": [
    "iris['sepal_length'].count() #Applied to Series"
   ]
  },
  {
   "cell_type": "code",
   "execution_count": null,
   "metadata": {},
   "outputs": [],
   "source": [
    "iris['sepal_width'].count() #Applied to Series"
   ]
  },
  {
   "cell_type": "code",
   "execution_count": null,
   "metadata": {},
   "outputs": [],
   "source": [
    "iris[['sepal_length', 'sepal_width']].count() #Applied to DataFrame"
   ]
  },
  {
   "cell_type": "code",
   "execution_count": null,
   "metadata": {},
   "outputs": [],
   "source": [
    "type(iris[['sepal_length', 'sepal_width']].count()) #returns Series"
   ]
  },
  {
   "cell_type": "markdown",
   "metadata": {},
   "source": [
    "### Averages"
   ]
  },
  {
   "cell_type": "code",
   "execution_count": null,
   "metadata": {},
   "outputs": [],
   "source": [
    "iris['sepal_length'].mean() #Applied to Series"
   ]
  },
  {
   "cell_type": "code",
   "execution_count": null,
   "metadata": {},
   "outputs": [],
   "source": [
    "iris.mean()  #Applied to entire DataFrame"
   ]
  },
  {
   "cell_type": "markdown",
   "metadata": {},
   "source": [
    "### Standart deviations"
   ]
  },
  {
   "cell_type": "code",
   "execution_count": null,
   "metadata": {},
   "outputs": [],
   "source": [
    "iris.std()"
   ]
  },
  {
   "cell_type": "markdown",
   "metadata": {},
   "source": [
    "### Medians"
   ]
  },
  {
   "cell_type": "code",
   "execution_count": null,
   "metadata": {},
   "outputs": [],
   "source": [
    "iris.median()"
   ]
  },
  {
   "cell_type": "markdown",
   "metadata": {},
   "source": [
    "### Medians & 0.5 quantiles"
   ]
  },
  {
   "cell_type": "code",
   "execution_count": null,
   "metadata": {},
   "outputs": [],
   "source": [
    "# Median = 0.5 quantiles\n",
    "q = 0.5  \n",
    "iris.quantile(q)"
   ]
  },
  {
   "cell_type": "code",
   "execution_count": null,
   "metadata": {},
   "outputs": [],
   "source": [
    "q75 = 0.75  \n",
    "iris.quantile(q75)"
   ]
  },
  {
   "cell_type": "code",
   "execution_count": null,
   "metadata": {},
   "outputs": [],
   "source": [
    "q25 = 0.25 \n",
    "iris.quantile(q25) "
   ]
  },
  {
   "cell_type": "code",
   "execution_count": null,
   "metadata": {},
   "outputs": [],
   "source": [
    "iris.quantile() #default = 0.5 - median"
   ]
  },
  {
   "cell_type": "code",
   "execution_count": null,
   "metadata": {},
   "outputs": [],
   "source": [
    "type(iris.quantile())"
   ]
  },
  {
   "cell_type": "markdown",
   "metadata": {},
   "source": [
    "### Inter-quartile range (IQR)"
   ]
  },
  {
   "cell_type": "code",
   "execution_count": null,
   "metadata": {},
   "outputs": [],
   "source": [
    "q_both = [0.25, 0.75]\n",
    "iris.quantile(q_both)"
   ]
  },
  {
   "cell_type": "code",
   "execution_count": null,
   "metadata": {},
   "outputs": [],
   "source": [
    "type(iris.quantile(q_both))"
   ]
  },
  {
   "cell_type": "markdown",
   "metadata": {},
   "source": [
    "### Ranges"
   ]
  },
  {
   "cell_type": "code",
   "execution_count": null,
   "metadata": {},
   "outputs": [],
   "source": [
    "iris.min()"
   ]
  },
  {
   "cell_type": "code",
   "execution_count": null,
   "metadata": {},
   "outputs": [],
   "source": [
    "iris.max()"
   ]
  },
  {
   "cell_type": "markdown",
   "metadata": {},
   "source": [
    "### Box plots"
   ]
  },
  {
   "cell_type": "code",
   "execution_count": null,
   "metadata": {},
   "outputs": [],
   "source": [
    "iris.plot(kind='box')\n",
    "plt.ylabel('cm')\n",
    "plt.show()"
   ]
  },
  {
   "cell_type": "markdown",
   "metadata": {},
   "source": [
    "## Bachelor's degrees awarded to women"
   ]
  },
  {
   "cell_type": "code",
   "execution_count": null,
   "metadata": {},
   "outputs": [],
   "source": [
    "degree = pd.read_csv('percent-bachelors-degrees-women-usa.csv')\n",
    "degree.head()"
   ]
  },
  {
   "cell_type": "code",
   "execution_count": null,
   "metadata": {},
   "outputs": [],
   "source": [
    "degree['Engineering'].min()"
   ]
  },
  {
   "cell_type": "code",
   "execution_count": null,
   "metadata": {},
   "outputs": [],
   "source": [
    "degree['Engineering'].max()"
   ]
  },
  {
   "cell_type": "markdown",
   "metadata": {},
   "source": [
    "### Mean across all columns per row"
   ]
  },
  {
   "cell_type": "code",
   "execution_count": null,
   "metadata": {
    "scrolled": false
   },
   "outputs": [],
   "source": [
    "# use the .mean() method with the keyword argument axis='columns'. This computes the mean across all columns per row.\n",
    "mean = degree.mean(axis = 'columns')\n",
    "mean.plot()\n",
    "plt.show()"
   ]
  },
  {
   "cell_type": "markdown",
   "metadata": {},
   "source": [
    "## Median vs mean"
   ]
  },
  {
   "cell_type": "code",
   "execution_count": null,
   "metadata": {},
   "outputs": [],
   "source": [
    "titanic = pd.read_csv('titanic.csv', delimiter = ',')\n",
    "titanic.head(2)"
   ]
  },
  {
   "cell_type": "code",
   "execution_count": null,
   "metadata": {},
   "outputs": [],
   "source": [
    "titanic.shape"
   ]
  },
  {
   "cell_type": "code",
   "execution_count": null,
   "metadata": {},
   "outputs": [],
   "source": [
    "titanic.columns"
   ]
  },
  {
   "cell_type": "code",
   "execution_count": null,
   "metadata": {},
   "outputs": [],
   "source": [
    "titanic.describe()"
   ]
  },
  {
   "cell_type": "code",
   "execution_count": null,
   "metadata": {},
   "outputs": [],
   "source": [
    "titanic.fare.describe()"
   ]
  },
  {
   "cell_type": "code",
   "execution_count": null,
   "metadata": {},
   "outputs": [],
   "source": [
    "titanic.fare.plot(kind = 'box')"
   ]
  },
  {
   "cell_type": "markdown",
   "metadata": {},
   "source": [
    "## Quantiles"
   ]
  },
  {
   "cell_type": "code",
   "execution_count": null,
   "metadata": {},
   "outputs": [],
   "source": [
    "life = pd.read_csv('life_expectancy_at_birth.csv')\n",
    "life.head()"
   ]
  },
  {
   "cell_type": "code",
   "execution_count": null,
   "metadata": {},
   "outputs": [],
   "source": [
    "life['2015'].count()"
   ]
  },
  {
   "cell_type": "code",
   "execution_count": null,
   "metadata": {},
   "outputs": [],
   "source": [
    "life.quantile([0.05, 0.95])"
   ]
  },
  {
   "cell_type": "code",
   "execution_count": null,
   "metadata": {},
   "outputs": [],
   "source": [
    "years = ['1800', '1850', '1900', '1950', '2000']\n",
    "life[years].plot(kind = 'box')"
   ]
  },
  {
   "cell_type": "markdown",
   "metadata": {},
   "source": [
    "## Standard deviation of life expectancy"
   ]
  },
  {
   "cell_type": "code",
   "execution_count": null,
   "metadata": {},
   "outputs": [],
   "source": [
    "life['1800'].std()"
   ]
  },
  {
   "cell_type": "code",
   "execution_count": null,
   "metadata": {},
   "outputs": [],
   "source": [
    "life['1900'].std()"
   ]
  },
  {
   "cell_type": "code",
   "execution_count": null,
   "metadata": {},
   "outputs": [],
   "source": [
    "life['2000'].std()"
   ]
  },
  {
   "cell_type": "markdown",
   "metadata": {},
   "source": [
    "## Separating populations"
   ]
  },
  {
   "cell_type": "markdown",
   "metadata": {},
   "source": [
    "### Describe species column"
   ]
  },
  {
   "cell_type": "code",
   "execution_count": null,
   "metadata": {},
   "outputs": [],
   "source": [
    "iris.head()"
   ]
  },
  {
   "cell_type": "code",
   "execution_count": null,
   "metadata": {
    "scrolled": true
   },
   "outputs": [],
   "source": [
    "iris['species'].describe()"
   ]
  },
  {
   "cell_type": "markdown",
   "metadata": {},
   "source": [
    "### Unique & factors"
   ]
  },
  {
   "cell_type": "code",
   "execution_count": null,
   "metadata": {},
   "outputs": [],
   "source": [
    "iris['species'].unique()"
   ]
  },
  {
   "cell_type": "markdown",
   "metadata": {},
   "source": [
    "### Filtering by species"
   ]
  },
  {
   "cell_type": "code",
   "execution_count": null,
   "metadata": {},
   "outputs": [],
   "source": [
    "indices = iris['species'] == 'Iris-setosa'\n",
    "setosa = iris.loc[indices, :] #extract new DataFrame\n",
    "setosa.head()"
   ]
  },
  {
   "cell_type": "code",
   "execution_count": null,
   "metadata": {},
   "outputs": [],
   "source": [
    "indices = iris['species'] == 'Iris-versicolor'\n",
    "versicolor = iris.loc[indices, :]\n",
    "versicolor.head()"
   ]
  },
  {
   "cell_type": "code",
   "execution_count": null,
   "metadata": {},
   "outputs": [],
   "source": [
    "indices = iris['species'] == 'Iris-virginica'\n",
    "virginica = iris.loc[indices, :]\n",
    "virginica.head()"
   ]
  },
  {
   "cell_type": "markdown",
   "metadata": {},
   "source": [
    "### Checking species"
   ]
  },
  {
   "cell_type": "code",
   "execution_count": null,
   "metadata": {},
   "outputs": [],
   "source": [
    "setosa['species'].unique()"
   ]
  },
  {
   "cell_type": "code",
   "execution_count": null,
   "metadata": {},
   "outputs": [],
   "source": [
    "virginica['species'].unique()"
   ]
  },
  {
   "cell_type": "code",
   "execution_count": null,
   "metadata": {},
   "outputs": [],
   "source": [
    "versicolor['species'].unique()"
   ]
  },
  {
   "cell_type": "code",
   "execution_count": null,
   "metadata": {},
   "outputs": [],
   "source": [
    "#deleting a column\n",
    "del setosa['species'], virginica['species'], versicolor['species'] "
   ]
  },
  {
   "cell_type": "code",
   "execution_count": null,
   "metadata": {},
   "outputs": [],
   "source": [
    "setosa.head(2)"
   ]
  },
  {
   "cell_type": "code",
   "execution_count": null,
   "metadata": {},
   "outputs": [],
   "source": [
    "virginica.head(2)"
   ]
  },
  {
   "cell_type": "code",
   "execution_count": null,
   "metadata": {},
   "outputs": [],
   "source": [
    "versicolor.head(2)"
   ]
  },
  {
   "cell_type": "markdown",
   "metadata": {},
   "source": [
    "### Visual EDA"
   ]
  },
  {
   "cell_type": "code",
   "execution_count": null,
   "metadata": {},
   "outputs": [],
   "source": [
    "iris.plot(kind='hist', bins=50, range=(0,8), alpha=0.3)\n",
    "plt.title('Entire iris data set')\n",
    "plt.xlabel('[cm]')\n",
    "plt.show()"
   ]
  },
  {
   "cell_type": "code",
   "execution_count": null,
   "metadata": {},
   "outputs": [],
   "source": [
    "setosa.plot(kind='hist', bins=50, range=(0,8), alpha=0.3)\n",
    "plt.title('Setosa data set')\n",
    "plt.xlabel('[cm]')\n",
    "plt.show()"
   ]
  },
  {
   "cell_type": "code",
   "execution_count": null,
   "metadata": {},
   "outputs": [],
   "source": [
    "versicolor.plot(kind='hist', bins=50, range=(0,8), alpha=0.3)\n",
    "plt.title('Versicolor data set')\n",
    "plt.xlabel('[cm]')\n",
    "plt.show()"
   ]
  },
  {
   "cell_type": "code",
   "execution_count": null,
   "metadata": {},
   "outputs": [],
   "source": [
    "virginica.plot(kind='hist', bins=50, range=(0,8), alpha=0.3)\n",
    "plt.title('Virginica data set')\n",
    "plt.xlabel('[cm]')\n",
    "plt.show()"
   ]
  },
  {
   "cell_type": "markdown",
   "metadata": {},
   "source": [
    "### Statistical EDA: describe()"
   ]
  },
  {
   "cell_type": "code",
   "execution_count": null,
   "metadata": {},
   "outputs": [],
   "source": [
    "describe_all = iris.describe()\n",
    "describe_all"
   ]
  },
  {
   "cell_type": "code",
   "execution_count": null,
   "metadata": {},
   "outputs": [],
   "source": [
    "describe_setosa = setosa.describe()\n",
    "describe_versicolor = versicolor.describe()\n",
    "describe_virginica = virginica.describe()"
   ]
  },
  {
   "cell_type": "markdown",
   "metadata": {},
   "source": [
    "### Computing errors"
   ]
  },
  {
   "cell_type": "code",
   "execution_count": null,
   "metadata": {},
   "outputs": [],
   "source": [
    "errors_setosa = 100 * np.abs(describe_setosa - describe_all)\n",
    "errors_setosa = errors_setosa/describe_setosa\n",
    "errors_setosa"
   ]
  },
  {
   "cell_type": "code",
   "execution_count": null,
   "metadata": {},
   "outputs": [],
   "source": [
    "errors_versicolor = 100 * np.abs(describe_versicolor - describe_all)\n",
    "errors_versicolor = errors_versicolor/describe_versicolor\n",
    "errors_versicolor"
   ]
  },
  {
   "cell_type": "code",
   "execution_count": null,
   "metadata": {
    "scrolled": true
   },
   "outputs": [],
   "source": [
    "errors_virginica = 100 * np.abs(describe_virginica - describe_all)\n",
    "errors_virginica = errors_virginica/describe_virginica \n",
    "errors_virginica"
   ]
  },
  {
   "cell_type": "code",
   "execution_count": null,
   "metadata": {},
   "outputs": [],
   "source": [
    "mpg = pd.read_csv('mpg.csv')\n",
    "del mpg['Unnamed: 0'] \n",
    "mpg.head()"
   ]
  },
  {
   "cell_type": "code",
   "execution_count": null,
   "metadata": {},
   "outputs": [],
   "source": [
    "mpg.shape"
   ]
  }
 ],
 "metadata": {
  "hide_input": false,
  "kernelspec": {
   "display_name": "Python 3",
   "language": "python",
   "name": "python3"
  },
  "language_info": {
   "codemirror_mode": {
    "name": "ipython",
    "version": 3
   },
   "file_extension": ".py",
   "mimetype": "text/x-python",
   "name": "python",
   "nbconvert_exporter": "python",
   "pygments_lexer": "ipython3",
   "version": "3.7.4"
  },
  "latex_envs": {
   "LaTeX_envs_menu_present": true,
   "autoclose": false,
   "autocomplete": true,
   "bibliofile": "biblio.bib",
   "cite_by": "apalike",
   "current_citInitial": 1,
   "eqLabelWithNumbers": true,
   "eqNumInitial": 1,
   "hotkeys": {
    "equation": "Ctrl-E",
    "itemize": "Ctrl-I"
   },
   "labels_anchors": false,
   "latex_user_defs": false,
   "report_style_numbering": false,
   "user_envs_cfg": false
  },
  "toc": {
   "base_numbering": 1,
   "nav_menu": {},
   "number_sections": true,
   "sideBar": true,
   "skip_h1_title": false,
   "title_cell": "Table of Contents",
   "title_sidebar": "Contents",
   "toc_cell": true,
   "toc_position": {
    "height": "285px",
    "left": "61px",
    "top": "66.281px",
    "width": "221.25px"
   },
   "toc_section_display": true,
   "toc_window_display": true
  },
  "varInspector": {
   "cols": {
    "lenName": 16,
    "lenType": 16,
    "lenVar": 40
   },
   "kernels_config": {
    "python": {
     "delete_cmd_postfix": "",
     "delete_cmd_prefix": "del ",
     "library": "var_list.py",
     "varRefreshCmd": "print(var_dic_list())"
    },
    "r": {
     "delete_cmd_postfix": ") ",
     "delete_cmd_prefix": "rm(",
     "library": "var_list.r",
     "varRefreshCmd": "cat(var_dic_list()) "
    }
   },
   "position": {
    "height": "537px",
    "left": "273px",
    "right": "20px",
    "top": "175px",
    "width": "624px"
   },
   "types_to_exclude": [
    "module",
    "function",
    "builtin_function_or_method",
    "instance",
    "_Feature"
   ],
   "window_display": false
  }
 },
 "nbformat": 4,
 "nbformat_minor": 2
}
